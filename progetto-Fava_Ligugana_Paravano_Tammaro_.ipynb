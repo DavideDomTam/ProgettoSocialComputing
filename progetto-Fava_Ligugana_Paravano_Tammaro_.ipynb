{
 "cells": [
  {
   "cell_type": "code",
   "execution_count": 1,
   "id": "initial_id",
   "metadata": {
    "collapsed": true,
    "ExecuteTime": {
     "end_time": "2023-11-24T09:56:01.525393Z",
     "start_time": "2023-11-24T09:55:50.811905Z"
    }
   },
   "outputs": [],
   "source": [
    "import pandas as pd\n",
    "import networkx as nx\n",
    "from pyvis import network as net\n",
    "from pyvis.network import Network\n",
    "import random\n",
    "\n",
    "from serpapi import GoogleScholarSearch\n",
    "import json\n",
    "import requests"
   ]
  },
  {
   "cell_type": "markdown",
   "source": [
    "## ES 1\n",
    "A partire da nodes.csv, utilizzare la libreria Python SerpAPI per scaricare, per ciascuno dei 7 autori elencati:\n",
    "- author_id: ID identificativo del profilo Google Scholar\n",
    "- cited_by: numero totale di citazioni ricevute\n",
    "- interests: elenco degli interessi di ciascun autore\n",
    "Sfruttando la libreria Python Pandas, usare la struttura dati DataFrame per aggiornare il file originale con apposite colonne e memorizzarlo nella cartella /data."
   ],
   "metadata": {
    "collapsed": false
   },
   "id": "efe3d2f3a4b86336"
  },
  {
   "cell_type": "code",
   "execution_count": 12,
   "outputs": [],
   "source": [
    "apikey ={\n",
    "    'SERP_API_KEY_FAVA': \"1ae8a37d9b3dabb5732fcd7a9cb57410194766951242a4f4ac5bbd9fb7012048\", \n",
    "    'SERP_API_KEY_LIGUGNANA': \"11a077a8bee5bb1c2a25af914046bc7ce53050b3416e5720239e43223c63374b\",\n",
    "    'SERP_API_KEY_PARAVANO' :  \"\",\n",
    "    'SERP_API_KEY_TAMMARO': \"6eaf5a9a0d2eef8bf026a947a3dffbb0d31cb1d6e122b81c0e6062f6b23a4c40\"\n",
    "}\n",
    "\n",
    "def key_choice():\n",
    "    return random.choice(list(apikey.items()))[1]\n",
    "#for che cambi ala key se da errore la chiamata\n"
   ],
   "metadata": {
    "collapsed": false,
    "ExecuteTime": {
     "end_time": "2023-11-24T09:59:13.148010Z",
     "start_time": "2023-11-24T09:59:13.134241Z"
    }
   },
   "id": "5a2d7124c3f1ac47"
  },
  {
   "cell_type": "code",
   "execution_count": 13,
   "outputs": [
    {
     "data": {
      "text/plain": "'11a077a8bee5bb1c2a25af914046bc7ce53050b3416e5720239e43223c63374b'"
     },
     "execution_count": 13,
     "metadata": {},
     "output_type": "execute_result"
    }
   ],
   "source": [
    "key_choice()"
   ],
   "metadata": {
    "collapsed": false,
    "ExecuteTime": {
     "end_time": "2023-11-24T09:59:15.042140Z",
     "start_time": "2023-11-24T09:59:15.027114Z"
    }
   },
   "id": "6da9d8b011953bb9"
  },
  {
   "cell_type": "code",
   "execution_count": 15,
   "outputs": [],
   "source": [
    "def list_profile(apiKey, name, affiliation):\n",
    "    base_url = \"https://serpapi.com/search\"\n",
    "    \n",
    "    params = {\n",
    "        \"api_key\": apiKey,\n",
    "        \"engine\": \"google_scholar_profiles\",\n",
    "        \"hl\": \"en\",\n",
    "        \"mauthors\": name\n",
    "    }      \n",
    "    \n",
    "    response = requests.get(base_url, params = params)\n",
    "    results = response.json()\n",
    "    \n",
    "    authorId = results[\"profiles\"][0][\"author_id\"] #save author_id from of the author\n",
    "    citedBy = results[\"profiles\"][0][\"cited_by\"]\n",
    "    interests = results[\"profiles\"][0][\"interests\"]\n",
    "    \n",
    "    #verifies the affiliation, the profile found is the one that i'm searching for\n",
    "    if results[\"profiles\"][0][\"affiliations\"] == affiliation:\n",
    "       tupla=tuple((name,affiliation,authorId,citedBy,interests))\n",
    "       df = pd.DataFrame({'name': [tupla[0]],\n",
    "                   'affiliations': [tupla[1]],\n",
    "                   'author_id': [tupla[2]],\n",
    "                   'cited_by': [tupla[3]],\n",
    "                   'interests': [tupla[4]]})\n",
    "       return df\n",
    "   \n",
    "        "
   ],
   "metadata": {
    "collapsed": false,
    "ExecuteTime": {
     "end_time": "2023-11-24T10:08:47.100145Z",
     "start_time": "2023-11-24T10:08:47.064723Z"
    }
   },
   "id": "f1dbc1fd71fc6a3c"
  },
  {
   "cell_type": "code",
   "execution_count": null,
   "outputs": [],
   "source": [
    "df_nodes = pd.read_csv(r\"Data/nodes.csv\")\n",
    "for index, row in df_nodes.iterrows():\n",
    "    ##list_profile(apikey, row[0], row[1])\n",
    "    \n",
    "df_nodes2 = df_nodes\n",
    "df_nodes2 = pd.DataFrame(df_nodes2, columns=)\n",
    "\n",
    "\n",
    "authorId = \"author_id\" #save author_id from of the author\n",
    "citedBy = \"cited_by\"\n",
    "interests = \"interests\"\n"
   ],
   "metadata": {
    "collapsed": false
   },
   "id": "d3f0af508e2bc0b4"
  },
  {
   "cell_type": "code",
   "execution_count": null,
   "outputs": [],
   "source": [],
   "metadata": {
    "collapsed": false
   },
   "id": "efbb7cccf229058c"
  },
  {
   "cell_type": "code",
   "execution_count": null,
   "outputs": [],
   "source": [
    "def author_profile(apiKey, authorID, affiliation):\n",
    "    \n",
    "    base_url = \"https://serpapi.com/search\"\n",
    "    \n",
    "    params = {\n",
    "        \"api_key\": apiKey,\n",
    "        \"engine\": \"google_scholar_author\",\n",
    "        \"hl\": \"en\",\n",
    "        \"author_id\": authorID\n",
    "    }\n",
    "    \n",
    "    response = requests.get(base_url, params = params)\n",
    "    results = response.json()\n",
    "    \n",
    "    return #dataset"
   ],
   "metadata": {
    "collapsed": false
   },
   "id": "1fef1b5300f58116"
  },
  {
   "cell_type": "code",
   "execution_count": 16,
   "outputs": [
    {
     "data": {
      "text/plain": "               name                     affiliations     author_id  cited_by  \\\n0  David La Barbera  Università Degli Studi Di Udine  MvN8wKEAAAAJ       139   \n\n                                           interests  \n0  [{'title': 'Computer Science', 'serpapi_link':...  ",
      "text/html": "<div>\n<style scoped>\n    .dataframe tbody tr th:only-of-type {\n        vertical-align: middle;\n    }\n\n    .dataframe tbody tr th {\n        vertical-align: top;\n    }\n\n    .dataframe thead th {\n        text-align: right;\n    }\n</style>\n<table border=\"1\" class=\"dataframe\">\n  <thead>\n    <tr style=\"text-align: right;\">\n      <th></th>\n      <th>name</th>\n      <th>affiliations</th>\n      <th>author_id</th>\n      <th>cited_by</th>\n      <th>interests</th>\n    </tr>\n  </thead>\n  <tbody>\n    <tr>\n      <th>0</th>\n      <td>David La Barbera</td>\n      <td>Università Degli Studi Di Udine</td>\n      <td>MvN8wKEAAAAJ</td>\n      <td>139</td>\n      <td>[{'title': 'Computer Science', 'serpapi_link':...</td>\n    </tr>\n  </tbody>\n</table>\n</div>"
     },
     "execution_count": 16,
     "metadata": {},
     "output_type": "execute_result"
    }
   ],
   "source": [
    "'''\n",
    "df_nodes = pd.read_csv(r\"Data/nodes.csv\")\n",
    "file = open('all_profiles_for_larry_page.json')\n",
    "res = json.load(file)\n",
    "'''\n",
    "\n",
    "list_profile(\"1ae8a37d9b3dabb5732fcd7a9cb57410194766951242a4f4ac5bbd9fb7012048\", 'David La Barbera', 'Università Degli Studi Di Udine')"
   ],
   "metadata": {
    "collapsed": false,
    "ExecuteTime": {
     "end_time": "2023-11-24T10:08:55.606276Z",
     "start_time": "2023-11-24T10:08:51.420352Z"
    }
   },
   "id": "af8f69fe4368948f"
  },
  {
   "cell_type": "code",
   "execution_count": null,
   "outputs": [],
   "source": [],
   "metadata": {
    "collapsed": false
   },
   "id": "663e422dd4abb3c7"
  }
 ],
 "metadata": {
  "kernelspec": {
   "display_name": "Python 3",
   "language": "python",
   "name": "python3"
  },
  "language_info": {
   "codemirror_mode": {
    "name": "ipython",
    "version": 2
   },
   "file_extension": ".py",
   "mimetype": "text/x-python",
   "name": "python",
   "nbconvert_exporter": "python",
   "pygments_lexer": "ipython2",
   "version": "2.7.6"
  }
 },
 "nbformat": 4,
 "nbformat_minor": 5
}
