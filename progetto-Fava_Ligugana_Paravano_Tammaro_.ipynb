{
 "cells": [
  {
   "cell_type": "code",
   "execution_count": 1,
   "id": "initial_id",
   "metadata": {
    "ExecuteTime": {
     "end_time": "2023-11-26T15:47:38.465535Z",
     "start_time": "2023-11-26T15:47:35.310550Z"
    }
   },
   "outputs": [],
   "source": [
    "import pandas as pd\n",
    "import numpy as np\n",
    "import networkx as nx\n",
    "from pyvis import network as net\n",
    "from pyvis.network import Network\n",
    "import random\n",
    "#from serpapi import GoogleScholarSearch\n",
    "import json\n",
    "import requests"
   ]
  },
  {
   "cell_type": "markdown",
   "id": "a7c8419b1b4e97ba",
   "metadata": {
    "collapsed": false,
    "jupyter": {
     "outputs_hidden": false
    }
   },
   "source": [
    "# Creation of DataFarme"
   ]
  },
  {
   "cell_type": "code",
   "execution_count": 13,
   "id": "a9ce5ae54aa56156",
   "metadata": {
    "ExecuteTime": {
     "end_time": "2023-11-26T16:08:29.659260Z",
     "start_time": "2023-11-26T16:08:29.470274Z"
    },
    "collapsed": false,
    "jupyter": {
     "outputs_hidden": false
    }
   },
   "outputs": [
    {
     "ename": "FileNotFoundError",
     "evalue": "[Errno 2] No such file or directory: '/ProgettoSocialComputing/Data/nodes.csv'",
     "output_type": "error",
     "traceback": [
      "\u001B[0;31m---------------------------------------------------------------------------\u001B[0m",
      "\u001B[0;31mFileNotFoundError\u001B[0m                         Traceback (most recent call last)",
      "Cell \u001B[0;32mIn[13], line 2\u001B[0m\n\u001B[1;32m      1\u001B[0m \u001B[38;5;66;03m#import given dataframe nodes\u001B[39;00m\n\u001B[0;32m----> 2\u001B[0m nodes \u001B[38;5;241m=\u001B[39m pd\u001B[38;5;241m.\u001B[39mread_csv(\u001B[38;5;124m\"\u001B[39m\u001B[38;5;124m/ProgettoSocialComputing/Data/nodes.csv\u001B[39m\u001B[38;5;124m\"\u001B[39m)\n\u001B[1;32m      4\u001B[0m nodes[\u001B[38;5;124m'\u001B[39m\u001B[38;5;124mauthor_id\u001B[39m\u001B[38;5;124m'\u001B[39m] \u001B[38;5;241m=\u001B[39m \u001B[38;5;28;01mNone\u001B[39;00m\n\u001B[1;32m      5\u001B[0m nodes[\u001B[38;5;124m'\u001B[39m\u001B[38;5;124mcited_by\u001B[39m\u001B[38;5;124m'\u001B[39m] \u001B[38;5;241m=\u001B[39m \u001B[38;5;28;01mNone\u001B[39;00m \n",
      "File \u001B[0;32m~/anaconda3/lib/python3.11/site-packages/pandas/io/parsers/readers.py:912\u001B[0m, in \u001B[0;36mread_csv\u001B[0;34m(filepath_or_buffer, sep, delimiter, header, names, index_col, usecols, dtype, engine, converters, true_values, false_values, skipinitialspace, skiprows, skipfooter, nrows, na_values, keep_default_na, na_filter, verbose, skip_blank_lines, parse_dates, infer_datetime_format, keep_date_col, date_parser, date_format, dayfirst, cache_dates, iterator, chunksize, compression, thousands, decimal, lineterminator, quotechar, quoting, doublequote, escapechar, comment, encoding, encoding_errors, dialect, on_bad_lines, delim_whitespace, low_memory, memory_map, float_precision, storage_options, dtype_backend)\u001B[0m\n\u001B[1;32m    899\u001B[0m kwds_defaults \u001B[38;5;241m=\u001B[39m _refine_defaults_read(\n\u001B[1;32m    900\u001B[0m     dialect,\n\u001B[1;32m    901\u001B[0m     delimiter,\n\u001B[0;32m   (...)\u001B[0m\n\u001B[1;32m    908\u001B[0m     dtype_backend\u001B[38;5;241m=\u001B[39mdtype_backend,\n\u001B[1;32m    909\u001B[0m )\n\u001B[1;32m    910\u001B[0m kwds\u001B[38;5;241m.\u001B[39mupdate(kwds_defaults)\n\u001B[0;32m--> 912\u001B[0m \u001B[38;5;28;01mreturn\u001B[39;00m _read(filepath_or_buffer, kwds)\n",
      "File \u001B[0;32m~/anaconda3/lib/python3.11/site-packages/pandas/io/parsers/readers.py:577\u001B[0m, in \u001B[0;36m_read\u001B[0;34m(filepath_or_buffer, kwds)\u001B[0m\n\u001B[1;32m    574\u001B[0m _validate_names(kwds\u001B[38;5;241m.\u001B[39mget(\u001B[38;5;124m\"\u001B[39m\u001B[38;5;124mnames\u001B[39m\u001B[38;5;124m\"\u001B[39m, \u001B[38;5;28;01mNone\u001B[39;00m))\n\u001B[1;32m    576\u001B[0m \u001B[38;5;66;03m# Create the parser.\u001B[39;00m\n\u001B[0;32m--> 577\u001B[0m parser \u001B[38;5;241m=\u001B[39m TextFileReader(filepath_or_buffer, \u001B[38;5;241m*\u001B[39m\u001B[38;5;241m*\u001B[39mkwds)\n\u001B[1;32m    579\u001B[0m \u001B[38;5;28;01mif\u001B[39;00m chunksize \u001B[38;5;129;01mor\u001B[39;00m iterator:\n\u001B[1;32m    580\u001B[0m     \u001B[38;5;28;01mreturn\u001B[39;00m parser\n",
      "File \u001B[0;32m~/anaconda3/lib/python3.11/site-packages/pandas/io/parsers/readers.py:1407\u001B[0m, in \u001B[0;36mTextFileReader.__init__\u001B[0;34m(self, f, engine, **kwds)\u001B[0m\n\u001B[1;32m   1404\u001B[0m     \u001B[38;5;28mself\u001B[39m\u001B[38;5;241m.\u001B[39moptions[\u001B[38;5;124m\"\u001B[39m\u001B[38;5;124mhas_index_names\u001B[39m\u001B[38;5;124m\"\u001B[39m] \u001B[38;5;241m=\u001B[39m kwds[\u001B[38;5;124m\"\u001B[39m\u001B[38;5;124mhas_index_names\u001B[39m\u001B[38;5;124m\"\u001B[39m]\n\u001B[1;32m   1406\u001B[0m \u001B[38;5;28mself\u001B[39m\u001B[38;5;241m.\u001B[39mhandles: IOHandles \u001B[38;5;241m|\u001B[39m \u001B[38;5;28;01mNone\u001B[39;00m \u001B[38;5;241m=\u001B[39m \u001B[38;5;28;01mNone\u001B[39;00m\n\u001B[0;32m-> 1407\u001B[0m \u001B[38;5;28mself\u001B[39m\u001B[38;5;241m.\u001B[39m_engine \u001B[38;5;241m=\u001B[39m \u001B[38;5;28mself\u001B[39m\u001B[38;5;241m.\u001B[39m_make_engine(f, \u001B[38;5;28mself\u001B[39m\u001B[38;5;241m.\u001B[39mengine)\n",
      "File \u001B[0;32m~/anaconda3/lib/python3.11/site-packages/pandas/io/parsers/readers.py:1661\u001B[0m, in \u001B[0;36mTextFileReader._make_engine\u001B[0;34m(self, f, engine)\u001B[0m\n\u001B[1;32m   1659\u001B[0m     \u001B[38;5;28;01mif\u001B[39;00m \u001B[38;5;124m\"\u001B[39m\u001B[38;5;124mb\u001B[39m\u001B[38;5;124m\"\u001B[39m \u001B[38;5;129;01mnot\u001B[39;00m \u001B[38;5;129;01min\u001B[39;00m mode:\n\u001B[1;32m   1660\u001B[0m         mode \u001B[38;5;241m+\u001B[39m\u001B[38;5;241m=\u001B[39m \u001B[38;5;124m\"\u001B[39m\u001B[38;5;124mb\u001B[39m\u001B[38;5;124m\"\u001B[39m\n\u001B[0;32m-> 1661\u001B[0m \u001B[38;5;28mself\u001B[39m\u001B[38;5;241m.\u001B[39mhandles \u001B[38;5;241m=\u001B[39m get_handle(\n\u001B[1;32m   1662\u001B[0m     f,\n\u001B[1;32m   1663\u001B[0m     mode,\n\u001B[1;32m   1664\u001B[0m     encoding\u001B[38;5;241m=\u001B[39m\u001B[38;5;28mself\u001B[39m\u001B[38;5;241m.\u001B[39moptions\u001B[38;5;241m.\u001B[39mget(\u001B[38;5;124m\"\u001B[39m\u001B[38;5;124mencoding\u001B[39m\u001B[38;5;124m\"\u001B[39m, \u001B[38;5;28;01mNone\u001B[39;00m),\n\u001B[1;32m   1665\u001B[0m     compression\u001B[38;5;241m=\u001B[39m\u001B[38;5;28mself\u001B[39m\u001B[38;5;241m.\u001B[39moptions\u001B[38;5;241m.\u001B[39mget(\u001B[38;5;124m\"\u001B[39m\u001B[38;5;124mcompression\u001B[39m\u001B[38;5;124m\"\u001B[39m, \u001B[38;5;28;01mNone\u001B[39;00m),\n\u001B[1;32m   1666\u001B[0m     memory_map\u001B[38;5;241m=\u001B[39m\u001B[38;5;28mself\u001B[39m\u001B[38;5;241m.\u001B[39moptions\u001B[38;5;241m.\u001B[39mget(\u001B[38;5;124m\"\u001B[39m\u001B[38;5;124mmemory_map\u001B[39m\u001B[38;5;124m\"\u001B[39m, \u001B[38;5;28;01mFalse\u001B[39;00m),\n\u001B[1;32m   1667\u001B[0m     is_text\u001B[38;5;241m=\u001B[39mis_text,\n\u001B[1;32m   1668\u001B[0m     errors\u001B[38;5;241m=\u001B[39m\u001B[38;5;28mself\u001B[39m\u001B[38;5;241m.\u001B[39moptions\u001B[38;5;241m.\u001B[39mget(\u001B[38;5;124m\"\u001B[39m\u001B[38;5;124mencoding_errors\u001B[39m\u001B[38;5;124m\"\u001B[39m, \u001B[38;5;124m\"\u001B[39m\u001B[38;5;124mstrict\u001B[39m\u001B[38;5;124m\"\u001B[39m),\n\u001B[1;32m   1669\u001B[0m     storage_options\u001B[38;5;241m=\u001B[39m\u001B[38;5;28mself\u001B[39m\u001B[38;5;241m.\u001B[39moptions\u001B[38;5;241m.\u001B[39mget(\u001B[38;5;124m\"\u001B[39m\u001B[38;5;124mstorage_options\u001B[39m\u001B[38;5;124m\"\u001B[39m, \u001B[38;5;28;01mNone\u001B[39;00m),\n\u001B[1;32m   1670\u001B[0m )\n\u001B[1;32m   1671\u001B[0m \u001B[38;5;28;01massert\u001B[39;00m \u001B[38;5;28mself\u001B[39m\u001B[38;5;241m.\u001B[39mhandles \u001B[38;5;129;01mis\u001B[39;00m \u001B[38;5;129;01mnot\u001B[39;00m \u001B[38;5;28;01mNone\u001B[39;00m\n\u001B[1;32m   1672\u001B[0m f \u001B[38;5;241m=\u001B[39m \u001B[38;5;28mself\u001B[39m\u001B[38;5;241m.\u001B[39mhandles\u001B[38;5;241m.\u001B[39mhandle\n",
      "File \u001B[0;32m~/anaconda3/lib/python3.11/site-packages/pandas/io/common.py:859\u001B[0m, in \u001B[0;36mget_handle\u001B[0;34m(path_or_buf, mode, encoding, compression, memory_map, is_text, errors, storage_options)\u001B[0m\n\u001B[1;32m    854\u001B[0m \u001B[38;5;28;01melif\u001B[39;00m \u001B[38;5;28misinstance\u001B[39m(handle, \u001B[38;5;28mstr\u001B[39m):\n\u001B[1;32m    855\u001B[0m     \u001B[38;5;66;03m# Check whether the filename is to be opened in binary mode.\u001B[39;00m\n\u001B[1;32m    856\u001B[0m     \u001B[38;5;66;03m# Binary mode does not support 'encoding' and 'newline'.\u001B[39;00m\n\u001B[1;32m    857\u001B[0m     \u001B[38;5;28;01mif\u001B[39;00m ioargs\u001B[38;5;241m.\u001B[39mencoding \u001B[38;5;129;01mand\u001B[39;00m \u001B[38;5;124m\"\u001B[39m\u001B[38;5;124mb\u001B[39m\u001B[38;5;124m\"\u001B[39m \u001B[38;5;129;01mnot\u001B[39;00m \u001B[38;5;129;01min\u001B[39;00m ioargs\u001B[38;5;241m.\u001B[39mmode:\n\u001B[1;32m    858\u001B[0m         \u001B[38;5;66;03m# Encoding\u001B[39;00m\n\u001B[0;32m--> 859\u001B[0m         handle \u001B[38;5;241m=\u001B[39m \u001B[38;5;28mopen\u001B[39m(\n\u001B[1;32m    860\u001B[0m             handle,\n\u001B[1;32m    861\u001B[0m             ioargs\u001B[38;5;241m.\u001B[39mmode,\n\u001B[1;32m    862\u001B[0m             encoding\u001B[38;5;241m=\u001B[39mioargs\u001B[38;5;241m.\u001B[39mencoding,\n\u001B[1;32m    863\u001B[0m             errors\u001B[38;5;241m=\u001B[39merrors,\n\u001B[1;32m    864\u001B[0m             newline\u001B[38;5;241m=\u001B[39m\u001B[38;5;124m\"\u001B[39m\u001B[38;5;124m\"\u001B[39m,\n\u001B[1;32m    865\u001B[0m         )\n\u001B[1;32m    866\u001B[0m     \u001B[38;5;28;01melse\u001B[39;00m:\n\u001B[1;32m    867\u001B[0m         \u001B[38;5;66;03m# Binary mode\u001B[39;00m\n\u001B[1;32m    868\u001B[0m         handle \u001B[38;5;241m=\u001B[39m \u001B[38;5;28mopen\u001B[39m(handle, ioargs\u001B[38;5;241m.\u001B[39mmode)\n",
      "\u001B[0;31mFileNotFoundError\u001B[0m: [Errno 2] No such file or directory: '/ProgettoSocialComputing/Data/nodes.csv'"
     ]
    }
   ],
   "source": [
    "#import given dataframe nodes\n",
    "nodes = pd.read_csv(\"/Users/enrico/Desktop/ProgettoSocialComputing/Data/nodes.csv\")\n",
    "\n",
    "nodes['author_id'] = None\n",
    "nodes['cited_by'] = None \n",
    "nodes['interests'] = None\n",
    "nodes.to_csv('Data/nodes.csv', index=False)\n",
    "\n",
    "edges = pd.DataFrame(columns=['author1','author2']) \n",
    "edges.to_csv('Data/edges.csv', index=False)"
   ]
  },
  {
   "cell_type": "markdown",
   "id": "efe3d2f3a4b86336",
   "metadata": {
    "collapsed": false,
    "jupyter": {
     "outputs_hidden": false
    }
   },
   "source": [
    "## ES 1\n",
    "A partire da nodes.csv, utilizzare la libreria Python SerpAPI per scaricare, per ciascuno dei 7 autori elencati:\n",
    "- author_id: ID identificativo del profilo Google Scholar\n",
    "- cited_by: numero totale di citazioni ricevute\n",
    "- interests: elenco degli interessi di ciascun autore\n",
    "Sfruttando la libreria Python Pandas, usare la struttura dati DataFrame per aggiornare il file originale con apposite colonne e memorizzarlo nella cartella /data."
   ]
  },
  {
   "cell_type": "code",
   "execution_count": 1,
   "id": "5a2d7124c3f1ac47",
   "metadata": {
    "ExecuteTime": {
     "end_time": "2023-11-25T10:13:40.644192Z",
     "start_time": "2023-11-25T10:13:40.615311Z"
    },
    "collapsed": false,
    "jupyter": {
     "outputs_hidden": false
    }
   },
   "outputs": [
    {
     "data": {
      "text/plain": "'\\ndef key_choice():\\n    return random.choice(list(apikey.items()))[1]\\n'"
     },
     "execution_count": 1,
     "metadata": {},
     "output_type": "execute_result"
    }
   ],
   "source": [
    "#dictionary with the keys\n",
    "listApikey ={\n",
    "    'SERP_API_KEY_FAVA': \"1ae8a37d9b3dabb5732fcd7a9cb57410194766951242a4f4ac5bbd9fb7012048\", \n",
    "    'SERP_API_KEY_LIGUGNANA': \"11a077a8bee5bb1c2a25af914046bc7ce53050b3416e5720239e43223c63374b\",\n",
    "    'SERP_API_KEY_PARAVANO' :  \"42b4919fd319f0ff32c19ae31a88b4ff67a544e29ca2a017905088b2ae11e60e\",\n",
    "    'SERP_API_KEY_TAMMARO': \"6eaf5a9a0d2eef8bf026a947a3dffbb0d31cb1d6e122b81c0e6062f6b23a4c40\"\n",
    "}\n",
    "\n",
    "#key in use right now\n",
    "apikey = \"1ae8a37d9b3dabb5732fcd7a9cb57410194766951242a4f4ac5bbd9fb7012048\"\n",
    "\n",
    "#function to randomise the key in use\n",
    "'''\n",
    "def key_choice():\n",
    "    return random.choice(list(apikey.items()))[1]\n",
    "'''\n"
   ]
  },
  {
   "cell_type": "code",
   "execution_count": 141,
   "id": "2fd01d1d-0802-47f0-8cde-93da8625cfb3",
   "metadata": {},
   "outputs": [],
   "source": [
    "#overwrite the row of nodes with df_update in the right position\n",
    "#if the author given isn't in nodes, then it will get concatenated\n",
    "\n",
    "def update_nodes(df_update):\n",
    "    \n",
    "    #read nodes csv\n",
    "    nodes = pd.read_csv(r'Data/nodes.csv') \n",
    "\n",
    "    #check if the author is in nodes using attributre name as parameter\n",
    "    if (nodes[\"name\"] == df_update[\"name\"][0]).any():\n",
    "        #if author is already in nodes update the present row with df_update\n",
    "        for index in range(len(nodes)):\n",
    "            if nodes[\"name\"][index] == df_update[\"name\"][0]:\n",
    "                nodes.iloc[index]=df_update.iloc[0]\n",
    "                nodes.to_csv(r'Data/nodes.csv', index=False) #overwrite the csv with the new row\n",
    "    else:\n",
    "        #if the author isn't already in nodes we concatenete it\n",
    "        nodes = pd.concat([nodes, df_update], ignore_index=True)\n",
    "        nodes.to_csv(r'Data/nodes.csv', index=False) #overwrite the csv by adding df_update at the end\n",
    "            "
   ]
  },
  {
   "cell_type": "code",
   "execution_count": 154,
   "id": "f1dbc1fd71fc6a3c",
   "metadata": {
    "ExecuteTime": {
     "end_time": "2023-11-25T10:41:25.528018Z",
     "start_time": "2023-11-25T10:41:25.516476Z"
    },
    "collapsed": false,
    "jupyter": {
     "outputs_hidden": false
    }
   },
   "outputs": [],
   "source": [
    "#author_profile returns a dataframe with name, affiliations, author_id, cited_by, interests of a given author\n",
    "\n",
    "def author_profile(apiKey, name, affiliation):\n",
    "    \n",
    "    base_url = \"https://serpapi.com/search\"\n",
    "    \n",
    "    #search among scholar profiles for the one with the given name\n",
    "    params = {\n",
    "        \"api_key\": apiKey,\n",
    "        \"engine\": \"google_scholar_profiles\",\n",
    "        \"hl\": \"en\",\n",
    "        \"mauthors\": name\n",
    "    }      \n",
    "    \n",
    "    #save the request response in json\n",
    "    response = requests.get(base_url, params = params)\n",
    "    results = response.json()\n",
    "    nodes = pd.read_csv(r'Data/nodes.csv') \n",
    "\n",
    "    #scroll through profiles to verifies if the profile found is the one that wa are searching for\n",
    "    for profile in results[\"profiles\"]:\n",
    "        \n",
    "        #affiliation and name are those given as input to the function\n",
    "        if profile[\"affiliations\"] == affiliation and profile[\"name\"] == name:\n",
    "                \n",
    "            #save the information needed for the right author\n",
    "            authorId = profile[\"author_id\"] \n",
    "            citedBy = profile[\"cited_by\"]\n",
    "            if \"interests\" in profile:\n",
    "                interests = \", \".join([i['title'] for i in profile[\"interests\"]]) #select only titles for each interest, join to remove the square brackets (now seen as a single string instead of a list) \n",
    "            else:\n",
    "                interests = None\n",
    "\n",
    "            #create a new row of the dataframe with all the information needed and return it\n",
    "            df_update = pd.DataFrame({'name': [name],\n",
    "                               'affiliations': [affiliation],\n",
    "                               'author_id': [authorId],\n",
    "                               'cited_by': [citedBy],\n",
    "                               'interests': [interests]})\n",
    "            \n",
    "            #update the nodes row with additional author information\n",
    "            update_nodes(df_update)    "
   ]
  },
  {
   "cell_type": "code",
   "execution_count": 161,
   "id": "8fb63309-32d8-453b-a501-8a63f260b582",
   "metadata": {},
   "outputs": [],
   "source": [
    "author_profile(apikey,\"Beatrice Portelli\" , \"University of Udine\")\n"
   ]
  },
  {
   "cell_type": "code",
   "execution_count": 159,
   "id": "d3f0af508e2bc0b4",
   "metadata": {
    "ExecuteTime": {
     "end_time": "2023-11-25T10:44:46.192289Z",
     "start_time": "2023-11-25T10:44:46.187329Z"
    },
    "collapsed": false,
    "jupyter": {
     "outputs_hidden": false
    }
   },
   "outputs": [],
   "source": [
    "#nodes_information return a dataframe with name, affiliations, author_id, cited_by, interests;\n",
    "#for each node in the given dataframe containing name and affiliation for each author \n",
    "\n",
    "def nodes_information(apikey, df):\n",
    "    \n",
    "    #iterate the row of the given df, for each one makes the call to the author_profile\n",
    "    for index, row in df.iterrows():\n",
    "        author_data = author_profile(apikey, row['name'], row['affiliations'])\n",
    "        "
   ]
  },
  {
   "cell_type": "markdown",
   "id": "9476559ebc8c0101",
   "metadata": {
    "collapsed": false,
    "jupyter": {
     "outputs_hidden": false
    }
   },
   "source": [
    "## Main es 1"
   ]
  },
  {
   "cell_type": "code",
   "execution_count": 142,
   "id": "98b8a090688a5a23",
   "metadata": {
    "ExecuteTime": {
     "end_time": "2023-11-25T10:45:04.660942Z",
     "start_time": "2023-11-25T10:44:46.964020Z"
    },
    "collapsed": false,
    "jupyter": {
     "outputs_hidden": false
    }
   },
   "outputs": [],
   "source": [
    "#get the final dataframe of the 7 originals authors with name, affiliations, author_id, cited_by, interests \n",
    "nodes_information(apikey, nodes)"
   ]
  },
  {
   "cell_type": "markdown",
   "id": "a30775e4cb2ccd3c",
   "metadata": {
    "collapsed": false,
    "jupyter": {
     "outputs_hidden": false
    }
   },
   "source": [
    "## 2. Analisi dei Coautori tramite SerpAPI su Google Scholar\n",
    "\n",
    "### a. Ottenere i Coautori dei 7 Autori Principali\n",
    "\n",
    "Per ciascuno dei 7 autori, utilizzare il suo ID per accedere al relativo profilo Google Scholar e scaricare l'elenco dei suoi coautori utilizzando SerpAPI. Con tale elenco di nomi:;\n",
    "\n",
    "#### a.1. Ricerca dei Coautori su Google Scholar\n",
    "\n",
    "Utilizzare le SerpAPI per cercare su Google Scholar un ricercatore che corrisponde a ciascun nome nella lista di coautori. Per ogni risultato, salvare le informazioni come `name`, `affiliations`, `author_id`, `cited_by`, e `interests` in un nuovo DataFrame contenente tutte queste informazioni relative ai coautori dei 7 autori originari.\n",
    "\n",
    "### b. Concatenazione dei DataFrame\n",
    "\n",
    "Concatenare il DataFrame contenente le informazioni sui 7 autori principali con quello dei coautori generato al punto 2a in un unico DataFrame.\n",
    "\n",
    "### c. Creazione del DataFrame delle Relazioni di Co-Authorship\n",
    "\n",
    "Creare un terzo DataFrame con le colonne `author1` e `author2` che rappresenta le co-authorship. In questo DataFrame, una riga rappresenta un arco di coauthorship tra due autori. La co-authorship è binaria, non pesata.\n",
    "\n",
    "#### Esempio\n",
    "\n",
    "Se David La Barbera e Michael Soprano sono coautori, una riga del DataFrame creato al punto 2c rappresenterà questa relazione.\n",
    "\n",
    "### Risultati Finali\n",
    "\n",
    "A questo punto, saranno stati prodotti due DataFrame:\n",
    "\n",
    "- Uno contenente le informazioni relative agli autori (originali + i relativi coautori), con le colonne `name`, `affiliations`, `cited_by`, `interests`. Salvare come `nodes.csv` nella cartella `/data` tale DataFrame.\n",
    "\n",
    "- Un altro per le relazioni di co-authorship dai 7 autori principali verso i relativi coautori, con colonne `author1` e `author2`. Salvare come `edges.csv` nella cartella `/data` tale DataFrame.\n",
    "\n",
    "\n",
    "\n",
    "\n",
    "\n",
    "\n",
    "\n",
    "\n"
   ]
  },
  {
   "cell_type": "code",
   "execution_count": 150,
   "id": "a0889e9eac014c9f",
   "metadata": {
    "ExecuteTime": {
     "end_time": "2023-11-24T17:42:13.524160Z",
     "start_time": "2023-11-24T17:42:13.470068Z"
    },
    "collapsed": false,
    "jupyter": {
     "outputs_hidden": false
    }
   },
   "outputs": [],
   "source": [
    "#return a list with the co-authors id\n",
    "\n",
    "def get_profile_coauthors(apiKey, authorID):\n",
    "    base_url = \"https://serpapi.com/search\"\n",
    "\n",
    "    #search among scholar profiles for the one with the given author_id\n",
    "    params = {\n",
    "        \"api_key\": apiKey,\n",
    "        \"engine\": \"google_scholar_author\",\n",
    "        \"hl\": \"en\",\n",
    "        \"author_id\": authorID\n",
    "    }\n",
    "\n",
    "    response = requests.get(base_url, params = params)\n",
    "    results = response.json()\n",
    "\n",
    "    #estrarre solo parte di coautrori dal dataframe grade del autore,\n",
    "\n",
    "    #crea solo un dataFrame con colonna name e affiliations\n",
    "    df_coAuthors = pd.DataFrame(columns=['name','affiliations'])\n",
    "\n",
    "    #for each coauthor save name and affiliation in a dataframe\n",
    "    for author in results['co_authors']:\n",
    "        row = {'name' : author['name'], 'affiliations': author['affiliations']}\n",
    "        new_coauthor = pd.DataFrame([row])\n",
    "\n",
    "        df_coAuthors = pd.concat([df_coAuthors, new_coauthor], ignore_index=True)\n",
    "\n",
    "\n",
    "\n",
    "        #adding coauthors to nodes\n",
    "        author_profile(apiKey, author['name'], author['affiliations'])\n",
    "\n",
    "\n",
    "    authorName = results[\"author\"]\n",
    "\n",
    "    #import edges.csv\n",
    "    edges = pd.read_csv(r'Data/edges.csv')\n",
    "\n",
    "    #create the new edge from the given author to each coauthor from df_coAuthors -> update edges\n",
    "    for author in df_coAuthors[\"name\"]:\n",
    "        row = {'author1' : authorName[\"name\"], 'author2': author}\n",
    "        new_edges = pd.DataFrame([row])\n",
    "        edges = pd.concat([edges, new_edges], ignore_index=True) #concatenete the edge of the given author to the original edges\n",
    "\n",
    "    #overwrite edges with the new one\n",
    "    edges.to_csv(r'Data/edges.csv', index=False)\n",
    "\n",
    "# fare una funzione che cicli su tutti i coautori e riempia edges (senza quelli già presenti)\n",
    "# modificare la prima funzione per mettere direttametne in nodes i coautori e affiliations\n",
    "\n"
   ]
  },
  {
   "cell_type": "code",
   "execution_count": null,
   "outputs": [],
   "source": [
    "######################################\n",
    "#Prova chiedi a cara se puoi eliminare\n",
    "######################################\n",
    "#gg\n",
    "def get_profile_coauthors(apiKey, authorID):\n",
    "    base_url = \"https://serpapi.com/search\"\n",
    "\n",
    "    #search among scholar profiles for the one with the given author_id\n",
    "    params = {\n",
    "        \"api_key\": apiKey,\n",
    "        \"engine\": \"google_scholar_author\",\n",
    "        \"hl\": \"en\",\n",
    "        \"author_id\": authorID\n",
    "    }\n",
    "    response = requests.get(base_url, params = params)\n",
    "    results = response.json()\n",
    "    #crea solo un dataFrame di appoggio con colonna name e affiliations, secondo me non serve, ammno che non venga usato da qualche aletra parte\n",
    "    authorName = results[\"author\"]\n",
    "    edges = pd.read_csv(r'Data/edges.csv')\n",
    "    #for each coauthor save name and affiliation in a dataframe\n",
    "    for coautore in results['co_authors']:\n",
    "        coppie_da_cercare = [(authorName[\"name\"], coautore['name']), (coautore['name'], authorName[\"name\"])]\n",
    "        #Cicla attraverso il DataFrame e verifica le condizioni\n",
    "        trovato = True\n",
    "        for index, row in edges.iterrows():\n",
    "            if (row['author1'], row['author2']) in coppie_da_cercare or (row['author2'], row['author1']) in coppie_da_cercare:\n",
    "                #esiste gia un collegamento tra aurtore e coautore o viceversa\n",
    "                trovato = False\n",
    "        if(trovato):\n",
    "            row_edge = pd.DataFrame([{'author1' : authorName[\"name\"], 'author2': coautore['name']}])\n",
    "            edges = pd.concat([edges, row_edge], ignore_index=True)\n",
    "        #adding coauthors to nodes\n",
    "        author_profile(apiKey, coautore['name'], coautore['affiliations'])\n",
    "    edges.to_csv(r'Data/edges.csv', index=False)\n",
    "# fare una funzione che cicli su tutti i coautori e riempia edges (senza quelli già presenti)\n",
    "# modificare la prima funzione per mettere direttametne in nodes i coautori e affiliations"
   ],
   "metadata": {
    "collapsed": false
   }
  },
  {
   "cell_type": "code",
   "execution_count": 17,
   "outputs": [
    {
     "name": "stdout",
     "output_type": "stream",
     "text": [
      "author1\n",
      "author2\n"
     ]
    }
   ],
   "source": [],
   "metadata": {
    "collapsed": false
   }
  },
  {
   "cell_type": "markdown",
   "id": "68036c8dc6b9ff20",
   "metadata": {
    "collapsed": false,
    "jupyter": {
     "outputs_hidden": false
    }
   },
   "source": [
    "## Main es 2"
   ]
  },
  {
   "cell_type": "code",
   "execution_count": 151,
   "id": "af8f69fe4368948f",
   "metadata": {
    "ExecuteTime": {
     "end_time": "2023-11-24T10:08:55.606276Z",
     "start_time": "2023-11-24T10:08:51.420352Z"
    },
    "collapsed": false,
    "jupyter": {
     "outputs_hidden": false
    }
   },
   "outputs": [
    {
     "ename": "KeyError",
     "evalue": "'interests'",
     "output_type": "error",
     "traceback": [
      "\u001B[1;31m---------------------------------------------------------------------------\u001B[0m",
      "\u001B[1;31mKeyError\u001B[0m                                  Traceback (most recent call last)",
      "Cell \u001B[1;32mIn[151], line 4\u001B[0m\n\u001B[0;32m      2\u001B[0m nodes \u001B[38;5;241m=\u001B[39m pd\u001B[38;5;241m.\u001B[39mread_csv(\u001B[38;5;124mr\u001B[39m\u001B[38;5;124m'\u001B[39m\u001B[38;5;124mData/nodes.csv\u001B[39m\u001B[38;5;124m'\u001B[39m) \n\u001B[0;32m      3\u001B[0m \u001B[38;5;28;01mfor\u001B[39;00m autore \u001B[38;5;129;01min\u001B[39;00m nodes[\u001B[38;5;124m\"\u001B[39m\u001B[38;5;124mauthor_id\u001B[39m\u001B[38;5;124m\"\u001B[39m]:\n\u001B[1;32m----> 4\u001B[0m     \u001B[43mget_profile_coauthors\u001B[49m\u001B[43m(\u001B[49m\u001B[43mapikey\u001B[49m\u001B[43m,\u001B[49m\u001B[43mautore\u001B[49m\u001B[43m)\u001B[49m\n",
      "Cell \u001B[1;32mIn[150], line 27\u001B[0m, in \u001B[0;36mget_profile_coauthors\u001B[1;34m(apiKey, authorID)\u001B[0m\n\u001B[0;32m     24\u001B[0m     df_coAuthors \u001B[38;5;241m=\u001B[39m pd\u001B[38;5;241m.\u001B[39mconcat([df_coAuthors, new_coauthor], ignore_index\u001B[38;5;241m=\u001B[39m\u001B[38;5;28;01mTrue\u001B[39;00m)\n\u001B[0;32m     26\u001B[0m     \u001B[38;5;66;03m#adding coauthors to nodes\u001B[39;00m\n\u001B[1;32m---> 27\u001B[0m     \u001B[43mauthor_profile\u001B[49m\u001B[43m(\u001B[49m\u001B[43mapiKey\u001B[49m\u001B[43m,\u001B[49m\u001B[43m \u001B[49m\u001B[43mauthor\u001B[49m\u001B[43m[\u001B[49m\u001B[38;5;124;43m'\u001B[39;49m\u001B[38;5;124;43mname\u001B[39;49m\u001B[38;5;124;43m'\u001B[39;49m\u001B[43m]\u001B[49m\u001B[43m,\u001B[49m\u001B[43m \u001B[49m\u001B[43mauthor\u001B[49m\u001B[43m[\u001B[49m\u001B[38;5;124;43m'\u001B[39;49m\u001B[38;5;124;43maffiliations\u001B[39;49m\u001B[38;5;124;43m'\u001B[39;49m\u001B[43m]\u001B[49m\u001B[43m)\u001B[49m\n\u001B[0;32m     29\u001B[0m authorName \u001B[38;5;241m=\u001B[39m results[\u001B[38;5;124m\"\u001B[39m\u001B[38;5;124mauthor\u001B[39m\u001B[38;5;124m\"\u001B[39m]\n\u001B[0;32m     31\u001B[0m \u001B[38;5;66;03m#import edges.csv\u001B[39;00m\n",
      "Cell \u001B[1;32mIn[132], line 29\u001B[0m, in \u001B[0;36mauthor_profile\u001B[1;34m(apiKey, name, affiliation)\u001B[0m\n\u001B[0;32m     27\u001B[0m authorId \u001B[38;5;241m=\u001B[39m profile[\u001B[38;5;124m\"\u001B[39m\u001B[38;5;124mauthor_id\u001B[39m\u001B[38;5;124m\"\u001B[39m] \n\u001B[0;32m     28\u001B[0m citedBy \u001B[38;5;241m=\u001B[39m profile[\u001B[38;5;124m\"\u001B[39m\u001B[38;5;124mcited_by\u001B[39m\u001B[38;5;124m\"\u001B[39m]\n\u001B[1;32m---> 29\u001B[0m interests \u001B[38;5;241m=\u001B[39m \u001B[38;5;124m\"\u001B[39m\u001B[38;5;124m, \u001B[39m\u001B[38;5;124m\"\u001B[39m\u001B[38;5;241m.\u001B[39mjoin([i[\u001B[38;5;124m'\u001B[39m\u001B[38;5;124mtitle\u001B[39m\u001B[38;5;124m'\u001B[39m] \u001B[38;5;28;01mfor\u001B[39;00m i \u001B[38;5;129;01min\u001B[39;00m \u001B[43mprofile\u001B[49m\u001B[43m[\u001B[49m\u001B[38;5;124;43m\"\u001B[39;49m\u001B[38;5;124;43minterests\u001B[39;49m\u001B[38;5;124;43m\"\u001B[39;49m\u001B[43m]\u001B[49m]) \u001B[38;5;66;03m#select only titles for each interest, join to remove the square brackets (now seen as a single string instead of a list) \u001B[39;00m\n\u001B[0;32m     31\u001B[0m \u001B[38;5;66;03m#create a new row of the dataframe with all the information needed and return it\u001B[39;00m\n\u001B[0;32m     32\u001B[0m df_update \u001B[38;5;241m=\u001B[39m pd\u001B[38;5;241m.\u001B[39mDataFrame({\u001B[38;5;124m'\u001B[39m\u001B[38;5;124mname\u001B[39m\u001B[38;5;124m'\u001B[39m: [name],\n\u001B[0;32m     33\u001B[0m                    \u001B[38;5;124m'\u001B[39m\u001B[38;5;124maffiliations\u001B[39m\u001B[38;5;124m'\u001B[39m: [affiliation],\n\u001B[0;32m     34\u001B[0m                    \u001B[38;5;124m'\u001B[39m\u001B[38;5;124mauthor_id\u001B[39m\u001B[38;5;124m'\u001B[39m: [authorId],\n\u001B[0;32m     35\u001B[0m                    \u001B[38;5;124m'\u001B[39m\u001B[38;5;124mcited_by\u001B[39m\u001B[38;5;124m'\u001B[39m: [citedBy],\n\u001B[0;32m     36\u001B[0m                    \u001B[38;5;124m'\u001B[39m\u001B[38;5;124minterests\u001B[39m\u001B[38;5;124m'\u001B[39m: [interests]})\n",
      "\u001B[1;31mKeyError\u001B[0m: 'interests'"
     ]
    }
   ],
   "source": [
    "##df_Coauthors = pd.DataFrame(columns=['name','affiliations','author_id','cited_by','interests'])\n",
    "nodes = pd.read_csv(r'Data/nodes.csv') \n",
    "for autore in nodes[\"author_id\"]:\n",
    "    get_profile_coauthors(apikey,autore)\n"
   ]
  },
  {
   "cell_type": "code",
   "execution_count": null,
   "id": "247a81388462f6c5",
   "metadata": {
    "collapsed": false,
    "jupyter": {
     "outputs_hidden": false
    }
   },
   "outputs": [],
   "source": [
    "\n",
    "#salvare edges e ogni volta concatenare il risulatato a edges salvato in locale\n",
    "#\n",
    "\n",
    "\n"
   ]
  },
  {
   "cell_type": "markdown",
   "id": "cbc21ff5eac9e78",
   "metadata": {
    "collapsed": false,
    "jupyter": {
     "outputs_hidden": false
    }
   },
   "source": [
    "\n",
    "\n",
    "# Parte 3\n",
    "Usare il due dataset per creare grafico indiretto:\n",
    "a. Generare un grafo indiretto che ne rappresenta le informazioni contenute.\n",
    "Salvare (serializzare) il grafo in locale nella cartella /graphs .\n",
    "b. Visualizzare il grafo prodotto colorando i nodi a seconda del loro grado con le\n",
    "seguenti colorazioni: grigio per nodi con grado uguale a 1, blu per nodi con grado compreso tra 2 e 10, viola per nodi con grado compreso tra 11 e 20, giallo per nodi con grado maggiore di 20. Inoltre, per ciascun nodo visualizzare il nome dell’autore. Salvare la visualizzazione nella cartella /visualizations.\n",
    "\n",
    "\n"
   ]
  },
  {
   "cell_type": "code",
   "execution_count": 129,
   "id": "427a0e34d58cde2f",
   "metadata": {
    "ExecuteTime": {
     "end_time": "2023-11-24T15:40:25.263650Z",
     "start_time": "2023-11-24T15:40:25.010838Z"
    },
    "collapsed": false,
    "jupyter": {
     "outputs_hidden": false
    }
   },
   "outputs": [
    {
     "data": {
      "image/png": "[encoded data removed]",
      "text/plain": [
       "<Figure size 640x480 with 1 Axes>"
      ]
     },
     "metadata": {},
     "output_type": "display_data"
    }
   ],
   "source": [
    "import matplotlib.pyplot as plt\n",
    "\n",
    "G = nx.Graph()\n",
    "G.add_edge('Alice', 'Bob')\n",
    "G.add_edge('Alice', 'Cindy')\n",
    "G.add_edge('Alice', 'Dave')\n",
    "G.add_node('Eve')  # Eve non è connessa a nessuno, la aggiungo a mano\n",
    "\n",
    "# 1.2 | Aggiungo gli attributi ai nodi\n",
    "for node in G.nodes:\n",
    "    G.nodes[node]['name'] = node\n",
    "    G.nodes[node]['age'] = random.randint(20, 30) \n",
    "\n",
    "# 1.3 | Visualizzo il grafo\n",
    "nx.draw(G, with_labels=True)\n",
    "plt.show()\n"
   ]
  },
  {
   "cell_type": "code",
   "execution_count": 130,
   "id": "bde6ef691a0d87e0",
   "metadata": {
    "ExecuteTime": {
     "end_time": "2023-11-24T15:42:54.298709Z",
     "start_time": "2023-11-24T15:42:53.743696Z"
    },
    "collapsed": false,
    "jupyter": {
     "outputs_hidden": false
    }
   },
   "outputs": [
    {
     "name": "stdout",
     "output_type": "stream",
     "text": [
      "Centralità di grado:\n"
     ]
    },
    {
     "data": {
      "text/html": [
       "<div>\n",
       "<style scoped>\n",
       "    .dataframe tbody tr th:only-of-type {\n",
       "        vertical-align: middle;\n",
       "    }\n",
       "\n",
       "    .dataframe tbody tr th {\n",
       "        vertical-align: top;\n",
       "    }\n",
       "\n",
       "    .dataframe thead th {\n",
       "        text-align: right;\n",
       "    }\n",
       "</style>\n",
       "<table border=\"1\" class=\"dataframe\">\n",
       "  <thead>\n",
       "    <tr style=\"text-align: right;\">\n",
       "      <th></th>\n",
       "      <th>node</th>\n",
       "      <th>degree</th>\n",
       "    </tr>\n",
       "  </thead>\n",
       "  <tbody>\n",
       "    <tr>\n",
       "      <th>0</th>\n",
       "      <td>0</td>\n",
       "      <td>5</td>\n",
       "    </tr>\n",
       "    <tr>\n",
       "      <th>1</th>\n",
       "      <td>1</td>\n",
       "      <td>4</td>\n",
       "    </tr>\n",
       "    <tr>\n",
       "      <th>2</th>\n",
       "      <td>2</td>\n",
       "      <td>3</td>\n",
       "    </tr>\n",
       "    <tr>\n",
       "      <th>3</th>\n",
       "      <td>3</td>\n",
       "      <td>5</td>\n",
       "    </tr>\n",
       "    <tr>\n",
       "      <th>4</th>\n",
       "      <td>4</td>\n",
       "      <td>4</td>\n",
       "    </tr>\n",
       "    <tr>\n",
       "      <th>5</th>\n",
       "      <td>5</td>\n",
       "      <td>4</td>\n",
       "    </tr>\n",
       "    <tr>\n",
       "      <th>6</th>\n",
       "      <td>6</td>\n",
       "      <td>7</td>\n",
       "    </tr>\n",
       "    <tr>\n",
       "      <th>7</th>\n",
       "      <td>7</td>\n",
       "      <td>4</td>\n",
       "    </tr>\n",
       "    <tr>\n",
       "      <th>8</th>\n",
       "      <td>8</td>\n",
       "      <td>4</td>\n",
       "    </tr>\n",
       "    <tr>\n",
       "      <th>9</th>\n",
       "      <td>9</td>\n",
       "      <td>3</td>\n",
       "    </tr>\n",
       "    <tr>\n",
       "      <th>10</th>\n",
       "      <td>10</td>\n",
       "      <td>4</td>\n",
       "    </tr>\n",
       "    <tr>\n",
       "      <th>11</th>\n",
       "      <td>11</td>\n",
       "      <td>4</td>\n",
       "    </tr>\n",
       "    <tr>\n",
       "      <th>12</th>\n",
       "      <td>12</td>\n",
       "      <td>4</td>\n",
       "    </tr>\n",
       "    <tr>\n",
       "      <th>13</th>\n",
       "      <td>13</td>\n",
       "      <td>3</td>\n",
       "    </tr>\n",
       "    <tr>\n",
       "      <th>14</th>\n",
       "      <td>14</td>\n",
       "      <td>2</td>\n",
       "    </tr>\n",
       "  </tbody>\n",
       "</table>\n",
       "</div>"
      ],
      "text/plain": [
       "    node  degree\n",
       "0      0       5\n",
       "1      1       4\n",
       "2      2       3\n",
       "3      3       5\n",
       "4      4       4\n",
       "5      5       4\n",
       "6      6       7\n",
       "7      7       4\n",
       "8      8       4\n",
       "9      9       3\n",
       "10    10       4\n",
       "11    11       4\n",
       "12    12       4\n",
       "13    13       3\n",
       "14    14       2"
      ]
     },
     "metadata": {},
     "output_type": "display_data"
    },
    {
     "name": "stdout",
     "output_type": "stream",
     "text": [
      "Number of edges: 30\n",
      "Average degree: 4.00\n",
      "Density: 0.29\n",
      "Most connected node: 6\n"
     ]
    },
    {
     "data": {
      "image/png": "[encoded data removed]",
      "text/plain": [
       "<Figure size 640x480 with 2 Axes>"
      ]
     },
     "metadata": {},
     "output_type": "display_data"
    }
   ],
   "source": [
    "#ES 2\n",
    "def draw(G, pos, measures, title):\n",
    "    nodes = nx.draw_networkx_nodes(G, pos, node_size = 150, cmap = plt.cm.plasma,\n",
    "                                   node_color  = list(measures.values()),\n",
    "                                   nodelist = measures.keys()\n",
    "                                   )\n",
    "    edges = nx.draw_networkx_edges(G, pos)\n",
    "    plt.title(title)\n",
    "    plt.colorbar(nodes)\n",
    "    plt.axis('off')\n",
    "    plt.show()\n",
    "    # 2.1 | Genero grafo con proprietà piccolo mondo\n",
    "G = nx.watts_strogatz_graph(15, 4, .3)\n",
    "\n",
    "# 2.2 | Centralità di grado per tutti i nodi\n",
    "degrees = dict(G.degree())\n",
    "df = pd.DataFrame(list(degrees.items()), columns=['node', 'degree'])\n",
    "print(\"Centralità di grado:\")\n",
    "display(df)\n",
    "\n",
    "\n",
    "# 2.3 | Calcolo le altre priprietà richieste\n",
    "num_edges = G.number_of_edges()\n",
    "# Grado medio \n",
    "avg_degree = sum(degrees.values()) / G.number_of_nodes()\n",
    "# Densità del grafo\n",
    "density = nx.density(G)\n",
    "# Nodo più connesso\n",
    "max_degree_node = max(degrees, key=degrees.get)\n",
    "\n",
    "print(f\"Number of edges: {num_edges}\")\n",
    "print(f\"Average degree: {avg_degree:.2f}\")\n",
    "print(f\"Density: {density:.2f}\")\n",
    "print(f\"Most connected node: {max_degree_node}\")\n",
    "# 2.4 | Visualizzo usando lo spring layout\n",
    "draw(\n",
    "    G,\n",
    "    nx.spring_layout(G),\n",
    "    nx.degree_centrality(G),\n",
    "    title = \"Visualizzazione della rete Piccolo Mondo generata\"\n",
    "      )"
   ]
  },
  {
   "cell_type": "code",
   "execution_count": 1,
   "id": "573b28fe7b355a92",
   "metadata": {
    "ExecuteTime": {
     "end_time": "2023-11-26T15:31:43.640483Z",
     "start_time": "2023-11-26T15:31:43.213257Z"
    },
    "collapsed": false,
    "jupyter": {
     "outputs_hidden": false
    }
   },
   "outputs": [
    {
     "ename": "NameError",
     "evalue": "name 'nodes' is not defined",
     "output_type": "error",
     "traceback": [
      "\u001B[0;31m---------------------------------------------------------------------------\u001B[0m",
      "\u001B[0;31mNameError\u001B[0m                                 Traceback (most recent call last)",
      "Cell \u001B[0;32mIn[1], line 1\u001B[0m\n\u001B[0;32m----> 1\u001B[0m \u001B[43mnodes\u001B[49m\n\u001B[1;32m      5\u001B[0m \u001B[38;5;66;03m#usare la stessa funzione iniziale, quando passi l'id del autore e restituisce tutti i dati, di cui recuprei i coautori, crei direttamente il datframe quello dei nodi, ciclano n-volte( che saranno il numero di coaurori, e crei una riga insrendo l'Id del autore + vicino il coautore.\u001B[39;00m\n",
      "\u001B[0;31mNameError\u001B[0m: name 'nodes' is not defined"
     ]
    }
   ],
   "source": [
    "\n",
    "\n",
    "\n",
    "\n",
    "#usare la stessa funzione iniziale, quando passi l'id del autore e restituisce tutti i dati, di cui recuprei i coautori, crei direttamente il datframe quello dei nodi, ciclano n-volte( che saranno il numero di coaurori, e crei una riga insrendo l'Id del autore + vicino il coautore."
   ]
  },
  {
   "cell_type": "code",
   "execution_count": null,
   "id": "6687b40a83f977eb",
   "metadata": {
    "collapsed": false,
    "jupyter": {
     "outputs_hidden": false
    }
   },
   "outputs": [],
   "source": []
  }
 ],
 "metadata": {
  "kernelspec": {
   "display_name": "Python 3 (ipykernel)",
   "language": "python",
   "name": "python3"
  },
  "language_info": {
   "codemirror_mode": {
    "name": "ipython",
    "version": 3
   },
   "file_extension": ".py",
   "mimetype": "text/x-python",
   "name": "python",
   "nbconvert_exporter": "python",
   "pygments_lexer": "ipython3",
   "version": "3.11.5"
  }
 },
 "nbformat": 4,
 "nbformat_minor": 5
}
