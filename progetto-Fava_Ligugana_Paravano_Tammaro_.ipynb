{
 "cells": [
  {
   "cell_type": "code",
   "execution_count": 1,
   "id": "initial_id",
   "metadata": {
    "ExecuteTime": {
     "end_time": "2023-11-29T15:56:15.519551Z",
     "start_time": "2023-11-29T15:56:15.495836Z"
    }
   },
   "outputs": [],
   "source": [
    "import pandas as pd\n",
    "import numpy as np\n",
    "import networkx as nx\n",
    "from pyvis import network as net\n",
    "from pyvis.network import Network\n",
    "import random\n",
    "#from serpapi import GoogleScholarSearch\n",
    "import json\n",
    "import requests"
   ]
  },
  {
   "cell_type": "markdown",
   "id": "a7c8419b1b4e97ba",
   "metadata": {
    "collapsed": false
   },
   "source": [
    "# Creation of DataFarme"
   ]
  },
  {
   "cell_type": "code",
   "execution_count": 55,
   "id": "a9ce5ae54aa56156",
   "metadata": {
    "collapsed": false,
    "ExecuteTime": {
     "end_time": "2023-11-29T15:56:17.927348Z",
     "start_time": "2023-11-29T15:56:17.870355Z"
    }
   },
   "outputs": [],
   "source": [
    "#import given dataframe nodes\n",
    "nodes = pd.read_csv(\"Data/nodes.csv\")\n",
    "\n",
    "nodes['author_id'] = None\n",
    "nodes['cited_by'] = None \n",
    "nodes['interests'] = None\n",
    "nodes.to_csv('Data/nodes.csv', index=False)\n",
    "\n",
    "edges = pd.DataFrame(columns=['author1','author2']) \n",
    "edges.to_csv('Data/edges.csv', index=False)"
   ]
  },
  {
   "cell_type": "markdown",
   "id": "efe3d2f3a4b86336",
   "metadata": {
    "collapsed": false
   },
   "source": [
    "## ES 1\n",
    "A partire da nodes.csv, utilizzare la libreria Python SerpAPI per scaricare, per ciascuno dei 7 autori elencati:\n",
    "- author_id: ID identificativo del profilo Google Scholar\n",
    "- cited_by: numero totale di citazioni ricevute\n",
    "- interests: elenco degli interessi di ciascun autore\n",
    "Sfruttando la libreria Python Pandas, usare la struttura dati DataFrame per aggiornare il file originale con apposite colonne e memorizzarlo nella cartella /data."
   ]
  },
  {
   "cell_type": "code",
   "execution_count": 59,
   "id": "5a2d7124c3f1ac47",
   "metadata": {
    "collapsed": false,
    "ExecuteTime": {
     "end_time": "2023-11-29T15:56:23.724329Z",
     "start_time": "2023-11-29T15:56:23.713102Z"
    }
   },
   "outputs": [
    {
     "data": {
      "text/plain": "'\\ndef key_choice():\\n    return random.choice(list(apikey.items()))[1]\\n'"
     },
     "execution_count": 59,
     "metadata": {},
     "output_type": "execute_result"
    }
   ],
   "source": [
    "#dictionary with the keys\n",
    "listApikey ={\n",
    "    'SERP_API_KEY_FAVA': \"1ae8a37d9b3dabb5732fcd7a9cb57410194766951242a4f4ac5bbd9fb7012048\", \n",
    "    'SERP_API_KEY_LIGUGNANA': \"11a077a8bee5bb1c2a25af914046bc7ce53050b3416e5720239e43223c63374b\",\n",
    "    'SERP_API_KEY_PARAVANO' :  \"42b4919fd319f0ff32c19ae31a88b4ff67a544e29ca2a017905088b2ae11e60e\",\n",
    "    'SERP_API_KEY_TAMMARO': \"6eaf5a9a0d2eef8bf026a947a3dffbb0d31cb1d6e122b81c0e6062f6b23a4c40\"\n",
    "}\n",
    "\n",
    "#key in use right now\n",
    "apikey = \"11a077a8bee5bb1c2a25af914046bc7ce53050b3416e5720239e43223c63374b\"\n",
    "\n",
    "#function to randomise the key in use\n",
    "'''\n",
    "def key_choice():\n",
    "    return random.choice(list(apikey.items()))[1]\n",
    "'''\n"
   ]
  },
  {
   "cell_type": "code",
   "execution_count": 60,
   "id": "2fd01d1d-0802-47f0-8cde-93da8625cfb3",
   "metadata": {
    "ExecuteTime": {
     "end_time": "2023-11-29T15:56:25.399733Z",
     "start_time": "2023-11-29T15:56:25.364639Z"
    }
   },
   "outputs": [],
   "source": [
    "#overwrite the row of nodes with df_update in the right position\n",
    "#if the author given isn't in nodes, then it will get concatenated\n",
    "\n",
    "def update_nodes(df_update, nodes):\n",
    "    \n",
    "    #read nodes csv\n",
    "    nodesMod = pd.read_csv(r'Data/nodes.csv')\n",
    "\n",
    "    print('nome: ', df_update[\"name\"][0])\n",
    "\n",
    "    #check if the author is in nodes using attributre name as parameter\n",
    "    if (nodes[\"name\"] == df_update[\"name\"][0]).any():\n",
    "        print('già presente in nodes')\n",
    "        #if author is already in nodes update the present row with df_update\n",
    "        for index in range(len(nodes)):\n",
    "            if nodes[\"name\"][index] == df_update[\"name\"][0]:\n",
    "                print('sta sovrascrivendo con: ', df_update.iloc[0])\n",
    "                nodesMod.iloc[index]=df_update.iloc[0]\n",
    "                nodesMod.to_csv(r'Data/nodes.csv', index=False) #overwrite the csv with the new row\n",
    "    else:\n",
    "        #if the author isn't already in nodes we concatenete it\n",
    "        nodesMod = pd.concat([nodesMod, df_update], ignore_index=True)\n",
    "        nodesMod.to_csv(r'Data/nodes.csv', index=False) #overwrite the csv by adding df_update at the end\n",
    "            "
   ]
  },
  {
   "cell_type": "code",
   "execution_count": 61,
   "id": "f1dbc1fd71fc6a3c",
   "metadata": {
    "collapsed": false,
    "ExecuteTime": {
     "end_time": "2023-11-29T15:56:26.974333Z",
     "start_time": "2023-11-29T15:56:26.963310Z"
    }
   },
   "outputs": [],
   "source": [
    "#author_profile returns a dataframe with name, affiliations, author_id, cited_by, interests of a given author\n",
    "\n",
    "def author_profile(apiKey, name, affiliation,nodes):\n",
    "    \n",
    "    base_url = \"https://serpapi.com/search\"\n",
    "    \n",
    "    #search among scholar profiles for the one with the given name\n",
    "    params = {\n",
    "        \"api_key\": apiKey,\n",
    "        \"engine\": \"google_scholar_profiles\",\n",
    "        \"hl\": \"en\",\n",
    "        \"mauthors\": name\n",
    "    }      \n",
    "    \n",
    "    #save the request response in json\n",
    "    response = requests.get(base_url, params = params)\n",
    "    results = response.json()\n",
    "    \n",
    "    #save the results in a json\n",
    "    name_json = \"json/\"+name + \".json\"\n",
    "    \n",
    "    with open(name_json, 'w', encoding='utf-8') as f:\n",
    "        json.dump(results, f, ensure_ascii=False, indent=4)\n",
    "    \n",
    "    print( results)\n",
    "    #scroll through profiles to verifies if the profile found is the one that wa are searching for\n",
    "    for profile in results[\"profiles\"]:\n",
    "        \n",
    "        #affiliation and name are those given as input to the function\n",
    "        if (profile[\"affiliations\"] in affiliation) and (profile[\"name\"] in name):\n",
    "                \n",
    "            #save the information needed for the right author\n",
    "            authorId = profile[\"author_id\"] \n",
    "            citedBy = profile[\"cited_by\"]\n",
    "            if 'interests' in profile:\n",
    "                if profile[\"interests\"] == '':\n",
    "                    interests = \", \".join([i['title'] for i in profile[\"interests\"]]) #select only titles for each interest, join to remove the square brackets (now seen as a single string instead of a list) \n",
    "                else:\n",
    "                    interests = ''\n",
    "            else:\n",
    "                profile['interests'] = ''\n",
    "            #create a new row of the dataframe with all the information needed and return it\n",
    "            df_update = pd.DataFrame({'name': [name],\n",
    "                               'affiliations': [affiliation],\n",
    "                               'author_id': [authorId],\n",
    "                               'cited_by': [citedBy],\n",
    "                               'interests': [interests]})\n",
    "            \n",
    "            #update the nodes row with additional author information\n",
    "            update_nodes(df_update,nodes)"
   ]
  },
  {
   "cell_type": "code",
   "execution_count": 54,
   "id": "8fb63309-32d8-453b-a501-8a63f260b582",
   "metadata": {
    "ExecuteTime": {
     "end_time": "2023-11-29T15:32:13.485459Z",
     "start_time": "2023-11-29T15:32:12.470894Z"
    }
   },
   "outputs": [
    {
     "name": "stdout",
     "output_type": "stream",
     "text": [
      "{'search_metadata': {'id': '6567550937014cca95498a29', 'status': 'Success', 'json_endpoint': 'https://serpapi.com/searches/348534f47eb0b84d/6567550937014cca95498a29.json', 'created_at': '2023-11-29 15:13:13 UTC', 'processed_at': '2023-11-29 15:13:13 UTC', 'google_scholar_profiles_url': 'https://scholar.google.com/citations?mauthors=Wolfgang+Nejdl&view_op=search_authors&hl=en', 'raw_html_file': 'https://serpapi.com/searches/348534f47eb0b84d/6567550937014cca95498a29.html', 'total_time_taken': 0.86}, 'search_parameters': {'engine': 'google_scholar_profiles', 'mauthors': 'Wolfgang Nejdl', 'hl': 'en'}, 'profiles': [{'name': 'Wolfgang Nejdl', 'link': 'https://scholar.google.com/citations?hl=en&user=LC62bdYAAAAJ', 'serpapi_link': 'https://serpapi.com/search.json?author_id=LC62bdYAAAAJ&engine=google_scholar_author&hl=en', 'author_id': 'LC62bdYAAAAJ', 'affiliations': 'Professor of Computer Science, Leibniz Universität Hannover, L3S Research Center …', 'email': 'Verified email at kbs.uni-hannover.de', 'cited_by': 25466, 'interests': [{'title': 'Information Retrieval', 'serpapi_link': 'https://serpapi.com/search.json?engine=google_scholar_profiles&hl=en&mauthors=label%3Ainformation_retrieval', 'link': 'https://scholar.google.com/citations?hl=en&view_op=search_authors&mauthors=label:information_retrieval'}, {'title': 'Web Science', 'serpapi_link': 'https://serpapi.com/search.json?engine=google_scholar_profiles&hl=en&mauthors=label%3Aweb_science', 'link': 'https://scholar.google.com/citations?hl=en&view_op=search_authors&mauthors=label:web_science'}, {'title': 'Social Media', 'serpapi_link': 'https://serpapi.com/search.json?engine=google_scholar_profiles&hl=en&mauthors=label%3Asocial_media', 'link': 'https://scholar.google.com/citations?hl=en&view_op=search_authors&mauthors=label:social_media'}, {'title': 'Data Mining', 'serpapi_link': 'https://serpapi.com/search.json?engine=google_scholar_profiles&hl=en&mauthors=label%3Adata_mining', 'link': 'https://scholar.google.com/citations?hl=en&view_op=search_authors&mauthors=label:data_mining'}, {'title': 'Semantic Technologies', 'serpapi_link': 'https://serpapi.com/search.json?engine=google_scholar_profiles&hl=en&mauthors=label%3Asemantic_technologies', 'link': 'https://scholar.google.com/citations?hl=en&view_op=search_authors&mauthors=label:semantic_technologies'}], 'thumbnail': 'https://scholar.googleusercontent.com/citations?view_op=small_photo&user=LC62bdYAAAAJ&citpid=3'}]}\n",
      "nome:  Wolfgang Nejdl\n",
      "già presente in nodes\n",
      "sta sovrascrivendo con:  name                                               Wolfgang Nejdl\n",
      "affiliations    Professor of Computer Science, Leibniz Univers...\n",
      "author_id                                            LC62bdYAAAAJ\n",
      "cited_by                                                    25466\n",
      "interests                                                    None\n",
      "Name: 0, dtype: object\n",
      "None\n"
     ]
    }
   ],
   "source": [
    "nodes = pd.read_csv(\"Data/nodes.csv\")\n",
    "\n",
    "print(author_profile(apikey,\"Wolfgang Nejdl\" ,\"Professor of Computer Science, Leibniz Universität Hannover, L3S Research Center …\", nodes))\n"
   ]
  },
  {
   "cell_type": "code",
   "execution_count": 55,
   "outputs": [
    {
     "data": {
      "text/plain": "{'search_metadata': {'id': '65675791f55d77e73f1a1d3f',\n  'status': 'Success',\n  'json_endpoint': 'https://serpapi.com/searches/0c24b68b768bb180/65675791f55d77e73f1a1d3f.json',\n  'created_at': '2023-11-29 15:24:01 UTC',\n  'processed_at': '2023-11-29 15:24:01 UTC',\n  'google_scholar_profiles_url': 'https://scholar.google.com/citations?mauthors=Claudiu+S.+Firan&view_op=search_authors&hl=en',\n  'raw_html_file': 'https://serpapi.com/searches/0c24b68b768bb180/65675791f55d77e73f1a1d3f.html',\n  'total_time_taken': 0.32},\n 'search_parameters': {'engine': 'google_scholar_profiles',\n  'mauthors': 'Claudiu S. Firan',\n  'hl': 'en'},\n 'profiles': [{'name': 'Claudiu S. Firan',\n   'link': 'https://scholar.google.com/citations?hl=en&user=SRc8aowAAAAJ',\n   'serpapi_link': 'https://serpapi.com/search.json?author_id=SRc8aowAAAAJ&engine=google_scholar_author&hl=en',\n   'author_id': 'SRc8aowAAAAJ',\n   'affiliations': '',\n   'email': 'Verified email at l3s.de',\n   'cited_by': 1742,\n   'thumbnail': 'https://scholar.googleusercontent.com/citations?view_op=small_photo&user=SRc8aowAAAAJ&citpid=2'}]}"
     },
     "execution_count": 55,
     "metadata": {},
     "output_type": "execute_result"
    }
   ],
   "source": [
    "base_url = \"https://serpapi.com/search\"\n",
    "    \n",
    "#search among scholar profiles for the one with the given name\n",
    "params = {\n",
    "    \"api_key\": apikey,\n",
    "    \"engine\": \"google_scholar_profiles\",\n",
    "    \"hl\": \"en\",\n",
    "    \"mauthors\": 'Claudiu S. Firan'\n",
    "}      \n",
    "\n",
    "response = requests.get(base_url, params = params)\n",
    "results = response.json()\n",
    "results\n"
   ],
   "metadata": {
    "collapsed": false,
    "ExecuteTime": {
     "end_time": "2023-11-29T15:32:19.859263Z",
     "start_time": "2023-11-29T15:32:19.458534Z"
    }
   },
   "id": "9b8e365caa0d8dd5"
  },
  {
   "cell_type": "code",
   "execution_count": 62,
   "id": "d3f0af508e2bc0b4",
   "metadata": {
    "collapsed": false,
    "ExecuteTime": {
     "end_time": "2023-11-29T15:56:34.888246Z",
     "start_time": "2023-11-29T15:56:34.846152Z"
    }
   },
   "outputs": [],
   "source": [
    "#nodes_information return a dataframe with name, affiliations, author_id, cited_by, interests;\n",
    "#for each node in the given dataframe containing name and affiliation for each author \n",
    "\n",
    "def nodes_information(apikey, df):\n",
    "    \n",
    "    #iterate the row of the given df, for each one makes the call to the author_profile\n",
    "    for index, row in df.iterrows():\n",
    "        author_data = author_profile(apikey, row['name'], row['affiliations'])\n",
    "        "
   ]
  },
  {
   "cell_type": "markdown",
   "id": "9476559ebc8c0101",
   "metadata": {
    "collapsed": false
   },
   "source": [
    "## Main es 1"
   ]
  },
  {
   "cell_type": "code",
   "execution_count": 142,
   "id": "98b8a090688a5a23",
   "metadata": {
    "ExecuteTime": {
     "end_time": "2023-11-25T10:45:04.660942Z",
     "start_time": "2023-11-25T10:44:46.964020Z"
    },
    "collapsed": false
   },
   "outputs": [],
   "source": [
    "#get the final dataframe of the 7 originals authors with name, affiliations, author_id, cited_by, interests \n",
    "nodes_information(apikey, nodes)"
   ]
  },
  {
   "cell_type": "markdown",
   "id": "a30775e4cb2ccd3c",
   "metadata": {
    "collapsed": false,
    "ExecuteTime": {
     "end_time": "2023-11-29T09:30:46.313355Z",
     "start_time": "2023-11-29T09:30:46.304143Z"
    }
   },
   "source": [
    "## 2. Analisi dei Coautori tramite SerpAPI su Google Scholar\n",
    "\n",
    "### a. Ottenere i Coautori dei 7 Autori Principali\n",
    "\n",
    "Per ciascuno dei 7 autori, utilizzare il suo ID per accedere al relativo profilo Google Scholar e scaricare l'elenco dei suoi coautori utilizzando SerpAPI. Con tale elenco di nomi:;\n",
    "\n",
    "#### a.1. Ricerca dei Coautori su Google Scholar\n",
    "\n",
    "Utilizzare le SerpAPI per cercare su Google Scholar un ricercatore che corrisponde a ciascun nome nella lista di coautori. Per ogni risultato, salvare le informazioni come `name`, `affiliations`, `author_id`, `cited_by`, e `interests` in un nuovo DataFrame contenente tutte queste informazioni relative ai coautori dei 7 autori originari.\n",
    "\n",
    "### b. Concatenazione dei DataFrame\n",
    "\n",
    "Concatenare il DataFrame contenente le informazioni sui 7 autori principali con quello dei coautori generato al punto 2a in un unico DataFrame.\n",
    "\n",
    "### c. Creazione del DataFrame delle Relazioni di Co-Authorship\n",
    "\n",
    "Creare un terzo DataFrame con le colonne `author1` e `author2` che rappresenta le co-authorship. In questo DataFrame, una riga rappresenta un arco di coauthorship tra due autori. La co-authorship è binaria, non pesata.\n",
    "\n",
    "#### Esempio\n",
    "\n",
    "Se David La Barbera e Michael Soprano sono coautori, una riga del DataFrame creato al punto 2c rappresenterà questa relazione.\n",
    "\n",
    "### Risultati Finali\n",
    "\n",
    "A questo punto, saranno stati prodotti due DataFrame:\n",
    "\n",
    "- Uno contenente le informazioni relative agli autori (originali + i relativi coautori), con le colonne `name`, `affiliations`, `cited_by`, `interests`. Salvare come `nodes.csv` nella cartella `/data` tale DataFrame.\n",
    "\n",
    "- Un altro per le relazioni di co-authorship dai 7 autori principali verso i relativi coautori, con colonne `author1` e `author2`. Salvare come `edges.csv` nella cartella `/data` tale DataFrame.\n",
    "\n",
    "\n",
    "\n",
    "\n",
    "\n",
    "\n",
    "\n",
    "\n"
   ]
  },
  {
   "cell_type": "code",
   "execution_count": 63,
   "outputs": [],
   "source": [
    "def get_profile_coauthors(apiKey, authorID,nodes):\n",
    "    base_url = \"https://serpapi.com/search\"\n",
    "\n",
    "    #search among scholar profiles for the one with the given author_id\n",
    "    params = {\n",
    "        \"api_key\": apiKey,\n",
    "        \"engine\": \"google_scholar_author\",\n",
    "        \"hl\": \"en\",\n",
    "        \"author_id\": authorID\n",
    "    }\n",
    "    response = requests.get(base_url, params = params)\n",
    "    results = response.json()\n",
    "    \n",
    "    name_json = \"json/\"+authorID + \".json\"\n",
    "    with open(name_json, 'w', encoding='utf-8') as f:\n",
    "        json.dump(results, f, ensure_ascii=False, indent=4)\n",
    "    \n",
    "    #crea solo un dataFrame di appoggio con colonna name e affiliations, secondo me non serve, ammno che non venga usato da qualche aletra parte\n",
    "    authorName = results[\"author\"]\n",
    "    edges = pd.read_csv(r'Data/edges.csv')\n",
    "    #for each coauthor save name and affiliation in a dataframe\n",
    "    for coautore in results['co_authors']:\n",
    "        coppie_da_cercare = [(authorName[\"name\"], coautore['name']), (coautore['name'], authorName[\"name\"])]\n",
    "        #Cicla attraverso il DataFrame e verifica le condizioni\n",
    "        trovato = True\n",
    "        for index, row in edges.iterrows():\n",
    "            if (row['author1'], row['author2']) in coppie_da_cercare or (row['author2'], row['author1']) in coppie_da_cercare:\n",
    "                #esiste gia un collegamento tra aurtore e coautore o viceversa\n",
    "                trovato = False\n",
    "        if(trovato):\n",
    "            row_edge = pd.DataFrame([{'author1' : authorName[\"name\"], 'author2': coautore['name']}])\n",
    "            edges = pd.concat([edges, row_edge], ignore_index=True)\n",
    "        #adding coauthors to nodes\n",
    "        print('affiliation:',coautore['affiliations'])\n",
    "        if 'affiliations' in coautore:\n",
    "            if coautore['affiliations'] == '':\n",
    "                print('if ',coautore['affiliations'])\n",
    "                author_profile(apiKey, coautore['name'], '', nodes)\n",
    "            else:\n",
    "                print('else ',coautore['affiliations'])\n",
    "                author_profile(apiKey, coautore['name'], coautore['affiliations'], nodes)\n",
    "        else:\n",
    "            coautore['affiliations'] = ''\n",
    "\n",
    "    edges.to_csv(r'Data/edges.csv', index=False)"
   ],
   "metadata": {
    "collapsed": false,
    "ExecuteTime": {
     "end_time": "2023-11-29T15:56:40.778406Z",
     "start_time": "2023-11-29T15:56:40.747439Z"
    }
   },
   "id": "bf9cedc6faf850d9"
  },
  {
   "cell_type": "code",
   "execution_count": 74,
   "outputs": [
    {
     "name": "stdout",
     "output_type": "stream",
     "text": [
      "affiliation: University of Udine\n",
      "else  University of Udine\n",
      "{'search_metadata': {'id': '65675afd359e996139ead0dc', 'status': 'Success', 'json_endpoint': 'https://serpapi.com/searches/dd4d4a53a5768782/65675afd359e996139ead0dc.json', 'created_at': '2023-11-29 15:38:37 UTC', 'processed_at': '2023-11-29 15:38:37 UTC', 'google_scholar_profiles_url': 'https://scholar.google.com/citations?mauthors=Kevin+Roitero&view_op=search_authors&hl=en', 'raw_html_file': 'https://serpapi.com/searches/dd4d4a53a5768782/65675afd359e996139ead0dc.html', 'total_time_taken': 1.23}, 'search_parameters': {'engine': 'google_scholar_profiles', 'mauthors': 'Kevin Roitero', 'hl': 'en'}, 'profiles': [{'name': 'Kevin Roitero', 'link': 'https://scholar.google.com/citations?hl=en&user=1xd52jMAAAAJ', 'serpapi_link': 'https://serpapi.com/search.json?author_id=1xd52jMAAAAJ&engine=google_scholar_author&hl=en', 'author_id': '1xd52jMAAAAJ', 'affiliations': 'University of Udine', 'email': 'Verified email at uniud.it', 'cited_by': 691, 'interests': [{'title': 'Artificial Intelligence', 'serpapi_link': 'https://serpapi.com/search.json?engine=google_scholar_profiles&hl=en&mauthors=label%3Aartificial_intelligence', 'link': 'https://scholar.google.com/citations?hl=en&view_op=search_authors&mauthors=label:artificial_intelligence'}, {'title': 'Crowdsourcing and Human Computation', 'serpapi_link': 'https://serpapi.com/search.json?engine=google_scholar_profiles&hl=en&mauthors=label%3Acrowdsourcing_and_human_computation', 'link': 'https://scholar.google.com/citations?hl=en&view_op=search_authors&mauthors=label:crowdsourcing_and_human_computation'}, {'title': 'Information Retrieval', 'serpapi_link': 'https://serpapi.com/search.json?engine=google_scholar_profiles&hl=en&mauthors=label%3Ainformation_retrieval', 'link': 'https://scholar.google.com/citations?hl=en&view_op=search_authors&mauthors=label:information_retrieval'}], 'thumbnail': 'https://scholar.googleusercontent.com/citations?view_op=small_photo&user=1xd52jMAAAAJ&citpid=6'}]}\n",
      "nome:  Kevin Roitero\n",
      "già presente in nodes\n",
      "sta sovrascrivendo con:  name                                                Kevin Roitero\n",
      "affiliations                                  University of Udine\n",
      "author_id                                            1xd52jMAAAAJ\n",
      "cited_by                                                      691\n",
      "interests       Artificial Intelligence, Crowdsourcing and Hum...\n",
      "Name: 0, dtype: object\n",
      "affiliation: Full professor of Computer Science and Information Technology\n",
      "else  Full professor of Computer Science and Information Technology\n",
      "{'search_metadata': {'id': '65675affd3aba2d67db46ab5', 'status': 'Success', 'json_endpoint': 'https://serpapi.com/searches/baf45db5cddfec45/65675affd3aba2d67db46ab5.json', 'created_at': '2023-11-29 15:38:39 UTC', 'processed_at': '2023-11-29 15:38:39 UTC', 'google_scholar_profiles_url': 'https://scholar.google.com/citations?mauthors=Stefano+Mizzaro&view_op=search_authors&hl=en', 'raw_html_file': 'https://serpapi.com/searches/baf45db5cddfec45/65675affd3aba2d67db46ab5.html', 'total_time_taken': 1.58}, 'search_parameters': {'engine': 'google_scholar_profiles', 'mauthors': 'Stefano Mizzaro', 'hl': 'en'}, 'profiles': [{'name': 'Stefano Mizzaro', 'link': 'https://scholar.google.com/citations?hl=en&user=2wvJC6IAAAAJ', 'serpapi_link': 'https://serpapi.com/search.json?author_id=2wvJC6IAAAAJ&engine=google_scholar_author&hl=en', 'author_id': '2wvJC6IAAAAJ', 'affiliations': 'Full professor of Computer Science and Information Technology', 'email': 'Verified email at uniud.it', 'cited_by': 4742, 'interests': [{'title': 'Information retrieval', 'serpapi_link': 'https://serpapi.com/search.json?engine=google_scholar_profiles&hl=en&mauthors=label%3Ainformation_retrieval', 'link': 'https://scholar.google.com/citations?hl=en&view_op=search_authors&mauthors=label:information_retrieval'}, {'title': 'mobile systems', 'serpapi_link': 'https://serpapi.com/search.json?engine=google_scholar_profiles&hl=en&mauthors=label%3Amobile_systems', 'link': 'https://scholar.google.com/citations?hl=en&view_op=search_authors&mauthors=label:mobile_systems'}, {'title': 'scholarly publishing', 'serpapi_link': 'https://serpapi.com/search.json?engine=google_scholar_profiles&hl=en&mauthors=label%3Ascholarly_publishing', 'link': 'https://scholar.google.com/citations?hl=en&view_op=search_authors&mauthors=label:scholarly_publishing'}, {'title': 'crowdsourcing', 'serpapi_link': 'https://serpapi.com/search.json?engine=google_scholar_profiles&hl=en&mauthors=label%3Acrowdsourcing', 'link': 'https://scholar.google.com/citations?hl=en&view_op=search_authors&mauthors=label:crowdsourcing'}, {'title': 'misinformation and fake news detection', 'serpapi_link': 'https://serpapi.com/search.json?engine=google_scholar_profiles&hl=en&mauthors=label%3Amisinformation_and_fake_news_detection', 'link': 'https://scholar.google.com/citations?hl=en&view_op=search_authors&mauthors=label:misinformation_and_fake_news_detection'}], 'thumbnail': 'https://scholar.googleusercontent.com/citations?view_op=small_photo&user=2wvJC6IAAAAJ&citpid=1'}]}\n",
      "nome:  Stefano Mizzaro\n",
      "già presente in nodes\n",
      "sta sovrascrivendo con:  name                                              Stefano Mizzaro\n",
      "affiliations    Full professor of Computer Science and Informa...\n",
      "author_id                                            2wvJC6IAAAAJ\n",
      "cited_by                                                     4742\n",
      "interests       Information retrieval, mobile systems, scholar...\n",
      "Name: 0, dtype: object\n",
      "affiliation: Associate Professor at the University of Queensland\n",
      "else  Associate Professor at the University of Queensland\n",
      "{'search_metadata': {'id': '656766369b6472fad7b8a84d', 'status': 'Success', 'json_endpoint': 'https://serpapi.com/searches/2c92b487f32c0ced/656766369b6472fad7b8a84d.json', 'created_at': '2023-11-29 16:26:30 UTC', 'processed_at': '2023-11-29 16:26:30 UTC', 'google_scholar_profiles_url': 'https://scholar.google.com/citations?mauthors=Gianluca+Demartini&view_op=search_authors&hl=en', 'raw_html_file': 'https://serpapi.com/searches/2c92b487f32c0ced/656766369b6472fad7b8a84d.html', 'total_time_taken': 1.8}, 'search_parameters': {'engine': 'google_scholar_profiles', 'mauthors': 'Gianluca Demartini', 'hl': 'en'}, 'profiles': [{'name': 'Gianluca Demartini', 'link': 'https://scholar.google.com/citations?hl=en&user=PCAiILsAAAAJ', 'serpapi_link': 'https://serpapi.com/search.json?author_id=PCAiILsAAAAJ&engine=google_scholar_author&hl=en', 'author_id': 'PCAiILsAAAAJ', 'affiliations': 'Associate Professor at the University of Queensland', 'email': 'Verified email at cs.berkeley.edu', 'cited_by': 5355, 'interests': [{'title': 'Information Retrieval', 'serpapi_link': 'https://serpapi.com/search.json?engine=google_scholar_profiles&hl=en&mauthors=label%3Ainformation_retrieval', 'link': 'https://scholar.google.com/citations?hl=en&view_op=search_authors&mauthors=label:information_retrieval'}, {'title': 'Semantic Web', 'serpapi_link': 'https://serpapi.com/search.json?engine=google_scholar_profiles&hl=en&mauthors=label%3Asemantic_web', 'link': 'https://scholar.google.com/citations?hl=en&view_op=search_authors&mauthors=label:semantic_web'}, {'title': 'Human Computation', 'serpapi_link': 'https://serpapi.com/search.json?engine=google_scholar_profiles&hl=en&mauthors=label%3Ahuman_computation', 'link': 'https://scholar.google.com/citations?hl=en&view_op=search_authors&mauthors=label:human_computation'}, {'title': 'Crowdsourcing', 'serpapi_link': 'https://serpapi.com/search.json?engine=google_scholar_profiles&hl=en&mauthors=label%3Acrowdsourcing', 'link': 'https://scholar.google.com/citations?hl=en&view_op=search_authors&mauthors=label:crowdsourcing'}], 'thumbnail': 'https://scholar.googleusercontent.com/citations?view_op=small_photo&user=PCAiILsAAAAJ&citpid=6'}]}\n",
      "nome:  Gianluca Demartini\n",
      "già presente in nodes\n",
      "sta sovrascrivendo con:  name                                           Gianluca Demartini\n",
      "affiliations    Associate Professor at the University of Queen...\n",
      "author_id                                            PCAiILsAAAAJ\n",
      "cited_by                                                     5355\n",
      "interests       Information Retrieval, Semantic Web, Human Com...\n",
      "Name: 0, dtype: object\n",
      "affiliation: School of Computing Technologies, RMIT University\n",
      "else  School of Computing Technologies, RMIT University\n",
      "{'search_metadata': {'id': '65675f52a1b42334f62e673c', 'status': 'Success', 'json_endpoint': 'https://serpapi.com/searches/6e3e997fbac12d9e/65675f52a1b42334f62e673c.json', 'created_at': '2023-11-29 15:57:06 UTC', 'processed_at': '2023-11-29 15:57:06 UTC', 'google_scholar_profiles_url': 'https://scholar.google.com/citations?mauthors=Damiano+Spina&view_op=search_authors&hl=en', 'raw_html_file': 'https://serpapi.com/searches/6e3e997fbac12d9e/65675f52a1b42334f62e673c.html', 'total_time_taken': 0.16}, 'search_parameters': {'engine': 'google_scholar_profiles', 'mauthors': 'Damiano Spina', 'hl': 'en'}, 'profiles': [{'name': 'Damiano Spina', 'link': 'https://scholar.google.com/citations?hl=en&user=sLzYrNYAAAAJ', 'serpapi_link': 'https://serpapi.com/search.json?author_id=sLzYrNYAAAAJ&engine=google_scholar_author&hl=en', 'author_id': 'sLzYrNYAAAAJ', 'affiliations': 'School of Computing Technologies, RMIT University', 'email': 'Verified email at rmit.edu.au', 'cited_by': 2491, 'interests': [{'title': 'Information Retrieval', 'serpapi_link': 'https://serpapi.com/search.json?engine=google_scholar_profiles&hl=en&mauthors=label%3Ainformation_retrieval', 'link': 'https://scholar.google.com/citations?hl=en&view_op=search_authors&mauthors=label:information_retrieval'}, {'title': 'Text Analytics', 'serpapi_link': 'https://serpapi.com/search.json?engine=google_scholar_profiles&hl=en&mauthors=label%3Atext_analytics', 'link': 'https://scholar.google.com/citations?hl=en&view_op=search_authors&mauthors=label:text_analytics'}, {'title': 'Data Science', 'serpapi_link': 'https://serpapi.com/search.json?engine=google_scholar_profiles&hl=en&mauthors=label%3Adata_science', 'link': 'https://scholar.google.com/citations?hl=en&view_op=search_authors&mauthors=label:data_science'}, {'title': 'Evaluation', 'serpapi_link': 'https://serpapi.com/search.json?engine=google_scholar_profiles&hl=en&mauthors=label%3Aevaluation', 'link': 'https://scholar.google.com/citations?hl=en&view_op=search_authors&mauthors=label:evaluation'}, {'title': 'Human-AI Fact-checking', 'serpapi_link': 'https://serpapi.com/search.json?engine=google_scholar_profiles&hl=en&mauthors=label%3Ahuman_ai_fact_checking', 'link': 'https://scholar.google.com/citations?hl=en&view_op=search_authors&mauthors=label:human_ai_fact_checking'}], 'thumbnail': 'https://scholar.googleusercontent.com/citations?view_op=small_photo&user=sLzYrNYAAAAJ&citpid=8'}]}\n",
      "nome:  Damiano Spina\n",
      "già presente in nodes\n",
      "sta sovrascrivendo con:  name                                                Damiano Spina\n",
      "affiliations    School of Computing Technologies, RMIT University\n",
      "author_id                                            sLzYrNYAAAAJ\n",
      "cited_by                                                     2491\n",
      "interests       Information Retrieval, Text Analytics, Data Sc...\n",
      "Name: 0, dtype: object\n",
      "affiliation: Tenured Researcher, CWI Amsterdam\n",
      "else  Tenured Researcher, CWI Amsterdam\n",
      "{'search_metadata': {'id': '65675f55fa86757ba53fd530', 'status': 'Success', 'json_endpoint': 'https://serpapi.com/searches/1f8f5a107af2ef1b/65675f55fa86757ba53fd530.json', 'created_at': '2023-11-29 15:57:09 UTC', 'processed_at': '2023-11-29 15:57:09 UTC', 'google_scholar_profiles_url': 'https://scholar.google.com/citations?mauthors=Davide+Ceolin&view_op=search_authors&hl=en', 'raw_html_file': 'https://serpapi.com/searches/1f8f5a107af2ef1b/65675f55fa86757ba53fd530.html', 'total_time_taken': 1.23}, 'search_parameters': {'engine': 'google_scholar_profiles', 'mauthors': 'Davide Ceolin', 'hl': 'en'}, 'profiles': [{'name': 'Davide Ceolin', 'link': 'https://scholar.google.com/citations?hl=en&user=y8Jy518AAAAJ', 'serpapi_link': 'https://serpapi.com/search.json?author_id=y8Jy518AAAAJ&engine=google_scholar_author&hl=en', 'author_id': 'y8Jy518AAAAJ', 'affiliations': 'Tenured Researcher, CWI Amsterdam', 'email': 'Verified email at cwi.nl', 'cited_by': 498, 'interests': [{'title': 'Information Quality', 'serpapi_link': 'https://serpapi.com/search.json?engine=google_scholar_profiles&hl=en&mauthors=label%3Ainformation_quality', 'link': 'https://scholar.google.com/citations?hl=en&view_op=search_authors&mauthors=label:information_quality'}, {'title': 'Trust', 'serpapi_link': 'https://serpapi.com/search.json?engine=google_scholar_profiles&hl=en&mauthors=label%3Atrust', 'link': 'https://scholar.google.com/citations?hl=en&view_op=search_authors&mauthors=label:trust'}, {'title': 'Semantic Web', 'serpapi_link': 'https://serpapi.com/search.json?engine=google_scholar_profiles&hl=en&mauthors=label%3Asemantic_web', 'link': 'https://scholar.google.com/citations?hl=en&view_op=search_authors&mauthors=label:semantic_web'}, {'title': 'Probabilistic Logic', 'serpapi_link': 'https://serpapi.com/search.json?engine=google_scholar_profiles&hl=en&mauthors=label%3Aprobabilistic_logic', 'link': 'https://scholar.google.com/citations?hl=en&view_op=search_authors&mauthors=label:probabilistic_logic'}, {'title': 'Provenance', 'serpapi_link': 'https://serpapi.com/search.json?engine=google_scholar_profiles&hl=en&mauthors=label%3Aprovenance', 'link': 'https://scholar.google.com/citations?hl=en&view_op=search_authors&mauthors=label:provenance'}], 'thumbnail': 'https://scholar.google.com/citations/images/avatar_scholar_56.png'}]}\n",
      "nome:  Davide Ceolin\n",
      "già presente in nodes\n",
      "sta sovrascrivendo con:  name                                                Davide Ceolin\n",
      "affiliations                    Tenured Researcher, CWI Amsterdam\n",
      "author_id                                            y8Jy518AAAAJ\n",
      "cited_by                                                      498\n",
      "interests       Information Quality, Trust, Semantic Web, Prob...\n",
      "Name: 0, dtype: object\n",
      "affiliation: Università Degli Studi Di Udine\n",
      "else  Università Degli Studi Di Udine\n",
      "{'search_metadata': {'id': '6567686649ecdb208512483b', 'status': 'Success', 'json_endpoint': 'https://serpapi.com/searches/8c1f55d8f3d09a62/6567686649ecdb208512483b.json', 'created_at': '2023-11-29 16:35:50 UTC', 'processed_at': '2023-11-29 16:35:50 UTC', 'google_scholar_profiles_url': 'https://scholar.google.com/citations?mauthors=David+La+Barbera&view_op=search_authors&hl=en', 'raw_html_file': 'https://serpapi.com/searches/8c1f55d8f3d09a62/6567686649ecdb208512483b.html', 'total_time_taken': 1.2}, 'search_parameters': {'engine': 'google_scholar_profiles', 'mauthors': 'David La Barbera', 'hl': 'en'}, 'profiles': [{'name': 'David La Barbera', 'link': 'https://scholar.google.com/citations?hl=en&user=MvN8wKEAAAAJ', 'serpapi_link': 'https://serpapi.com/search.json?author_id=MvN8wKEAAAAJ&engine=google_scholar_author&hl=en', 'author_id': 'MvN8wKEAAAAJ', 'affiliations': 'Università Degli Studi Di Udine', 'email': 'Verified email at spes.uniud.it', 'cited_by': 139, 'interests': [{'title': 'Computer Science', 'serpapi_link': 'https://serpapi.com/search.json?engine=google_scholar_profiles&hl=en&mauthors=label%3Acomputer_science', 'link': 'https://scholar.google.com/citations?hl=en&view_op=search_authors&mauthors=label:computer_science'}], 'thumbnail': 'https://scholar.googleusercontent.com/citations?view_op=small_photo&user=MvN8wKEAAAAJ&citpid=1'}]}\n",
      "nome:  David La Barbera\n",
      "già presente in nodes\n",
      "sta sovrascrivendo con:  name                           David La Barbera\n",
      "affiliations    Università Degli Studi Di Udine\n",
      "author_id                          MvN8wKEAAAAJ\n",
      "cited_by                                    139\n",
      "interests                      Computer Science\n",
      "Name: 0, dtype: object\n",
      "affiliation: Associate Professor of Medical Informatics, University of Udine\n",
      "else  Associate Professor of Medical Informatics, University of Udine\n",
      "{'search_metadata': {'id': '65675f54aa6c95dc631f1143', 'status': 'Success', 'json_endpoint': 'https://serpapi.com/searches/916ba13f148c3b4f/65675f54aa6c95dc631f1143.json', 'created_at': '2023-11-29 15:57:08 UTC', 'processed_at': '2023-11-29 15:57:08 UTC', 'google_scholar_profiles_url': 'https://scholar.google.com/citations?mauthors=Vincenzo+Della+Mea&view_op=search_authors&hl=en', 'raw_html_file': 'https://serpapi.com/searches/916ba13f148c3b4f/65675f54aa6c95dc631f1143.html', 'total_time_taken': 0.79}, 'search_parameters': {'engine': 'google_scholar_profiles', 'mauthors': 'Vincenzo Della Mea', 'hl': 'en'}, 'profiles': [{'name': 'Vincenzo Della Mea', 'link': 'https://scholar.google.com/citations?hl=en&user=BF3B4KAAAAAJ', 'serpapi_link': 'https://serpapi.com/search.json?author_id=BF3B4KAAAAAJ&engine=google_scholar_author&hl=en', 'author_id': 'BF3B4KAAAAAJ', 'affiliations': 'Associate Professor of Medical Informatics, University of Udine', 'email': 'Verified email at uniud.it', 'cited_by': 2892, 'interests': [{'title': 'medical informatics', 'serpapi_link': 'https://serpapi.com/search.json?engine=google_scholar_profiles&hl=en&mauthors=label%3Amedical_informatics', 'link': 'https://scholar.google.com/citations?hl=en&view_op=search_authors&mauthors=label:medical_informatics'}, {'title': 'telemedicine', 'serpapi_link': 'https://serpapi.com/search.json?engine=google_scholar_profiles&hl=en&mauthors=label%3Atelemedicine', 'link': 'https://scholar.google.com/citations?hl=en&view_op=search_authors&mauthors=label:telemedicine'}, {'title': 'digital pathology', 'serpapi_link': 'https://serpapi.com/search.json?engine=google_scholar_profiles&hl=en&mauthors=label%3Adigital_pathology', 'link': 'https://scholar.google.com/citations?hl=en&view_op=search_authors&mauthors=label:digital_pathology'}, {'title': 'biomedical classifications and ontologies', 'serpapi_link': 'https://serpapi.com/search.json?engine=google_scholar_profiles&hl=en&mauthors=label%3Abiomedical_classifications_and_ontologies', 'link': 'https://scholar.google.com/citations?hl=en&view_op=search_authors&mauthors=label:biomedical_classifications_and_ontologies'}], 'thumbnail': 'https://scholar.googleusercontent.com/citations?view_op=small_photo&user=BF3B4KAAAAAJ&citpid=7'}]}\n",
      "nome:  Vincenzo Della Mea\n",
      "già presente in nodes\n",
      "sta sovrascrivendo con:  name                                           Vincenzo Della Mea\n",
      "affiliations    Associate Professor of Medical Informatics, Un...\n",
      "author_id                                            BF3B4KAAAAAJ\n",
      "cited_by                                                     2892\n",
      "interests       medical informatics, telemedicine, digital pat...\n",
      "Name: 0, dtype: object\n",
      "affiliation: University of Udine\n",
      "else  University of Udine\n",
      "{'search_metadata': {'id': '656768683bea7bb9d191fa4a', 'status': 'Success', 'json_endpoint': 'https://serpapi.com/searches/12082391f8b40f37/656768683bea7bb9d191fa4a.json', 'created_at': '2023-11-29 16:35:52 UTC', 'processed_at': '2023-11-29 16:35:52 UTC', 'google_scholar_profiles_url': 'https://scholar.google.com/citations?mauthors=Beatrice+Portelli&view_op=search_authors&hl=en', 'raw_html_file': 'https://serpapi.com/searches/12082391f8b40f37/656768683bea7bb9d191fa4a.html', 'total_time_taken': 1.34}, 'search_parameters': {'engine': 'google_scholar_profiles', 'mauthors': 'Beatrice Portelli', 'hl': 'en'}, 'profiles': [{'name': 'Beatrice Portelli', 'link': 'https://scholar.google.com/citations?hl=en&user=HQZd6wsAAAAJ', 'serpapi_link': 'https://serpapi.com/search.json?author_id=HQZd6wsAAAAJ&engine=google_scholar_author&hl=en', 'author_id': 'HQZd6wsAAAAJ', 'affiliations': 'University of Udine', 'email': 'Verified email at spes.uniud.it', 'cited_by': 144, 'thumbnail': 'https://scholar.googleusercontent.com/citations?view_op=small_photo&user=HQZd6wsAAAAJ&citpid=2'}]}\n"
     ]
    },
    {
     "ename": "UnboundLocalError",
     "evalue": "cannot access local variable 'interests' where it is not associated with a value",
     "output_type": "error",
     "traceback": [
      "\u001B[0;31m---------------------------------------------------------------------------\u001B[0m",
      "\u001B[0;31mUnboundLocalError\u001B[0m                         Traceback (most recent call last)",
      "Cell \u001B[0;32mIn[74], line 3\u001B[0m\n\u001B[1;32m      1\u001B[0m nodes \u001B[38;5;241m=\u001B[39m pd\u001B[38;5;241m.\u001B[39mread_csv(\u001B[38;5;124m\"\u001B[39m\u001B[38;5;124mData/nodes.csv\u001B[39m\u001B[38;5;124m\"\u001B[39m)\n\u001B[0;32m----> 3\u001B[0m get_profile_coauthors(apikey,\u001B[38;5;124m'\u001B[39m\u001B[38;5;124mocK0qRUAAAAJ\u001B[39m\u001B[38;5;124m'\u001B[39m,nodes)\n",
      "Cell \u001B[0;32mIn[63], line 41\u001B[0m, in \u001B[0;36mget_profile_coauthors\u001B[0;34m(apiKey, authorID, nodes)\u001B[0m\n\u001B[1;32m     39\u001B[0m     \u001B[38;5;28;01melse\u001B[39;00m:\n\u001B[1;32m     40\u001B[0m         \u001B[38;5;28mprint\u001B[39m(\u001B[38;5;124m'\u001B[39m\u001B[38;5;124melse \u001B[39m\u001B[38;5;124m'\u001B[39m,coautore[\u001B[38;5;124m'\u001B[39m\u001B[38;5;124maffiliations\u001B[39m\u001B[38;5;124m'\u001B[39m])\n\u001B[0;32m---> 41\u001B[0m         author_profile(apiKey, coautore[\u001B[38;5;124m'\u001B[39m\u001B[38;5;124mname\u001B[39m\u001B[38;5;124m'\u001B[39m], coautore[\u001B[38;5;124m'\u001B[39m\u001B[38;5;124maffiliations\u001B[39m\u001B[38;5;124m'\u001B[39m], nodes)\n\u001B[1;32m     42\u001B[0m \u001B[38;5;28;01melse\u001B[39;00m:\n\u001B[1;32m     43\u001B[0m     coautore[\u001B[38;5;124m'\u001B[39m\u001B[38;5;124maffiliations\u001B[39m\u001B[38;5;124m'\u001B[39m] \u001B[38;5;241m=\u001B[39m \u001B[38;5;124m'\u001B[39m\u001B[38;5;124m'\u001B[39m\n",
      "Cell \u001B[0;32mIn[61], line 51\u001B[0m, in \u001B[0;36mauthor_profile\u001B[0;34m(apiKey, name, affiliation, nodes)\u001B[0m\n\u001B[1;32m     45\u001B[0m     profile[\u001B[38;5;124m'\u001B[39m\u001B[38;5;124minterests\u001B[39m\u001B[38;5;124m'\u001B[39m] \u001B[38;5;241m=\u001B[39m \u001B[38;5;124m'\u001B[39m\u001B[38;5;124m \u001B[39m\u001B[38;5;124m'\u001B[39m\n\u001B[1;32m     46\u001B[0m \u001B[38;5;66;03m#create a new row of the dataframe with all the information needed and return it\u001B[39;00m\n\u001B[1;32m     47\u001B[0m df_update \u001B[38;5;241m=\u001B[39m pd\u001B[38;5;241m.\u001B[39mDataFrame({\u001B[38;5;124m'\u001B[39m\u001B[38;5;124mname\u001B[39m\u001B[38;5;124m'\u001B[39m: [name],\n\u001B[1;32m     48\u001B[0m                    \u001B[38;5;124m'\u001B[39m\u001B[38;5;124maffiliations\u001B[39m\u001B[38;5;124m'\u001B[39m: [affiliation],\n\u001B[1;32m     49\u001B[0m                    \u001B[38;5;124m'\u001B[39m\u001B[38;5;124mauthor_id\u001B[39m\u001B[38;5;124m'\u001B[39m: [authorId],\n\u001B[1;32m     50\u001B[0m                    \u001B[38;5;124m'\u001B[39m\u001B[38;5;124mcited_by\u001B[39m\u001B[38;5;124m'\u001B[39m: [citedBy],\n\u001B[0;32m---> 51\u001B[0m                    \u001B[38;5;124m'\u001B[39m\u001B[38;5;124minterests\u001B[39m\u001B[38;5;124m'\u001B[39m: [interests]})\n\u001B[1;32m     53\u001B[0m \u001B[38;5;66;03m#update the nodes row with additional author information\u001B[39;00m\n\u001B[1;32m     54\u001B[0m update_nodes(df_update,nodes)\n",
      "\u001B[0;31mUnboundLocalError\u001B[0m: cannot access local variable 'interests' where it is not associated with a value"
     ]
    }
   ],
   "source": [
    "nodes = pd.read_csv(\"Data/nodes.csv\")\n",
    "\n",
    "get_profile_coauthors(apikey,'MvN8wKEAAAAJ',nodes)"
   ],
   "metadata": {
    "collapsed": false,
    "ExecuteTime": {
     "end_time": "2023-11-29T15:57:13.982617Z",
     "start_time": "2023-11-29T15:57:01.760593Z"
    }
   },
   "id": "31c86618c9a1dcaa"
  },
  {
   "cell_type": "markdown",
   "id": "68036c8dc6b9ff20",
   "metadata": {
    "collapsed": false
   },
   "source": [
    "## Main es 2"
   ]
  },
  {
   "cell_type": "code",
   "execution_count": 17,
   "id": "af8f69fe4368948f",
   "metadata": {
    "ExecuteTime": {
     "end_time": "2023-11-24T10:08:55.606276Z",
     "start_time": "2023-11-24T10:08:51.420352Z"
    },
    "collapsed": false
   },
   "outputs": [],
   "source": [
    "##df_Coauthors = pd.DataFrame(columns=['name','affiliations','author_id','cited_by','interests'])\n",
    "nodes = pd.read_csv(r'Data/nodes.csv')\n",
    "for autore in nodes[\"author_id\"]:\n",
    "    get_profile_coauthors(apikey,autore,nodes)\n"
   ]
  },
  {
   "cell_type": "markdown",
   "id": "cbc21ff5eac9e78",
   "metadata": {
    "collapsed": false
   },
   "source": [
    "\n",
    "\n",
    "# Parte 3\n",
    "Usare il due dataset per creare grafico indiretto:\n",
    "a. Generare un grafo indiretto che ne rappresenta le informazioni contenute.\n",
    "Salvare (serializzare) il grafo in locale nella cartella /graphs .\n",
    "b. Visualizzare il grafo prodotto colorando i nodi a seconda del loro grado con le\n",
    "seguenti colorazioni: grigio per nodi con grado uguale a 1, blu per nodi con grado compreso tra 2 e 10, viola per nodi con grado compreso tra 11 e 20, giallo per nodi con grado maggiore di 20. Inoltre, per ciascun nodo visualizzare il nome dell’autore. Salvare la visualizzazione nella cartella /visualizations.\n",
    "\n",
    "\n"
   ]
  },
  {
   "cell_type": "code",
   "execution_count": 4,
   "id": "427a0e34d58cde2f",
   "metadata": {
    "ExecuteTime": {
     "end_time": "2023-11-24T15:40:25.263650Z",
     "start_time": "2023-11-24T15:40:25.010838Z"
    },
    "collapsed": false
   },
   "outputs": [
    {
     "data": {
      "text/plain": "<Figure size 640x480 with 1 Axes>",
      "image/png": "[encoded data removed]"
     },
     "metadata": {},
     "output_type": "display_data"
    }
   ],
   "source": [
    "import matplotlib.pyplot as plt\n",
    "\n",
    "# Creazione di un grafo vuoto\n",
    "G = nx.Graph()\n",
    "# Leggi i CSV\n",
    "nodi = pd.read_csv('Data/nodes.csv')\n",
    "edges = pd.read_csv('Data/edges.csv')\n",
    "'''\n",
    "# Aggiungi i nodi al grafo\n",
    "nodes = nodi['name'].tolist()\n",
    "G.add_nodes_from(nodes)\n",
    "\n",
    "'''\n",
    "\n",
    "# Aggiungi gli archi al grafo\n",
    "edges = edges[['author1', 'author2']].values.tolist()\n",
    "G.add_edges_from(edges)\n",
    "\n",
    "# Aggiungi un titolo al grafo\n",
    "plt.title(\"Grafo INDIRETTO Autori-Coautori \")\n",
    "\n",
    "nx.draw(G, with_labels=True)\n"
   ]
  },
  {
   "cell_type": "code",
   "execution_count": 3,
   "outputs": [
    {
     "name": "stdout",
     "output_type": "stream",
     "text": [
      "{'David La Barbera': 9, 'Michael Soprano': 1, 'Kevin Roitero': 1, 'Stefano Mizzaro': 1, 'Damiano Spina': 1, 'Gianluca Demartini': 1, 'Eddy Maddalena': 0, 'Vincenzo Della Mea': 1, 'Davide Ceolin': 1, 'Tim Draws': 1, 'Joel Mackenzie': 1}\n",
      "{'David La Barbera': 'blue', 'Michael Soprano': 'gray', 'Kevin Roitero': 'gray', 'Stefano Mizzaro': 'gray', 'Damiano Spina': 'gray', 'Gianluca Demartini': 'gray', 'Vincenzo Della Mea': 'gray', 'Davide Ceolin': 'gray', 'Tim Draws': 'gray', 'Joel Mackenzie': 'gray'}\n"
     ]
    },
    {
     "ename": "ValueError",
     "evalue": "'c' argument has 10 elements, which is inconsistent with 'x' and 'y' with size 11.",
     "output_type": "error",
     "traceback": [
      "\u001B[0;31m---------------------------------------------------------------------------\u001B[0m",
      "\u001B[0;31mValueError\u001B[0m                                Traceback (most recent call last)",
      "Cell \u001B[0;32mIn[3], line 43\u001B[0m\n\u001B[1;32m     41\u001B[0m \u001B[38;5;28mprint\u001B[39m(colori_specifici)\n\u001B[1;32m     42\u001B[0m \u001B[38;5;66;03m# 1.3 | Visualizzo il grafo\u001B[39;00m\n\u001B[0;32m---> 43\u001B[0m nx\u001B[38;5;241m.\u001B[39mdraw(G, with_labels\u001B[38;5;241m=\u001B[39m\u001B[38;5;28;01mTrue\u001B[39;00m, node_color \u001B[38;5;241m=\u001B[39m colori_specifici\u001B[38;5;241m.\u001B[39mvalues())\n",
      "File \u001B[0;32m~/anaconda3/lib/python3.11/site-packages/networkx/drawing/nx_pylab.py:121\u001B[0m, in \u001B[0;36mdraw\u001B[0;34m(G, pos, ax, **kwds)\u001B[0m\n\u001B[1;32m    118\u001B[0m \u001B[38;5;28;01mif\u001B[39;00m \u001B[38;5;124m\"\u001B[39m\u001B[38;5;124mwith_labels\u001B[39m\u001B[38;5;124m\"\u001B[39m \u001B[38;5;129;01mnot\u001B[39;00m \u001B[38;5;129;01min\u001B[39;00m kwds:\n\u001B[1;32m    119\u001B[0m     kwds[\u001B[38;5;124m\"\u001B[39m\u001B[38;5;124mwith_labels\u001B[39m\u001B[38;5;124m\"\u001B[39m] \u001B[38;5;241m=\u001B[39m \u001B[38;5;124m\"\u001B[39m\u001B[38;5;124mlabels\u001B[39m\u001B[38;5;124m\"\u001B[39m \u001B[38;5;129;01min\u001B[39;00m kwds\n\u001B[0;32m--> 121\u001B[0m draw_networkx(G, pos\u001B[38;5;241m=\u001B[39mpos, ax\u001B[38;5;241m=\u001B[39max, \u001B[38;5;241m*\u001B[39m\u001B[38;5;241m*\u001B[39mkwds)\n\u001B[1;32m    122\u001B[0m ax\u001B[38;5;241m.\u001B[39mset_axis_off()\n\u001B[1;32m    123\u001B[0m plt\u001B[38;5;241m.\u001B[39mdraw_if_interactive()\n",
      "File \u001B[0;32m~/anaconda3/lib/python3.11/site-packages/networkx/drawing/nx_pylab.py:303\u001B[0m, in \u001B[0;36mdraw_networkx\u001B[0;34m(G, pos, arrows, with_labels, **kwds)\u001B[0m\n\u001B[1;32m    300\u001B[0m \u001B[38;5;28;01mif\u001B[39;00m pos \u001B[38;5;129;01mis\u001B[39;00m \u001B[38;5;28;01mNone\u001B[39;00m:\n\u001B[1;32m    301\u001B[0m     pos \u001B[38;5;241m=\u001B[39m nx\u001B[38;5;241m.\u001B[39mdrawing\u001B[38;5;241m.\u001B[39mspring_layout(G)  \u001B[38;5;66;03m# default to spring layout\u001B[39;00m\n\u001B[0;32m--> 303\u001B[0m draw_networkx_nodes(G, pos, \u001B[38;5;241m*\u001B[39m\u001B[38;5;241m*\u001B[39mnode_kwds)\n\u001B[1;32m    304\u001B[0m draw_networkx_edges(G, pos, arrows\u001B[38;5;241m=\u001B[39marrows, \u001B[38;5;241m*\u001B[39m\u001B[38;5;241m*\u001B[39medge_kwds)\n\u001B[1;32m    305\u001B[0m \u001B[38;5;28;01mif\u001B[39;00m with_labels:\n",
      "File \u001B[0;32m~/anaconda3/lib/python3.11/site-packages/networkx/drawing/nx_pylab.py:433\u001B[0m, in \u001B[0;36mdraw_networkx_nodes\u001B[0;34m(G, pos, nodelist, node_size, node_color, node_shape, alpha, cmap, vmin, vmax, ax, linewidths, edgecolors, label, margins)\u001B[0m\n\u001B[1;32m    430\u001B[0m     node_color \u001B[38;5;241m=\u001B[39m apply_alpha(node_color, alpha, nodelist, cmap, vmin, vmax)\n\u001B[1;32m    431\u001B[0m     alpha \u001B[38;5;241m=\u001B[39m \u001B[38;5;28;01mNone\u001B[39;00m\n\u001B[0;32m--> 433\u001B[0m node_collection \u001B[38;5;241m=\u001B[39m ax\u001B[38;5;241m.\u001B[39mscatter(\n\u001B[1;32m    434\u001B[0m     xy[:, \u001B[38;5;241m0\u001B[39m],\n\u001B[1;32m    435\u001B[0m     xy[:, \u001B[38;5;241m1\u001B[39m],\n\u001B[1;32m    436\u001B[0m     s\u001B[38;5;241m=\u001B[39mnode_size,\n\u001B[1;32m    437\u001B[0m     c\u001B[38;5;241m=\u001B[39mnode_color,\n\u001B[1;32m    438\u001B[0m     marker\u001B[38;5;241m=\u001B[39mnode_shape,\n\u001B[1;32m    439\u001B[0m     cmap\u001B[38;5;241m=\u001B[39mcmap,\n\u001B[1;32m    440\u001B[0m     vmin\u001B[38;5;241m=\u001B[39mvmin,\n\u001B[1;32m    441\u001B[0m     vmax\u001B[38;5;241m=\u001B[39mvmax,\n\u001B[1;32m    442\u001B[0m     alpha\u001B[38;5;241m=\u001B[39malpha,\n\u001B[1;32m    443\u001B[0m     linewidths\u001B[38;5;241m=\u001B[39mlinewidths,\n\u001B[1;32m    444\u001B[0m     edgecolors\u001B[38;5;241m=\u001B[39medgecolors,\n\u001B[1;32m    445\u001B[0m     label\u001B[38;5;241m=\u001B[39mlabel,\n\u001B[1;32m    446\u001B[0m )\n\u001B[1;32m    447\u001B[0m ax\u001B[38;5;241m.\u001B[39mtick_params(\n\u001B[1;32m    448\u001B[0m     axis\u001B[38;5;241m=\u001B[39m\u001B[38;5;124m\"\u001B[39m\u001B[38;5;124mboth\u001B[39m\u001B[38;5;124m\"\u001B[39m,\n\u001B[1;32m    449\u001B[0m     which\u001B[38;5;241m=\u001B[39m\u001B[38;5;124m\"\u001B[39m\u001B[38;5;124mboth\u001B[39m\u001B[38;5;124m\"\u001B[39m,\n\u001B[0;32m   (...)\u001B[0m\n\u001B[1;32m    453\u001B[0m     labelleft\u001B[38;5;241m=\u001B[39m\u001B[38;5;28;01mFalse\u001B[39;00m,\n\u001B[1;32m    454\u001B[0m )\n\u001B[1;32m    456\u001B[0m \u001B[38;5;28;01mif\u001B[39;00m margins \u001B[38;5;129;01mis\u001B[39;00m \u001B[38;5;129;01mnot\u001B[39;00m \u001B[38;5;28;01mNone\u001B[39;00m:\n",
      "File \u001B[0;32m~/anaconda3/lib/python3.11/site-packages/matplotlib/__init__.py:1446\u001B[0m, in \u001B[0;36m_preprocess_data.<locals>.inner\u001B[0;34m(ax, data, *args, **kwargs)\u001B[0m\n\u001B[1;32m   1443\u001B[0m \u001B[38;5;129m@functools\u001B[39m\u001B[38;5;241m.\u001B[39mwraps(func)\n\u001B[1;32m   1444\u001B[0m \u001B[38;5;28;01mdef\u001B[39;00m \u001B[38;5;21minner\u001B[39m(ax, \u001B[38;5;241m*\u001B[39margs, data\u001B[38;5;241m=\u001B[39m\u001B[38;5;28;01mNone\u001B[39;00m, \u001B[38;5;241m*\u001B[39m\u001B[38;5;241m*\u001B[39mkwargs):\n\u001B[1;32m   1445\u001B[0m     \u001B[38;5;28;01mif\u001B[39;00m data \u001B[38;5;129;01mis\u001B[39;00m \u001B[38;5;28;01mNone\u001B[39;00m:\n\u001B[0;32m-> 1446\u001B[0m         \u001B[38;5;28;01mreturn\u001B[39;00m func(ax, \u001B[38;5;241m*\u001B[39m\u001B[38;5;28mmap\u001B[39m(sanitize_sequence, args), \u001B[38;5;241m*\u001B[39m\u001B[38;5;241m*\u001B[39mkwargs)\n\u001B[1;32m   1448\u001B[0m     bound \u001B[38;5;241m=\u001B[39m new_sig\u001B[38;5;241m.\u001B[39mbind(ax, \u001B[38;5;241m*\u001B[39margs, \u001B[38;5;241m*\u001B[39m\u001B[38;5;241m*\u001B[39mkwargs)\n\u001B[1;32m   1449\u001B[0m     auto_label \u001B[38;5;241m=\u001B[39m (bound\u001B[38;5;241m.\u001B[39marguments\u001B[38;5;241m.\u001B[39mget(label_namer)\n\u001B[1;32m   1450\u001B[0m                   \u001B[38;5;129;01mor\u001B[39;00m bound\u001B[38;5;241m.\u001B[39mkwargs\u001B[38;5;241m.\u001B[39mget(label_namer))\n",
      "File \u001B[0;32m~/anaconda3/lib/python3.11/site-packages/matplotlib/axes/_axes.py:4596\u001B[0m, in \u001B[0;36mAxes.scatter\u001B[0;34m(self, x, y, s, c, marker, cmap, norm, vmin, vmax, alpha, linewidths, edgecolors, plotnonfinite, **kwargs)\u001B[0m\n\u001B[1;32m   4593\u001B[0m \u001B[38;5;28;01mif\u001B[39;00m edgecolors \u001B[38;5;129;01mis\u001B[39;00m \u001B[38;5;28;01mNone\u001B[39;00m:\n\u001B[1;32m   4594\u001B[0m     orig_edgecolor \u001B[38;5;241m=\u001B[39m kwargs\u001B[38;5;241m.\u001B[39mget(\u001B[38;5;124m'\u001B[39m\u001B[38;5;124medgecolor\u001B[39m\u001B[38;5;124m'\u001B[39m, \u001B[38;5;28;01mNone\u001B[39;00m)\n\u001B[1;32m   4595\u001B[0m c, colors, edgecolors \u001B[38;5;241m=\u001B[39m \\\n\u001B[0;32m-> 4596\u001B[0m     \u001B[38;5;28mself\u001B[39m\u001B[38;5;241m.\u001B[39m_parse_scatter_color_args(\n\u001B[1;32m   4597\u001B[0m         c, edgecolors, kwargs, x\u001B[38;5;241m.\u001B[39msize,\n\u001B[1;32m   4598\u001B[0m         get_next_color_func\u001B[38;5;241m=\u001B[39m\u001B[38;5;28mself\u001B[39m\u001B[38;5;241m.\u001B[39m_get_patches_for_fill\u001B[38;5;241m.\u001B[39mget_next_color)\n\u001B[1;32m   4600\u001B[0m \u001B[38;5;28;01mif\u001B[39;00m plotnonfinite \u001B[38;5;129;01mand\u001B[39;00m colors \u001B[38;5;129;01mis\u001B[39;00m \u001B[38;5;28;01mNone\u001B[39;00m:\n\u001B[1;32m   4601\u001B[0m     c \u001B[38;5;241m=\u001B[39m np\u001B[38;5;241m.\u001B[39mma\u001B[38;5;241m.\u001B[39mmasked_invalid(c)\n",
      "File \u001B[0;32m~/anaconda3/lib/python3.11/site-packages/matplotlib/axes/_axes.py:4449\u001B[0m, in \u001B[0;36mAxes._parse_scatter_color_args\u001B[0;34m(c, edgecolors, kwargs, xsize, get_next_color_func)\u001B[0m\n\u001B[1;32m   4445\u001B[0m     \u001B[38;5;28;01melse\u001B[39;00m:\n\u001B[1;32m   4446\u001B[0m         \u001B[38;5;28;01mif\u001B[39;00m \u001B[38;5;28mlen\u001B[39m(colors) \u001B[38;5;129;01mnot\u001B[39;00m \u001B[38;5;129;01min\u001B[39;00m (\u001B[38;5;241m0\u001B[39m, \u001B[38;5;241m1\u001B[39m, xsize):\n\u001B[1;32m   4447\u001B[0m             \u001B[38;5;66;03m# NB: remember that a single color is also acceptable.\u001B[39;00m\n\u001B[1;32m   4448\u001B[0m             \u001B[38;5;66;03m# Besides *colors* will be an empty array if c == 'none'.\u001B[39;00m\n\u001B[0;32m-> 4449\u001B[0m             \u001B[38;5;28;01mraise\u001B[39;00m invalid_shape_exception(\u001B[38;5;28mlen\u001B[39m(colors), xsize)\n\u001B[1;32m   4450\u001B[0m \u001B[38;5;28;01melse\u001B[39;00m:\n\u001B[1;32m   4451\u001B[0m     colors \u001B[38;5;241m=\u001B[39m \u001B[38;5;28;01mNone\u001B[39;00m  \u001B[38;5;66;03m# use cmap, norm after collection is created\u001B[39;00m\n",
      "\u001B[0;31mValueError\u001B[0m: 'c' argument has 10 elements, which is inconsistent with 'x' and 'y' with size 11."
     ]
    },
    {
     "data": {
      "text/plain": "<Figure size 640x480 with 1 Axes>",
      "image/png": "[encoded data removed]"
     },
     "metadata": {},
     "output_type": "display_data"
    }
   ],
   "source": [
    "import matplotlib.pyplot as plt\n",
    "import networkx as nx\n",
    "# Creazione di un grafo vuoto\n",
    "G = nx.Graph()\n",
    "# Leggi i CSV\n",
    "nodi = pd.read_csv('Data/nodes.csv')\n",
    "edges = pd.read_csv('Data/edges.csv')\n",
    "\n",
    "\n",
    "# Aggiungi i nodi al grafo\n",
    "nodes = nodi['name'].tolist()\n",
    "G.add_nodes_from(nodes)\n",
    "\n",
    "# Aggiungi gli archi al grafo\n",
    "edges = edges[['author1', 'author2']].values.tolist()\n",
    "G.add_edges_from(edges)\n",
    "\n",
    "'''\n",
    "grigio per nodi con grado uguale a 1, blu per nodi con grado compreso tra 2 e 10, viola per nodi con grado compreso tra 11 e 20, giallo per nodi con grado maggiore di 20\n",
    "'''\n",
    "#calcolo dela deegree\n",
    "degrees = dict(G.degree())\n",
    "print(degrees)\n",
    "colori_specifici={}\n",
    "for nodo, grado in degrees.items():\n",
    "    if grado == 1:\n",
    "        colori_specifici[nodo] = 'gray'\n",
    "        #colore grigio\n",
    "    elif grado in range(2, 10):\n",
    "        colori_specifici[nodo] = 'blue'\n",
    "        #colore blu\n",
    "    elif grado in range(11, 20):\n",
    "        colori_specifici[nodo] = 'purple'\n",
    "    elif grado:\n",
    "        colori_specifici[nodo] = 'yellow'\n",
    "        #colore gioallo\n",
    "\n",
    "# Aggiungi un titolo al grafo\n",
    "plt.title(\"Grafo INDIRETTO Autori-Coautori \")\n",
    "\n",
    "print(colori_specifici)\n",
    "# 1.3 | Visualizzo il grafo\n",
    "nx.draw(G, with_labels=True, node_color = colori_specifici.values())"
   ],
   "metadata": {
    "collapsed": false
   }
  },
  {
   "cell_type": "code",
   "execution_count": 73,
   "id": "bde6ef691a0d87e0",
   "metadata": {
    "ExecuteTime": {
     "end_time": "2023-11-24T15:42:54.298709Z",
     "start_time": "2023-11-24T15:42:53.743696Z"
    },
    "collapsed": false
   },
   "outputs": [
    {
     "name": "stdout",
     "output_type": "stream",
     "text": [
      "{'David La Barbera': 9, 'Michael Soprano': 1, 'Kevin Roitero': 1, 'Stefano Mizzaro': 1, 'Damiano Spina': 1, 'Gianluca Demartini': 1, 'Eddy Maddalena': 0, 'Vincenzo Della Mea': 1, 'Davide Ceolin': 1, 'Tim Draws': 1, 'Joel Mackenzie': 1}\n",
      "{'David La Barbera': 'blue', 'Michael Soprano': 'gray', 'Kevin Roitero': 'gray', 'Stefano Mizzaro': 'gray', 'Damiano Spina': 'gray', 'Gianluca Demartini': 'gray', 'Vincenzo Della Mea': 'gray', 'Davide Ceolin': 'gray', 'Tim Draws': 'gray', 'Joel Mackenzie': 'gray'}\n"
     ]
    },
    {
     "ename": "ValueError",
     "evalue": "'c' argument has 10 elements, which is inconsistent with 'x' and 'y' with size 11.",
     "output_type": "error",
     "traceback": [
      "\u001B[0;31m---------------------------------------------------------------------------\u001B[0m",
      "\u001B[0;31mValueError\u001B[0m                                Traceback (most recent call last)",
      "Cell \u001B[0;32mIn[73], line 42\u001B[0m\n\u001B[1;32m     40\u001B[0m \u001B[38;5;28mprint\u001B[39m(colori_specifici)\n\u001B[1;32m     41\u001B[0m \u001B[38;5;66;03m# 1.3 | Visualizzo il grafo\u001B[39;00m\n\u001B[0;32m---> 42\u001B[0m nx\u001B[38;5;241m.\u001B[39mdraw(G, with_labels\u001B[38;5;241m=\u001B[39m\u001B[38;5;28;01mTrue\u001B[39;00m, node_color \u001B[38;5;241m=\u001B[39m colori_specifici\u001B[38;5;241m.\u001B[39mvalues())\n",
      "File \u001B[0;32m~/anaconda3/lib/python3.11/site-packages/networkx/drawing/nx_pylab.py:121\u001B[0m, in \u001B[0;36mdraw\u001B[0;34m(G, pos, ax, **kwds)\u001B[0m\n\u001B[1;32m    118\u001B[0m \u001B[38;5;28;01mif\u001B[39;00m \u001B[38;5;124m\"\u001B[39m\u001B[38;5;124mwith_labels\u001B[39m\u001B[38;5;124m\"\u001B[39m \u001B[38;5;129;01mnot\u001B[39;00m \u001B[38;5;129;01min\u001B[39;00m kwds:\n\u001B[1;32m    119\u001B[0m     kwds[\u001B[38;5;124m\"\u001B[39m\u001B[38;5;124mwith_labels\u001B[39m\u001B[38;5;124m\"\u001B[39m] \u001B[38;5;241m=\u001B[39m \u001B[38;5;124m\"\u001B[39m\u001B[38;5;124mlabels\u001B[39m\u001B[38;5;124m\"\u001B[39m \u001B[38;5;129;01min\u001B[39;00m kwds\n\u001B[0;32m--> 121\u001B[0m draw_networkx(G, pos\u001B[38;5;241m=\u001B[39mpos, ax\u001B[38;5;241m=\u001B[39max, \u001B[38;5;241m*\u001B[39m\u001B[38;5;241m*\u001B[39mkwds)\n\u001B[1;32m    122\u001B[0m ax\u001B[38;5;241m.\u001B[39mset_axis_off()\n\u001B[1;32m    123\u001B[0m plt\u001B[38;5;241m.\u001B[39mdraw_if_interactive()\n",
      "File \u001B[0;32m~/anaconda3/lib/python3.11/site-packages/networkx/drawing/nx_pylab.py:303\u001B[0m, in \u001B[0;36mdraw_networkx\u001B[0;34m(G, pos, arrows, with_labels, **kwds)\u001B[0m\n\u001B[1;32m    300\u001B[0m \u001B[38;5;28;01mif\u001B[39;00m pos \u001B[38;5;129;01mis\u001B[39;00m \u001B[38;5;28;01mNone\u001B[39;00m:\n\u001B[1;32m    301\u001B[0m     pos \u001B[38;5;241m=\u001B[39m nx\u001B[38;5;241m.\u001B[39mdrawing\u001B[38;5;241m.\u001B[39mspring_layout(G)  \u001B[38;5;66;03m# default to spring layout\u001B[39;00m\n\u001B[0;32m--> 303\u001B[0m draw_networkx_nodes(G, pos, \u001B[38;5;241m*\u001B[39m\u001B[38;5;241m*\u001B[39mnode_kwds)\n\u001B[1;32m    304\u001B[0m draw_networkx_edges(G, pos, arrows\u001B[38;5;241m=\u001B[39marrows, \u001B[38;5;241m*\u001B[39m\u001B[38;5;241m*\u001B[39medge_kwds)\n\u001B[1;32m    305\u001B[0m \u001B[38;5;28;01mif\u001B[39;00m with_labels:\n",
      "File \u001B[0;32m~/anaconda3/lib/python3.11/site-packages/networkx/drawing/nx_pylab.py:433\u001B[0m, in \u001B[0;36mdraw_networkx_nodes\u001B[0;34m(G, pos, nodelist, node_size, node_color, node_shape, alpha, cmap, vmin, vmax, ax, linewidths, edgecolors, label, margins)\u001B[0m\n\u001B[1;32m    430\u001B[0m     node_color \u001B[38;5;241m=\u001B[39m apply_alpha(node_color, alpha, nodelist, cmap, vmin, vmax)\n\u001B[1;32m    431\u001B[0m     alpha \u001B[38;5;241m=\u001B[39m \u001B[38;5;28;01mNone\u001B[39;00m\n\u001B[0;32m--> 433\u001B[0m node_collection \u001B[38;5;241m=\u001B[39m ax\u001B[38;5;241m.\u001B[39mscatter(\n\u001B[1;32m    434\u001B[0m     xy[:, \u001B[38;5;241m0\u001B[39m],\n\u001B[1;32m    435\u001B[0m     xy[:, \u001B[38;5;241m1\u001B[39m],\n\u001B[1;32m    436\u001B[0m     s\u001B[38;5;241m=\u001B[39mnode_size,\n\u001B[1;32m    437\u001B[0m     c\u001B[38;5;241m=\u001B[39mnode_color,\n\u001B[1;32m    438\u001B[0m     marker\u001B[38;5;241m=\u001B[39mnode_shape,\n\u001B[1;32m    439\u001B[0m     cmap\u001B[38;5;241m=\u001B[39mcmap,\n\u001B[1;32m    440\u001B[0m     vmin\u001B[38;5;241m=\u001B[39mvmin,\n\u001B[1;32m    441\u001B[0m     vmax\u001B[38;5;241m=\u001B[39mvmax,\n\u001B[1;32m    442\u001B[0m     alpha\u001B[38;5;241m=\u001B[39malpha,\n\u001B[1;32m    443\u001B[0m     linewidths\u001B[38;5;241m=\u001B[39mlinewidths,\n\u001B[1;32m    444\u001B[0m     edgecolors\u001B[38;5;241m=\u001B[39medgecolors,\n\u001B[1;32m    445\u001B[0m     label\u001B[38;5;241m=\u001B[39mlabel,\n\u001B[1;32m    446\u001B[0m )\n\u001B[1;32m    447\u001B[0m ax\u001B[38;5;241m.\u001B[39mtick_params(\n\u001B[1;32m    448\u001B[0m     axis\u001B[38;5;241m=\u001B[39m\u001B[38;5;124m\"\u001B[39m\u001B[38;5;124mboth\u001B[39m\u001B[38;5;124m\"\u001B[39m,\n\u001B[1;32m    449\u001B[0m     which\u001B[38;5;241m=\u001B[39m\u001B[38;5;124m\"\u001B[39m\u001B[38;5;124mboth\u001B[39m\u001B[38;5;124m\"\u001B[39m,\n\u001B[0;32m   (...)\u001B[0m\n\u001B[1;32m    453\u001B[0m     labelleft\u001B[38;5;241m=\u001B[39m\u001B[38;5;28;01mFalse\u001B[39;00m,\n\u001B[1;32m    454\u001B[0m )\n\u001B[1;32m    456\u001B[0m \u001B[38;5;28;01mif\u001B[39;00m margins \u001B[38;5;129;01mis\u001B[39;00m \u001B[38;5;129;01mnot\u001B[39;00m \u001B[38;5;28;01mNone\u001B[39;00m:\n",
      "File \u001B[0;32m~/anaconda3/lib/python3.11/site-packages/matplotlib/__init__.py:1446\u001B[0m, in \u001B[0;36m_preprocess_data.<locals>.inner\u001B[0;34m(ax, data, *args, **kwargs)\u001B[0m\n\u001B[1;32m   1443\u001B[0m \u001B[38;5;129m@functools\u001B[39m\u001B[38;5;241m.\u001B[39mwraps(func)\n\u001B[1;32m   1444\u001B[0m \u001B[38;5;28;01mdef\u001B[39;00m \u001B[38;5;21minner\u001B[39m(ax, \u001B[38;5;241m*\u001B[39margs, data\u001B[38;5;241m=\u001B[39m\u001B[38;5;28;01mNone\u001B[39;00m, \u001B[38;5;241m*\u001B[39m\u001B[38;5;241m*\u001B[39mkwargs):\n\u001B[1;32m   1445\u001B[0m     \u001B[38;5;28;01mif\u001B[39;00m data \u001B[38;5;129;01mis\u001B[39;00m \u001B[38;5;28;01mNone\u001B[39;00m:\n\u001B[0;32m-> 1446\u001B[0m         \u001B[38;5;28;01mreturn\u001B[39;00m func(ax, \u001B[38;5;241m*\u001B[39m\u001B[38;5;28mmap\u001B[39m(sanitize_sequence, args), \u001B[38;5;241m*\u001B[39m\u001B[38;5;241m*\u001B[39mkwargs)\n\u001B[1;32m   1448\u001B[0m     bound \u001B[38;5;241m=\u001B[39m new_sig\u001B[38;5;241m.\u001B[39mbind(ax, \u001B[38;5;241m*\u001B[39margs, \u001B[38;5;241m*\u001B[39m\u001B[38;5;241m*\u001B[39mkwargs)\n\u001B[1;32m   1449\u001B[0m     auto_label \u001B[38;5;241m=\u001B[39m (bound\u001B[38;5;241m.\u001B[39marguments\u001B[38;5;241m.\u001B[39mget(label_namer)\n\u001B[1;32m   1450\u001B[0m                   \u001B[38;5;129;01mor\u001B[39;00m bound\u001B[38;5;241m.\u001B[39mkwargs\u001B[38;5;241m.\u001B[39mget(label_namer))\n",
      "File \u001B[0;32m~/anaconda3/lib/python3.11/site-packages/matplotlib/axes/_axes.py:4596\u001B[0m, in \u001B[0;36mAxes.scatter\u001B[0;34m(self, x, y, s, c, marker, cmap, norm, vmin, vmax, alpha, linewidths, edgecolors, plotnonfinite, **kwargs)\u001B[0m\n\u001B[1;32m   4593\u001B[0m \u001B[38;5;28;01mif\u001B[39;00m edgecolors \u001B[38;5;129;01mis\u001B[39;00m \u001B[38;5;28;01mNone\u001B[39;00m:\n\u001B[1;32m   4594\u001B[0m     orig_edgecolor \u001B[38;5;241m=\u001B[39m kwargs\u001B[38;5;241m.\u001B[39mget(\u001B[38;5;124m'\u001B[39m\u001B[38;5;124medgecolor\u001B[39m\u001B[38;5;124m'\u001B[39m, \u001B[38;5;28;01mNone\u001B[39;00m)\n\u001B[1;32m   4595\u001B[0m c, colors, edgecolors \u001B[38;5;241m=\u001B[39m \\\n\u001B[0;32m-> 4596\u001B[0m     \u001B[38;5;28mself\u001B[39m\u001B[38;5;241m.\u001B[39m_parse_scatter_color_args(\n\u001B[1;32m   4597\u001B[0m         c, edgecolors, kwargs, x\u001B[38;5;241m.\u001B[39msize,\n\u001B[1;32m   4598\u001B[0m         get_next_color_func\u001B[38;5;241m=\u001B[39m\u001B[38;5;28mself\u001B[39m\u001B[38;5;241m.\u001B[39m_get_patches_for_fill\u001B[38;5;241m.\u001B[39mget_next_color)\n\u001B[1;32m   4600\u001B[0m \u001B[38;5;28;01mif\u001B[39;00m plotnonfinite \u001B[38;5;129;01mand\u001B[39;00m colors \u001B[38;5;129;01mis\u001B[39;00m \u001B[38;5;28;01mNone\u001B[39;00m:\n\u001B[1;32m   4601\u001B[0m     c \u001B[38;5;241m=\u001B[39m np\u001B[38;5;241m.\u001B[39mma\u001B[38;5;241m.\u001B[39mmasked_invalid(c)\n",
      "File \u001B[0;32m~/anaconda3/lib/python3.11/site-packages/matplotlib/axes/_axes.py:4449\u001B[0m, in \u001B[0;36mAxes._parse_scatter_color_args\u001B[0;34m(c, edgecolors, kwargs, xsize, get_next_color_func)\u001B[0m\n\u001B[1;32m   4445\u001B[0m     \u001B[38;5;28;01melse\u001B[39;00m:\n\u001B[1;32m   4446\u001B[0m         \u001B[38;5;28;01mif\u001B[39;00m \u001B[38;5;28mlen\u001B[39m(colors) \u001B[38;5;129;01mnot\u001B[39;00m \u001B[38;5;129;01min\u001B[39;00m (\u001B[38;5;241m0\u001B[39m, \u001B[38;5;241m1\u001B[39m, xsize):\n\u001B[1;32m   4447\u001B[0m             \u001B[38;5;66;03m# NB: remember that a single color is also acceptable.\u001B[39;00m\n\u001B[1;32m   4448\u001B[0m             \u001B[38;5;66;03m# Besides *colors* will be an empty array if c == 'none'.\u001B[39;00m\n\u001B[0;32m-> 4449\u001B[0m             \u001B[38;5;28;01mraise\u001B[39;00m invalid_shape_exception(\u001B[38;5;28mlen\u001B[39m(colors), xsize)\n\u001B[1;32m   4450\u001B[0m \u001B[38;5;28;01melse\u001B[39;00m:\n\u001B[1;32m   4451\u001B[0m     colors \u001B[38;5;241m=\u001B[39m \u001B[38;5;28;01mNone\u001B[39;00m  \u001B[38;5;66;03m# use cmap, norm after collection is created\u001B[39;00m\n",
      "\u001B[0;31mValueError\u001B[0m: 'c' argument has 10 elements, which is inconsistent with 'x' and 'y' with size 11."
     ]
    },
    {
     "data": {
      "text/plain": "<Figure size 640x480 with 1 Axes>",
      "image/png": "[encoded data removed]"
     },
     "metadata": {},
     "output_type": "display_data"
    }
   ],
   "source": [
    "#ES 2\n",
    "def draw(G, pos, measures, title):\n",
    "    nodes = nx.draw_networkx_nodes(G, pos, node_size = 150, cmap = plt.cm.plasma,\n",
    "                                   node_color  = list(measures.values()),\n",
    "                                   nodelist = measures.keys()\n",
    "                                   )\n",
    "    edges = nx.draw_networkx_edges(G, pos)\n",
    "    plt.title(title)\n",
    "    plt.colorbar(nodes)\n",
    "    plt.axis('off')\n",
    "    plt.show()\n",
    "    # 2.1 | Genero grafo con proprietà piccolo mondo\n",
    "G = nx.watts_strogatz_graph(15, 4, .3)\n",
    "\n",
    "# 2.2 | Centralità di grado per tutti i nodi\n",
    "degrees = dict(G.degree())\n",
    "df = pd.DataFrame(list(degrees.items()), columns=['node', 'degree'])\n",
    "print(\"Centralità di grado:\")\n",
    "display(df)\n",
    "\n",
    "\n",
    "# 2.3 | Calcolo le altre priprietà richieste\n",
    "num_edges = G.number_of_edges()\n",
    "# Grado medio \n",
    "avg_degree = sum(degrees.values()) / G.number_of_nodes()\n",
    "# Densità del grafo\n",
    "density = nx.density(G)\n",
    "# Nodo più connesso\n",
    "max_degree_node = max(degrees, key=degrees.get)\n",
    "\n",
    "print(f\"Number of edges: {num_edges}\")\n",
    "print(f\"Average degree: {avg_degree:.2f}\")\n",
    "print(f\"Density: {density:.2f}\")\n",
    "print(f\"Most connected node: {max_degree_node}\")\n",
    "# 2.4 | Visualizzo usando lo spring layout\n",
    "draw(\n",
    "    G,\n",
    "    nx.spring_layout(G),\n",
    "    nx.degree_centrality(G),\n",
    "    title = \"Visualizzazione della rete Piccolo Mondo generata\"\n",
    "      )"
   ]
  },
  {
   "cell_type": "code",
   "execution_count": 1,
   "id": "573b28fe7b355a92",
   "metadata": {
    "ExecuteTime": {
     "end_time": "2023-11-26T15:31:43.640483Z",
     "start_time": "2023-11-26T15:31:43.213257Z"
    },
    "collapsed": false
   },
   "outputs": [
    {
     "ename": "NameError",
     "evalue": "name 'nodes' is not defined",
     "output_type": "error",
     "traceback": [
      "\u001B[0;31m---------------------------------------------------------------------------\u001B[0m",
      "\u001B[0;31mNameError\u001B[0m                                 Traceback (most recent call last)",
      "Cell \u001B[0;32mIn[1], line 1\u001B[0m\n\u001B[0;32m----> 1\u001B[0m \u001B[43mnodes\u001B[49m\n\u001B[1;32m      5\u001B[0m \u001B[38;5;66;03m#usare la stessa funzione iniziale, quando passi l'id del autore e restituisce tutti i dati, di cui recuprei i coautori, crei direttamente il datframe quello dei nodi, ciclano n-volte( che saranno il numero di coaurori, e crei una riga insrendo l'Id del autore + vicino il coautore.\u001B[39;00m\n",
      "\u001B[0;31mNameError\u001B[0m: name 'nodes' is not defined"
     ]
    }
   ],
   "source": [
    "\n",
    "\n",
    "\n",
    "\n",
    "#usare la stessa funzione iniziale, quando passi l'id del autore e restituisce tutti i dati, di cui recuprei i coautori, crei direttamente il datframe quello dei nodi, ciclano n-volte( che saranno il numero di coaurori, e crei una riga insrendo l'Id del autore + vicino il coautore."
   ]
  },
  {
   "cell_type": "code",
   "execution_count": null,
   "id": "6687b40a83f977eb",
   "metadata": {
    "collapsed": false
   },
   "outputs": [],
   "source": []
  }
 ],
 "metadata": {
  "kernelspec": {
   "display_name": "Python 3 (ipykernel)",
   "language": "python",
   "name": "python3"
  },
  "language_info": {
   "codemirror_mode": {
    "name": "ipython",
    "version": 3
   },
   "file_extension": ".py",
   "mimetype": "text/x-python",
   "name": "python",
   "nbconvert_exporter": "python",
   "pygments_lexer": "ipython3",
   "version": "3.11.5"
  }
 },
 "nbformat": 4,
 "nbformat_minor": 5
}
