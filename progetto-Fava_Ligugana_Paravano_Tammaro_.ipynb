{
 "cells": [
  {
   "cell_type": "code",
   "execution_count": 48,
   "id": "initial_id",
   "metadata": {
    "ExecuteTime": {
     "end_time": "2023-11-30T13:48:36.027319Z",
     "start_time": "2023-11-30T13:48:35.823380Z"
    }
   },
   "outputs": [],
   "source": [
    "import pandas as pd\n",
    "import numpy as np\n",
    "import networkx as nx\n",
    "from pyvis import network as net\n",
    "from pyvis.network import Network\n",
    "import random\n",
    "#from serpapi import GoogleScholarSearch\n",
    "import json\n",
    "import requests"
   ]
  },
  {
   "cell_type": "markdown",
   "id": "a7c8419b1b4e97ba",
   "metadata": {
    "collapsed": false
   },
   "source": [
    "# Creation of DataFarme"
   ]
  },
  {
   "cell_type": "code",
   "execution_count": 114,
   "id": "a9ce5ae54aa56156",
   "metadata": {
    "collapsed": false,
    "ExecuteTime": {
     "end_time": "2023-11-30T14:13:22.549864Z",
     "start_time": "2023-11-30T14:13:22.485071Z"
    }
   },
   "outputs": [],
   "source": [
    "#import given dataframe nodes\n",
    "nodes = pd.read_csv(\"Data/nodes.csv\")\n",
    "\n",
    "nodes['author_id'] = None\n",
    "nodes['cited_by'] = None \n",
    "nodes['interests'] = None\n",
    "nodes.to_csv('Data/nodes.csv', index=False)\n",
    "\n",
    "edges = pd.DataFrame(columns=['author1','author2']) \n",
    "edges.to_csv('Data/edges.csv', index=False)"
   ]
  },
  {
   "cell_type": "markdown",
   "id": "efe3d2f3a4b86336",
   "metadata": {
    "collapsed": false
   },
   "source": [
    "## ES 1\n",
    "A partire da nodes.csv, utilizzare la libreria Python SerpAPI per scaricare, per ciascuno dei 7 autori elencati:\n",
    "- author_id: ID identificativo del profilo Google Scholar\n",
    "- cited_by: numero totale di citazioni ricevute\n",
    "- interests: elenco degli interessi di ciascun autore\n",
    "Sfruttando la libreria Python Pandas, usare la struttura dati DataFrame per aggiornare il file originale con apposite colonne e memorizzarlo nella cartella /data.\n",
    "## 2. Analisi dei Coautori tramite SerpAPI su Google Scholar\n",
    "\n",
    "### a. Ottenere i Coautori dei 7 Autori Principali\n",
    "\n",
    "Per ciascuno dei 7 autori, utilizzare il suo ID per accedere al relativo profilo Google Scholar e scaricare l'elenco dei suoi coautori utilizzando SerpAPI. Con tale elenco di nomi:;\n",
    "\n",
    "#### a.1. Ricerca dei Coautori su Google Scholar\n",
    "\n",
    "Utilizzare le SerpAPI per cercare su Google Scholar un ricercatore che corrisponde a ciascun nome nella lista di coautori. Per ogni risultato, salvare le informazioni come `name`, `affiliations`, `author_id`, `cited_by`, e `interests` in un nuovo DataFrame contenente tutte queste informazioni relative ai coautori dei 7 autori originari.\n",
    "\n",
    "### b. Concatenazione dei DataFrame\n",
    "\n",
    "Concatenare il DataFrame contenente le informazioni sui 7 autori principali con quello dei coautori generato al punto 2a in un unico DataFrame.\n",
    "\n",
    "### c. Creazione del DataFrame delle Relazioni di Co-Authorship\n",
    "\n",
    "Creare un terzo DataFrame con le colonne `author1` e `author2` che rappresenta le co-authorship. In questo DataFrame, una riga rappresenta un arco di coauthorship tra due autori. La co-authorship è binaria, non pesata.\n",
    "\n",
    "#### Esempio\n",
    "\n",
    "Se David La Barbera e Michael Soprano sono coautori, una riga del DataFrame creato al punto 2c rappresenterà questa relazione.\n",
    "\n",
    "### Risultati Finali\n",
    "\n",
    "A questo punto, saranno stati prodotti due DataFrame:\n",
    "\n",
    "- Uno contenente le informazioni relative agli autori (originali + i relativi coautori), con le colonne `name`, `affiliations`, `cited_by`, `interests`. Salvare come `nodes.csv` nella cartella `/data` tale DataFrame.\n",
    "\n",
    "- Un altro per le relazioni di co-authorship dai 7 autori principali verso i relativi coautori, con colonne `author1` e `author2`. Salvare come `edges.csv` nella cartella `/data` tale DataFrame."
   ]
  },
  {
   "cell_type": "code",
   "execution_count": 115,
   "id": "5a2d7124c3f1ac47",
   "metadata": {
    "collapsed": false,
    "ExecuteTime": {
     "end_time": "2023-11-30T14:13:33.870078Z",
     "start_time": "2023-11-30T14:13:33.856990Z"
    }
   },
   "outputs": [],
   "source": [
    "#key in use right now\n",
    "apikey = \"9e35e5273396934a1f34354188e7b0509d31c9c99833802e8128d156b17a8b1d\""
   ]
  },
  {
   "cell_type": "code",
   "execution_count": 116,
   "id": "2fd01d1d-0802-47f0-8cde-93da8625cfb3",
   "metadata": {
    "ExecuteTime": {
     "end_time": "2023-11-30T14:13:34.349911Z",
     "start_time": "2023-11-30T14:13:34.324591Z"
    }
   },
   "outputs": [],
   "source": [
    "#overwrite the row of nodes with df_update in the right position\n",
    "#if the author given isn't in nodes, then it will get concatenated\n",
    "\n",
    "def update_nodes(df_update, nodes):\n",
    "    \n",
    "    nodesMod = pd.read_csv(r'Data/nodes.csv') #read nodes.csv updated\n",
    "    \n",
    "    print('nome: ', df_update[\"name\"][0])\n",
    "\n",
    "    #check if the author is in nodes using attribute name as parameter\n",
    "    if (nodesMod[\"name\"] == df_update[\"name\"][0]).any():\n",
    "        print('già presente in nodes')\n",
    "\n",
    "        #if author is already in nodes update the present row with df_update (may not be completed)\n",
    "        for index in range(len(nodes)):\n",
    "            #sroll down all the names in nodes and compare it with the df_update one\n",
    "            if nodes[\"name\"][index] == df_update[\"name\"][0]:\n",
    "                print('sta sovrascrivendo con: ', df_update.iloc[0])\n",
    "\n",
    "                nodesMod.iloc[index]=df_update.iloc[0] #replace the row of nodesMod with df_update\n",
    "                nodesMod.to_csv(r'Data/nodes.csv', index=False) #overwrite the csv with the one having the new row\n",
    "    else:\n",
    "        #if the author isn't already in nodes, concatenates it\n",
    "        nodesMod = pd.concat([nodesMod, df_update], ignore_index=True)\n",
    "        nodesMod.to_csv(r'Data/nodes.csv', index=False) #overwrite the csv by adding df_update at the end\n",
    "            "
   ]
  },
  {
   "cell_type": "code",
   "execution_count": 117,
   "outputs": [],
   "source": [
    "# author_profile update nodes.csv with name, affiliations, author_id, cited_by, interests of a given author\n",
    "# this function requires the name and affiliation of the author to search for and nodes (it contains only the original authors)\n",
    "\n",
    "def author_profile(apiKey, name, affiliation, nodes):\n",
    "\n",
    "    base_url = \"https://serpapi.com/search\"\n",
    "\n",
    "    #search among scholar profiles for the one with the given name\n",
    "    params = {\n",
    "        \"api_key\": apiKey,\n",
    "        \"engine\": \"google_scholar_profiles\",\n",
    "        \"hl\": \"en\",\n",
    "        \"mauthors\": name\n",
    "    }\n",
    "\n",
    "    #save the request response in json\n",
    "    response = requests.get(base_url, params=params)\n",
    "    results = response.json()\n",
    "    \n",
    "    #save the results in a json\n",
    "    name_json = \"json/\" + name + \".json\"\n",
    "    with open(name_json, 'w', encoding='utf-8') as f:\n",
    "        json.dump(results, f, ensure_ascii=False, indent=4)\n",
    "    \n",
    "    notFound = True #used to see if among the profiles found there is one with the same name and affiliation as those given\n",
    "    indexProfile = 0 #if correct profile is found, indexProfile change with the corresponding index, otherwise take profile 0\n",
    "    \n",
    "    #scroll through profiles to verifies if the profile found is the one that we are searching for and save the corrisponding index\n",
    "    for index, profile in enumerate(results[\"profiles\"]):\n",
    "        if (affiliation in profile[\"affiliations\"]) and (name in profile[\"name\"]):\n",
    "            indexProfile = index #change the original index\n",
    "            notFound = False #we have found the searched profile\n",
    "            break #the desired profile has been found -> no need to continue\n",
    "    \n",
    "    interests = ' '  #set interest as \"empty\"\n",
    "    \n",
    "    prifileDesired = results[\"profiles\"][indexProfile] #json with all the information of the profile\n",
    "    \n",
    "    authorId = prifileDesired[\"author_id\"] \n",
    "    citedBy = prifileDesired[\"cited_by\"]\n",
    "        \n",
    "    #not all profiles have the key 'interests' in the dict (coauthors)\n",
    "    if 'interests' in prifileDesired:\n",
    "        if prifileDesired[\"interests\"] != '': #if key interest exist but it is empty \n",
    "            interests = \", \".join([i['title'] for i in prifileDesired[\"interests\"]])  # select only titles for each interest, join to remove the square brackets (now seen as a single string instead of a list)\n",
    "    else:\n",
    "        #create a new key in the dict and set it as a empty string\n",
    "        prifileDesired[\"interests\"] = ' '\n",
    "    \n",
    "    #if we found the profile:\n",
    "    if not notFound: \n",
    "        #create a new row of the dataframe with all the information needed and return it\n",
    "        df_update = pd.DataFrame({'name': [name],'affiliations': [affiliation],'author_id': [authorId],'cited_by': [citedBy],'interests': [interests]})\n",
    "        \n",
    "        #adds the author to nodes if it is not already present\n",
    "        update_nodes(df_update, nodes)\n",
    "    \n",
    "    #if there is no profile with the correct name and affiliation, we've taken the first one (we've already taken the necessary data)\n",
    "    else:\n",
    "        #create a new row of the dataframe with all the information needed and return it (affiliation is a string empty)\n",
    "        df_update = pd.DataFrame({'name': [name],'affiliations': \" \",'author_id': [authorId],'cited_by': [citedBy],'interests': [interests]})\n",
    "        \n",
    "        #adds the author to nodes if it is not already present\n",
    "        update_nodes(df_update, nodes)"
   ],
   "metadata": {
    "collapsed": false,
    "ExecuteTime": {
     "end_time": "2023-11-30T14:13:34.939100Z",
     "start_time": "2023-11-30T14:13:34.927814Z"
    }
   },
   "id": "112f4d3f3850d2a2"
  },
  {
   "cell_type": "code",
   "execution_count": 118,
   "id": "8fb63309-32d8-453b-a501-8a63f260b582",
   "metadata": {
    "ExecuteTime": {
     "end_time": "2023-11-30T14:13:35.397691Z",
     "start_time": "2023-11-30T14:13:35.388749Z"
    }
   },
   "outputs": [],
   "source": [
    "############\n",
    "#TEST (da eliminare)\n",
    "############\n",
    "\n",
    "#print(author_profile(apikey,\"Lei Han\" ,\"The University of Queensland\", nodes))"
   ]
  },
  {
   "cell_type": "code",
   "execution_count": 119,
   "id": "d3f0af508e2bc0b4",
   "metadata": {
    "collapsed": false,
    "ExecuteTime": {
     "end_time": "2023-11-30T14:13:35.929994Z",
     "start_time": "2023-11-30T14:13:35.907125Z"
    }
   },
   "outputs": [
    {
     "data": {
      "text/plain": "\"\\ndef nodes_information(apikey, df):\\n    \\n    #iterate the row of the given df, for each one makes the call to the author_profile\\n    for index, row in df.iterrows():\\n        author_data = author_profile(apikey, row['name'], row['affiliations'])\\n \""
     },
     "execution_count": 119,
     "metadata": {},
     "output_type": "execute_result"
    }
   ],
   "source": [
    "##################\n",
    "#ELIMINARE????\n",
    "##################\n",
    "\n",
    "'''\n",
    "def nodes_information(apikey, df):\n",
    "    \n",
    "    #iterate the row of the given df, for each one makes the call to the author_profile\n",
    "    for index, row in df.iterrows():\n",
    "        author_data = author_profile(apikey, row['name'], row['affiliations'])\n",
    " '''       "
   ]
  },
  {
   "cell_type": "markdown",
   "id": "9476559ebc8c0101",
   "metadata": {
    "collapsed": false
   },
   "source": [
    "## Main es 1"
   ]
  },
  {
   "cell_type": "code",
   "execution_count": 120,
   "id": "98b8a090688a5a23",
   "metadata": {
    "collapsed": false,
    "ExecuteTime": {
     "end_time": "2023-11-30T14:13:36.957925Z",
     "start_time": "2023-11-30T14:13:36.921529Z"
    }
   },
   "outputs": [
    {
     "data": {
      "text/plain": "'\\n#get the final dataframe of the 7 originals authors with name, affiliations, author_id, cited_by, interests \\nnodes_information(apikey, nodes)\\n'"
     },
     "execution_count": 120,
     "metadata": {},
     "output_type": "execute_result"
    }
   ],
   "source": [
    "##################\n",
    "#ELIMINARE????\n",
    "##################\n",
    "\n",
    "'''\n",
    "#get the final dataframe of the 7 originals authors with name, affiliations, author_id, cited_by, interests \n",
    "nodes_information(apikey, nodes)\n",
    "'''"
   ]
  },
  {
   "cell_type": "code",
   "execution_count": 121,
   "outputs": [],
   "source": [
    "#get_profile_coauthors find all coauthors of the given author and save them in nodes and edges\n",
    "#for every author check that the dict's key needed exist and if they are empty\n",
    "\n",
    "def get_profile_coauthors(apiKey, authorID, nodes):\n",
    "    \n",
    "    base_url = \"https://serpapi.com/search\"\n",
    "\n",
    "    #search among scholar profiles for the one with the given author_id\n",
    "    params = {\n",
    "        \"api_key\": apiKey,\n",
    "        \"engine\": \"google_scholar_author\",\n",
    "        \"hl\": \"en\",\n",
    "        \"author_id\": authorID\n",
    "    }\n",
    "    \n",
    "    #save the request response in json\n",
    "    response = requests.get(base_url, params = params)\n",
    "    results = response.json()\n",
    "    \n",
    "    #save the results in a json\n",
    "    name_json = \"json/\"+authorID + \".json\"\n",
    "    with open(name_json, 'w', encoding='utf-8') as f:\n",
    "        json.dump(results, f, ensure_ascii=False, indent=4)\n",
    "    \n",
    "    edges = pd.read_csv(r'Data/edges.csv')  #read edges.csv\n",
    "    \n",
    "    authorName = results[\"author\"] #saves the name of the author given as input with the Id\n",
    "    \n",
    "    for coauthor in results['co_authors']:  #for each coauthor\n",
    "        \n",
    "        #create a couples author-coauthor in both ways (used to check if it is already present in edges.csv)\n",
    "        edgesCopules = [(authorName[\"name\"], coauthor['name']), (coauthor['name'], authorName[\"name\"])]\n",
    "        \n",
    "        notFound = True #the couple isn't already present\n",
    "        \n",
    "        #cycles through edges.csv and check if the pair to insert, edgesCopules, is already present (in both directions)\n",
    "        for index, row in edges.iterrows():\n",
    "            if (row['author1'], row['author2']) in edgesCopules or (row['author2'], row['author1']) in edgesCopules:\n",
    "                #there is already a link between author and coauthor or vice versa\n",
    "                notFound = False #the couple is present\n",
    "        \n",
    "        #if the pair is not present it is concatenated to edegs.csv\n",
    "        if(notFound):\n",
    "            row_edge = pd.DataFrame([{'author1' : authorName[\"name\"], 'author2': coauthor['name']}])\n",
    "            edges = pd.concat([edges, row_edge], ignore_index=True)\n",
    "\n",
    "        #add a coauthor to nodes:\n",
    "        #check if 'affiliations' is a key on the coauthor dict:\n",
    "        if 'affiliations' in coauthor:\n",
    "            if coauthor['affiliations'] == '': #check if affiliation is empty\n",
    "                author_profile(apiKey, coauthor['name'], '', nodes) #calls author_profile with the name of the co-author and empty affiliation\n",
    "            else:\n",
    "                author_profile(apiKey, coauthor['name'], coauthor['affiliations'], nodes)#calls author_profile with the name and affiliation\n",
    "                \n",
    "        #if the coauthor's dict hasn't 'affiliations' key create it and calls author_profile\n",
    "        else:\n",
    "            coauthor['affiliations'] = \" \"\n",
    "            author_profile(apiKey, coauthor['name'], coauthor['affiliations'], nodes)\n",
    "    \n",
    "    #when all coauthors of the main author have been insert in nodes and concatenated into edges (if not already present), overwrites edges \n",
    "    edges.to_csv(r'Data/edges.csv', index=False)"
   ],
   "metadata": {
    "collapsed": false,
    "ExecuteTime": {
     "end_time": "2023-11-30T14:13:37.562139Z",
     "start_time": "2023-11-30T14:13:37.546039Z"
    }
   },
   "id": "bf9cedc6faf850d9"
  },
  {
   "cell_type": "code",
   "execution_count": 133,
   "outputs": [
    {
     "name": "stdout",
     "output_type": "stream",
     "text": [
      "nome:  Stefano Mizzaro\n",
      "già presente in nodes\n",
      "sta sovrascrivendo con:  name                                              Stefano Mizzaro\n",
      "affiliations    Full professor of Computer Science and Informa...\n",
      "author_id                                            2wvJC6IAAAAJ\n",
      "cited_by                                                     4744\n",
      "interests       Information retrieval, mobile systems, scholar...\n",
      "Name: 0, dtype: object\n",
      "nome:  Kevin Roitero\n",
      "già presente in nodes\n",
      "sta sovrascrivendo con:  name                                                Kevin Roitero\n",
      "affiliations                                  University of Udine\n",
      "author_id                                            1xd52jMAAAAJ\n",
      "cited_by                                                      692\n",
      "interests       Artificial Intelligence, Crowdsourcing and Hum...\n",
      "Name: 0, dtype: object\n",
      "nome:  Gianluca Demartini\n",
      "già presente in nodes\n",
      "sta sovrascrivendo con:  name                                           Gianluca Demartini\n",
      "affiliations    Associate Professor at the University of Queen...\n",
      "author_id                                            PCAiILsAAAAJ\n",
      "cited_by                                                     5356\n",
      "interests       Information Retrieval, Semantic Web, Human Com...\n",
      "Name: 0, dtype: object\n",
      "nome:  Alessandro Checco\n",
      "già presente in nodes\n",
      "nome:  Elena Simperl\n",
      "nome:  Falk Scholer\n",
      "già presente in nodes\n",
      "nome:  Lei Han\n",
      "già presente in nodes\n",
      "nome:  Andrew Turpin\n",
      "già presente in nodes\n",
      "nome:  Ujwal Gadiraju\n",
      "già presente in nodes\n",
      "nome:  Cristina Sarasua\n",
      "nome:  Luis-Daniel Ibáñez\n",
      "nome:  Vincenzo Della Mea\n",
      "già presente in nodes\n",
      "nome:  Marco Basaldella\n",
      "nome:  Mattia Zeni\n",
      "nome:  Dante Degl'Innocenti\n",
      "nome:  Pavlos Vougiouklis\n",
      "nome:  Jonathon Hare\n",
      "nome:  Carlo Alberto Beltrami\n",
      "nome:  Richard Gomer\n",
      "nome:  Davide Ceolin\n",
      "già presente in nodes\n"
     ]
    }
   ],
   "source": [
    "#nodes = pd.read_csv(\"Data/nodes.csv\")\n",
    "\n",
    "get_profile_coauthors(apikey,'egHDpFkAAAAJ',nodes)\n"
   ],
   "metadata": {
    "collapsed": false,
    "ExecuteTime": {
     "end_time": "2023-11-30T14:25:34.462416Z",
     "start_time": "2023-11-30T14:25:09.151519Z"
    }
   },
   "id": "31c86618c9a1dcaa"
  },
  {
   "cell_type": "code",
   "execution_count": 132,
   "outputs": [
    {
     "data": {
      "text/plain": "                 name                                       affiliations  \\\n0    David La Barbera                    Università Degli Studi Di Udine   \n1     Michael Soprano  Postdoctoral Research Fellow at the University...   \n2       Kevin Roitero                                University of Udine   \n3     Stefano Mizzaro  Full professor of Computer Science and Informa...   \n4       Damiano Spina  School of Computing Technologies, RMIT University   \n5  Gianluca Demartini  Associate Professor at the University of Queen...   \n6      Eddy Maddalena             Università degli Studi di Udine, Italy   \n\n   author_id  cited_by  interests  \n0        NaN       NaN        NaN  \n1        NaN       NaN        NaN  \n2        NaN       NaN        NaN  \n3        NaN       NaN        NaN  \n4        NaN       NaN        NaN  \n5        NaN       NaN        NaN  \n6        NaN       NaN        NaN  ",
      "text/html": "<div>\n<style scoped>\n    .dataframe tbody tr th:only-of-type {\n        vertical-align: middle;\n    }\n\n    .dataframe tbody tr th {\n        vertical-align: top;\n    }\n\n    .dataframe thead th {\n        text-align: right;\n    }\n</style>\n<table border=\"1\" class=\"dataframe\">\n  <thead>\n    <tr style=\"text-align: right;\">\n      <th></th>\n      <th>name</th>\n      <th>affiliations</th>\n      <th>author_id</th>\n      <th>cited_by</th>\n      <th>interests</th>\n    </tr>\n  </thead>\n  <tbody>\n    <tr>\n      <th>0</th>\n      <td>David La Barbera</td>\n      <td>Università Degli Studi Di Udine</td>\n      <td>NaN</td>\n      <td>NaN</td>\n      <td>NaN</td>\n    </tr>\n    <tr>\n      <th>1</th>\n      <td>Michael Soprano</td>\n      <td>Postdoctoral Research Fellow at the University...</td>\n      <td>NaN</td>\n      <td>NaN</td>\n      <td>NaN</td>\n    </tr>\n    <tr>\n      <th>2</th>\n      <td>Kevin Roitero</td>\n      <td>University of Udine</td>\n      <td>NaN</td>\n      <td>NaN</td>\n      <td>NaN</td>\n    </tr>\n    <tr>\n      <th>3</th>\n      <td>Stefano Mizzaro</td>\n      <td>Full professor of Computer Science and Informa...</td>\n      <td>NaN</td>\n      <td>NaN</td>\n      <td>NaN</td>\n    </tr>\n    <tr>\n      <th>4</th>\n      <td>Damiano Spina</td>\n      <td>School of Computing Technologies, RMIT University</td>\n      <td>NaN</td>\n      <td>NaN</td>\n      <td>NaN</td>\n    </tr>\n    <tr>\n      <th>5</th>\n      <td>Gianluca Demartini</td>\n      <td>Associate Professor at the University of Queen...</td>\n      <td>NaN</td>\n      <td>NaN</td>\n      <td>NaN</td>\n    </tr>\n    <tr>\n      <th>6</th>\n      <td>Eddy Maddalena</td>\n      <td>Università degli Studi di Udine, Italy</td>\n      <td>NaN</td>\n      <td>NaN</td>\n      <td>NaN</td>\n    </tr>\n  </tbody>\n</table>\n</div>"
     },
     "execution_count": 132,
     "metadata": {},
     "output_type": "execute_result"
    }
   ],
   "source": [
    "nodes"
   ],
   "metadata": {
    "collapsed": false,
    "ExecuteTime": {
     "end_time": "2023-11-30T14:25:05.468737Z",
     "start_time": "2023-11-30T14:25:05.411251Z"
    }
   },
   "id": "dbb71bd7ac8bc2c7"
  },
  {
   "cell_type": "markdown",
   "id": "68036c8dc6b9ff20",
   "metadata": {
    "collapsed": false
   },
   "source": [
    "## Main es 2"
   ]
  },
  {
   "cell_type": "code",
   "execution_count": 58,
   "id": "af8f69fe4368948f",
   "metadata": {
    "collapsed": false,
    "ExecuteTime": {
     "end_time": "2023-11-30T13:48:36.218152Z",
     "start_time": "2023-11-30T13:48:36.063624Z"
    }
   },
   "outputs": [
    {
     "data": {
      "text/plain": "'\\n\\n#read nodes.csv (!!should only contain the names and affiliations of the 7 original authors)\\nnodes = pd.read_csv(r\\'Data/nodes.csv\\') \\n\\n#cycle the authors and takes their coauthors (and their required information), adds them to nodes and to edges with the relevant arch\\nfor author in nodes[\"author_id\"]:\\n    get_profile_coauthors(apikey, author, nodes)\\n'"
     },
     "execution_count": 58,
     "metadata": {},
     "output_type": "execute_result"
    }
   ],
   "source": [
    "'''\n",
    "\n",
    "#read nodes.csv (!!should only contain the names and affiliations of the 7 original authors)\n",
    "nodes = pd.read_csv(r'Data/nodes.csv') \n",
    "\n",
    "#cycle the authors and takes their coauthors (and their required information), adds them to nodes and to edges with the relevant arch\n",
    "for author in nodes[\"author_id\"]:\n",
    "    get_profile_coauthors(apikey, author, nodes)\n",
    "'''"
   ]
  },
  {
   "cell_type": "code",
   "execution_count": 90,
   "outputs": [
    {
     "data": {
      "text/plain": "                 name                                       affiliations  \\\n0    David La Barbera                    Università Degli Studi Di Udine   \n1     Michael Soprano  Postdoctoral Research Fellow at the University...   \n2       Kevin Roitero                                University of Udine   \n3     Stefano Mizzaro  Full professor of Computer Science and Informa...   \n4       Damiano Spina  School of Computing Technologies, RMIT University   \n5  Gianluca Demartini  Associate Professor at the University of Queen...   \n6      Eddy Maddalena             Università degli Studi di Udine, Italy   \n\n   author_id  cited_by  interests  \n0        NaN       NaN        NaN  \n1        NaN       NaN        NaN  \n2        NaN       NaN        NaN  \n3        NaN       NaN        NaN  \n4        NaN       NaN        NaN  \n5        NaN       NaN        NaN  \n6        NaN       NaN        NaN  ",
      "text/html": "<div>\n<style scoped>\n    .dataframe tbody tr th:only-of-type {\n        vertical-align: middle;\n    }\n\n    .dataframe tbody tr th {\n        vertical-align: top;\n    }\n\n    .dataframe thead th {\n        text-align: right;\n    }\n</style>\n<table border=\"1\" class=\"dataframe\">\n  <thead>\n    <tr style=\"text-align: right;\">\n      <th></th>\n      <th>name</th>\n      <th>affiliations</th>\n      <th>author_id</th>\n      <th>cited_by</th>\n      <th>interests</th>\n    </tr>\n  </thead>\n  <tbody>\n    <tr>\n      <th>0</th>\n      <td>David La Barbera</td>\n      <td>Università Degli Studi Di Udine</td>\n      <td>NaN</td>\n      <td>NaN</td>\n      <td>NaN</td>\n    </tr>\n    <tr>\n      <th>1</th>\n      <td>Michael Soprano</td>\n      <td>Postdoctoral Research Fellow at the University...</td>\n      <td>NaN</td>\n      <td>NaN</td>\n      <td>NaN</td>\n    </tr>\n    <tr>\n      <th>2</th>\n      <td>Kevin Roitero</td>\n      <td>University of Udine</td>\n      <td>NaN</td>\n      <td>NaN</td>\n      <td>NaN</td>\n    </tr>\n    <tr>\n      <th>3</th>\n      <td>Stefano Mizzaro</td>\n      <td>Full professor of Computer Science and Informa...</td>\n      <td>NaN</td>\n      <td>NaN</td>\n      <td>NaN</td>\n    </tr>\n    <tr>\n      <th>4</th>\n      <td>Damiano Spina</td>\n      <td>School of Computing Technologies, RMIT University</td>\n      <td>NaN</td>\n      <td>NaN</td>\n      <td>NaN</td>\n    </tr>\n    <tr>\n      <th>5</th>\n      <td>Gianluca Demartini</td>\n      <td>Associate Professor at the University of Queen...</td>\n      <td>NaN</td>\n      <td>NaN</td>\n      <td>NaN</td>\n    </tr>\n    <tr>\n      <th>6</th>\n      <td>Eddy Maddalena</td>\n      <td>Università degli Studi di Udine, Italy</td>\n      <td>NaN</td>\n      <td>NaN</td>\n      <td>NaN</td>\n    </tr>\n  </tbody>\n</table>\n</div>"
     },
     "execution_count": 90,
     "metadata": {},
     "output_type": "execute_result"
    }
   ],
   "source": [
    "nodes"
   ],
   "metadata": {
    "collapsed": false,
    "ExecuteTime": {
     "end_time": "2023-11-30T14:08:18.887390Z",
     "start_time": "2023-11-30T14:08:18.797081Z"
    }
   },
   "id": "b6afbc9f71e7b72"
  },
  {
   "cell_type": "markdown",
   "id": "cbc21ff5eac9e78",
   "metadata": {
    "collapsed": false
   },
   "source": [
    "\n",
    "\n",
    "# Parte 3\n",
    "Usare il due dataset per creare grafico indiretto:\n",
    "a. Generare un grafo indiretto che ne rappresenta le informazioni contenute.\n",
    "Salvare (serializzare) il grafo in locale nella cartella /graphs .\n",
    "b. Visualizzare il grafo prodotto colorando i nodi a seconda del loro grado con le\n",
    "seguenti colorazioni: grigio per nodi con grado uguale a 1, blu per nodi con grado compreso tra 2 e 10, viola per nodi con grado compreso tra 11 e 20, giallo per nodi con grado maggiore di 20. Inoltre, per ciascun nodo visualizzare il nome dell’autore. Salvare la visualizzazione nella cartella /visualizations.\n",
    "\n",
    "\n"
   ]
  },
  {
   "cell_type": "code",
   "execution_count": 59,
   "id": "427a0e34d58cde2f",
   "metadata": {
    "collapsed": false,
    "ExecuteTime": {
     "end_time": "2023-11-30T13:48:39.003104Z",
     "start_time": "2023-11-30T13:48:36.092886Z"
    }
   },
   "outputs": [
    {
     "data": {
      "text/plain": "<Figure size 640x480 with 1 Axes>",
      "image/png": "[encoded data removed]"
     },
     "metadata": {},
     "output_type": "display_data"
    }
   ],
   "source": [
    "import matplotlib.pyplot as plt\n",
    "\n",
    "# Creazione di un grafo vuoto\n",
    "G = nx.Graph()\n",
    "# Leggi i CSV\n",
    "nodi = pd.read_csv('Data/nodes.csv')\n",
    "edges = pd.read_csv('Data/edges.csv')\n",
    "\n",
    "# Aggiungi i nodi al grafo\n",
    "nodes = nodi['name'].tolist()\n",
    "G.add_nodes_from(nodes)\n",
    "\n",
    "\n",
    "# Aggiungi gli archi al grafo\n",
    "edges = edges[['author1', 'author2']].values.tolist()\n",
    "G.add_edges_from(edges)\n",
    "\n",
    "# Aggiungi un titolo al grafo\n",
    "plt.title(\"Grafo INDIRETTO Autori-Coautori \")\n",
    "\n",
    "nx.draw(G, with_labels=True)\n"
   ]
  },
  {
   "cell_type": "code",
   "execution_count": 60,
   "outputs": [
    {
     "name": "stdout",
     "output_type": "stream",
     "text": [
      "{'David La Barbera': 0, 'Michael Soprano': 0, 'Kevin Roitero': 0, 'Stefano Mizzaro': 0, 'Damiano Spina': 0, 'Gianluca Demartini': 0, 'Eddy Maddalena': 0}\n"
     ]
    },
    {
     "ename": "TypeError",
     "evalue": "float() argument must be a string or a real number, not 'dict_values'",
     "output_type": "error",
     "traceback": [
      "\u001B[0;31m---------------------------------------------------------------------------\u001B[0m",
      "\u001B[0;31mTypeError\u001B[0m                                 Traceback (most recent call last)",
      "Cell \u001B[0;32mIn[60], line 41\u001B[0m\n\u001B[1;32m     39\u001B[0m plt\u001B[38;5;241m.\u001B[39mtitle(\u001B[38;5;124m\"\u001B[39m\u001B[38;5;124mGrafo INDIRETTO Autori-Coautori \u001B[39m\u001B[38;5;124m\"\u001B[39m)\n\u001B[1;32m     40\u001B[0m \u001B[38;5;66;03m# 1.3 | Visualizzo il grafo\u001B[39;00m\n\u001B[0;32m---> 41\u001B[0m \u001B[43mnx\u001B[49m\u001B[38;5;241;43m.\u001B[39;49m\u001B[43mdraw\u001B[49m\u001B[43m(\u001B[49m\u001B[43mG\u001B[49m\u001B[43m,\u001B[49m\u001B[43m \u001B[49m\u001B[43mwith_labels\u001B[49m\u001B[38;5;241;43m=\u001B[39;49m\u001B[38;5;28;43;01mTrue\u001B[39;49;00m\u001B[43m,\u001B[49m\u001B[43m \u001B[49m\u001B[43mnode_color\u001B[49m\u001B[43m \u001B[49m\u001B[38;5;241;43m=\u001B[39;49m\u001B[43m \u001B[49m\u001B[43mcolori_specifici\u001B[49m\u001B[38;5;241;43m.\u001B[39;49m\u001B[43mvalues\u001B[49m\u001B[43m(\u001B[49m\u001B[43m)\u001B[49m\u001B[43m)\u001B[49m\n",
      "File \u001B[0;32m/Library/Frameworks/Python.framework/Versions/3.10/lib/python3.10/site-packages/networkx/drawing/nx_pylab.py:121\u001B[0m, in \u001B[0;36mdraw\u001B[0;34m(G, pos, ax, **kwds)\u001B[0m\n\u001B[1;32m    118\u001B[0m \u001B[38;5;28;01mif\u001B[39;00m \u001B[38;5;124m\"\u001B[39m\u001B[38;5;124mwith_labels\u001B[39m\u001B[38;5;124m\"\u001B[39m \u001B[38;5;129;01mnot\u001B[39;00m \u001B[38;5;129;01min\u001B[39;00m kwds:\n\u001B[1;32m    119\u001B[0m     kwds[\u001B[38;5;124m\"\u001B[39m\u001B[38;5;124mwith_labels\u001B[39m\u001B[38;5;124m\"\u001B[39m] \u001B[38;5;241m=\u001B[39m \u001B[38;5;124m\"\u001B[39m\u001B[38;5;124mlabels\u001B[39m\u001B[38;5;124m\"\u001B[39m \u001B[38;5;129;01min\u001B[39;00m kwds\n\u001B[0;32m--> 121\u001B[0m \u001B[43mdraw_networkx\u001B[49m\u001B[43m(\u001B[49m\u001B[43mG\u001B[49m\u001B[43m,\u001B[49m\u001B[43m \u001B[49m\u001B[43mpos\u001B[49m\u001B[38;5;241;43m=\u001B[39;49m\u001B[43mpos\u001B[49m\u001B[43m,\u001B[49m\u001B[43m \u001B[49m\u001B[43max\u001B[49m\u001B[38;5;241;43m=\u001B[39;49m\u001B[43max\u001B[49m\u001B[43m,\u001B[49m\u001B[43m \u001B[49m\u001B[38;5;241;43m*\u001B[39;49m\u001B[38;5;241;43m*\u001B[39;49m\u001B[43mkwds\u001B[49m\u001B[43m)\u001B[49m\n\u001B[1;32m    122\u001B[0m ax\u001B[38;5;241m.\u001B[39mset_axis_off()\n\u001B[1;32m    123\u001B[0m plt\u001B[38;5;241m.\u001B[39mdraw_if_interactive()\n",
      "File \u001B[0;32m/Library/Frameworks/Python.framework/Versions/3.10/lib/python3.10/site-packages/networkx/drawing/nx_pylab.py:304\u001B[0m, in \u001B[0;36mdraw_networkx\u001B[0;34m(G, pos, arrows, with_labels, **kwds)\u001B[0m\n\u001B[1;32m    301\u001B[0m \u001B[38;5;28;01mif\u001B[39;00m pos \u001B[38;5;129;01mis\u001B[39;00m \u001B[38;5;28;01mNone\u001B[39;00m:\n\u001B[1;32m    302\u001B[0m     pos \u001B[38;5;241m=\u001B[39m nx\u001B[38;5;241m.\u001B[39mdrawing\u001B[38;5;241m.\u001B[39mspring_layout(G)  \u001B[38;5;66;03m# default to spring layout\u001B[39;00m\n\u001B[0;32m--> 304\u001B[0m \u001B[43mdraw_networkx_nodes\u001B[49m\u001B[43m(\u001B[49m\u001B[43mG\u001B[49m\u001B[43m,\u001B[49m\u001B[43m \u001B[49m\u001B[43mpos\u001B[49m\u001B[43m,\u001B[49m\u001B[43m \u001B[49m\u001B[38;5;241;43m*\u001B[39;49m\u001B[38;5;241;43m*\u001B[39;49m\u001B[43mnode_kwds\u001B[49m\u001B[43m)\u001B[49m\n\u001B[1;32m    305\u001B[0m draw_networkx_edges(G, pos, arrows\u001B[38;5;241m=\u001B[39marrows, \u001B[38;5;241m*\u001B[39m\u001B[38;5;241m*\u001B[39medge_kwds)\n\u001B[1;32m    306\u001B[0m \u001B[38;5;28;01mif\u001B[39;00m with_labels:\n",
      "File \u001B[0;32m/Library/Frameworks/Python.framework/Versions/3.10/lib/python3.10/site-packages/networkx/drawing/nx_pylab.py:437\u001B[0m, in \u001B[0;36mdraw_networkx_nodes\u001B[0;34m(G, pos, nodelist, node_size, node_color, node_shape, alpha, cmap, vmin, vmax, ax, linewidths, edgecolors, label, margins)\u001B[0m\n\u001B[1;32m    434\u001B[0m     node_color \u001B[38;5;241m=\u001B[39m apply_alpha(node_color, alpha, nodelist, cmap, vmin, vmax)\n\u001B[1;32m    435\u001B[0m     alpha \u001B[38;5;241m=\u001B[39m \u001B[38;5;28;01mNone\u001B[39;00m\n\u001B[0;32m--> 437\u001B[0m node_collection \u001B[38;5;241m=\u001B[39m \u001B[43max\u001B[49m\u001B[38;5;241;43m.\u001B[39;49m\u001B[43mscatter\u001B[49m\u001B[43m(\u001B[49m\n\u001B[1;32m    438\u001B[0m \u001B[43m    \u001B[49m\u001B[43mxy\u001B[49m\u001B[43m[\u001B[49m\u001B[43m:\u001B[49m\u001B[43m,\u001B[49m\u001B[43m \u001B[49m\u001B[38;5;241;43m0\u001B[39;49m\u001B[43m]\u001B[49m\u001B[43m,\u001B[49m\n\u001B[1;32m    439\u001B[0m \u001B[43m    \u001B[49m\u001B[43mxy\u001B[49m\u001B[43m[\u001B[49m\u001B[43m:\u001B[49m\u001B[43m,\u001B[49m\u001B[43m \u001B[49m\u001B[38;5;241;43m1\u001B[39;49m\u001B[43m]\u001B[49m\u001B[43m,\u001B[49m\n\u001B[1;32m    440\u001B[0m \u001B[43m    \u001B[49m\u001B[43ms\u001B[49m\u001B[38;5;241;43m=\u001B[39;49m\u001B[43mnode_size\u001B[49m\u001B[43m,\u001B[49m\n\u001B[1;32m    441\u001B[0m \u001B[43m    \u001B[49m\u001B[43mc\u001B[49m\u001B[38;5;241;43m=\u001B[39;49m\u001B[43mnode_color\u001B[49m\u001B[43m,\u001B[49m\n\u001B[1;32m    442\u001B[0m \u001B[43m    \u001B[49m\u001B[43mmarker\u001B[49m\u001B[38;5;241;43m=\u001B[39;49m\u001B[43mnode_shape\u001B[49m\u001B[43m,\u001B[49m\n\u001B[1;32m    443\u001B[0m \u001B[43m    \u001B[49m\u001B[43mcmap\u001B[49m\u001B[38;5;241;43m=\u001B[39;49m\u001B[43mcmap\u001B[49m\u001B[43m,\u001B[49m\n\u001B[1;32m    444\u001B[0m \u001B[43m    \u001B[49m\u001B[43mvmin\u001B[49m\u001B[38;5;241;43m=\u001B[39;49m\u001B[43mvmin\u001B[49m\u001B[43m,\u001B[49m\n\u001B[1;32m    445\u001B[0m \u001B[43m    \u001B[49m\u001B[43mvmax\u001B[49m\u001B[38;5;241;43m=\u001B[39;49m\u001B[43mvmax\u001B[49m\u001B[43m,\u001B[49m\n\u001B[1;32m    446\u001B[0m \u001B[43m    \u001B[49m\u001B[43malpha\u001B[49m\u001B[38;5;241;43m=\u001B[39;49m\u001B[43malpha\u001B[49m\u001B[43m,\u001B[49m\n\u001B[1;32m    447\u001B[0m \u001B[43m    \u001B[49m\u001B[43mlinewidths\u001B[49m\u001B[38;5;241;43m=\u001B[39;49m\u001B[43mlinewidths\u001B[49m\u001B[43m,\u001B[49m\n\u001B[1;32m    448\u001B[0m \u001B[43m    \u001B[49m\u001B[43medgecolors\u001B[49m\u001B[38;5;241;43m=\u001B[39;49m\u001B[43medgecolors\u001B[49m\u001B[43m,\u001B[49m\n\u001B[1;32m    449\u001B[0m \u001B[43m    \u001B[49m\u001B[43mlabel\u001B[49m\u001B[38;5;241;43m=\u001B[39;49m\u001B[43mlabel\u001B[49m\u001B[43m,\u001B[49m\n\u001B[1;32m    450\u001B[0m \u001B[43m\u001B[49m\u001B[43m)\u001B[49m\n\u001B[1;32m    451\u001B[0m ax\u001B[38;5;241m.\u001B[39mtick_params(\n\u001B[1;32m    452\u001B[0m     axis\u001B[38;5;241m=\u001B[39m\u001B[38;5;124m\"\u001B[39m\u001B[38;5;124mboth\u001B[39m\u001B[38;5;124m\"\u001B[39m,\n\u001B[1;32m    453\u001B[0m     which\u001B[38;5;241m=\u001B[39m\u001B[38;5;124m\"\u001B[39m\u001B[38;5;124mboth\u001B[39m\u001B[38;5;124m\"\u001B[39m,\n\u001B[0;32m   (...)\u001B[0m\n\u001B[1;32m    457\u001B[0m     labelleft\u001B[38;5;241m=\u001B[39m\u001B[38;5;28;01mFalse\u001B[39;00m,\n\u001B[1;32m    458\u001B[0m )\n\u001B[1;32m    460\u001B[0m \u001B[38;5;28;01mif\u001B[39;00m margins \u001B[38;5;129;01mis\u001B[39;00m \u001B[38;5;129;01mnot\u001B[39;00m \u001B[38;5;28;01mNone\u001B[39;00m:\n",
      "File \u001B[0;32m/Library/Frameworks/Python.framework/Versions/3.10/lib/python3.10/site-packages/matplotlib/__init__.py:1442\u001B[0m, in \u001B[0;36m_preprocess_data.<locals>.inner\u001B[0;34m(ax, data, *args, **kwargs)\u001B[0m\n\u001B[1;32m   1439\u001B[0m \u001B[38;5;129m@functools\u001B[39m\u001B[38;5;241m.\u001B[39mwraps(func)\n\u001B[1;32m   1440\u001B[0m \u001B[38;5;28;01mdef\u001B[39;00m \u001B[38;5;21minner\u001B[39m(ax, \u001B[38;5;241m*\u001B[39margs, data\u001B[38;5;241m=\u001B[39m\u001B[38;5;28;01mNone\u001B[39;00m, \u001B[38;5;241m*\u001B[39m\u001B[38;5;241m*\u001B[39mkwargs):\n\u001B[1;32m   1441\u001B[0m     \u001B[38;5;28;01mif\u001B[39;00m data \u001B[38;5;129;01mis\u001B[39;00m \u001B[38;5;28;01mNone\u001B[39;00m:\n\u001B[0;32m-> 1442\u001B[0m         \u001B[38;5;28;01mreturn\u001B[39;00m \u001B[43mfunc\u001B[49m\u001B[43m(\u001B[49m\u001B[43max\u001B[49m\u001B[43m,\u001B[49m\u001B[43m \u001B[49m\u001B[38;5;241;43m*\u001B[39;49m\u001B[38;5;28;43mmap\u001B[39;49m\u001B[43m(\u001B[49m\u001B[43msanitize_sequence\u001B[49m\u001B[43m,\u001B[49m\u001B[43m \u001B[49m\u001B[43margs\u001B[49m\u001B[43m)\u001B[49m\u001B[43m,\u001B[49m\u001B[43m \u001B[49m\u001B[38;5;241;43m*\u001B[39;49m\u001B[38;5;241;43m*\u001B[39;49m\u001B[43mkwargs\u001B[49m\u001B[43m)\u001B[49m\n\u001B[1;32m   1444\u001B[0m     bound \u001B[38;5;241m=\u001B[39m new_sig\u001B[38;5;241m.\u001B[39mbind(ax, \u001B[38;5;241m*\u001B[39margs, \u001B[38;5;241m*\u001B[39m\u001B[38;5;241m*\u001B[39mkwargs)\n\u001B[1;32m   1445\u001B[0m     auto_label \u001B[38;5;241m=\u001B[39m (bound\u001B[38;5;241m.\u001B[39marguments\u001B[38;5;241m.\u001B[39mget(label_namer)\n\u001B[1;32m   1446\u001B[0m                   \u001B[38;5;129;01mor\u001B[39;00m bound\u001B[38;5;241m.\u001B[39mkwargs\u001B[38;5;241m.\u001B[39mget(label_namer))\n",
      "File \u001B[0;32m/Library/Frameworks/Python.framework/Versions/3.10/lib/python3.10/site-packages/matplotlib/axes/_axes.py:4602\u001B[0m, in \u001B[0;36mAxes.scatter\u001B[0;34m(self, x, y, s, c, marker, cmap, norm, vmin, vmax, alpha, linewidths, edgecolors, plotnonfinite, **kwargs)\u001B[0m\n\u001B[1;32m   4599\u001B[0m \u001B[38;5;28;01mif\u001B[39;00m edgecolors \u001B[38;5;129;01mis\u001B[39;00m \u001B[38;5;28;01mNone\u001B[39;00m:\n\u001B[1;32m   4600\u001B[0m     orig_edgecolor \u001B[38;5;241m=\u001B[39m kwargs\u001B[38;5;241m.\u001B[39mget(\u001B[38;5;124m'\u001B[39m\u001B[38;5;124medgecolor\u001B[39m\u001B[38;5;124m'\u001B[39m, \u001B[38;5;28;01mNone\u001B[39;00m)\n\u001B[1;32m   4601\u001B[0m c, colors, edgecolors \u001B[38;5;241m=\u001B[39m \\\n\u001B[0;32m-> 4602\u001B[0m     \u001B[38;5;28;43mself\u001B[39;49m\u001B[38;5;241;43m.\u001B[39;49m\u001B[43m_parse_scatter_color_args\u001B[49m\u001B[43m(\u001B[49m\n\u001B[1;32m   4603\u001B[0m \u001B[43m        \u001B[49m\u001B[43mc\u001B[49m\u001B[43m,\u001B[49m\u001B[43m \u001B[49m\u001B[43medgecolors\u001B[49m\u001B[43m,\u001B[49m\u001B[43m \u001B[49m\u001B[43mkwargs\u001B[49m\u001B[43m,\u001B[49m\u001B[43m \u001B[49m\u001B[43mx\u001B[49m\u001B[38;5;241;43m.\u001B[39;49m\u001B[43msize\u001B[49m\u001B[43m,\u001B[49m\n\u001B[1;32m   4604\u001B[0m \u001B[43m        \u001B[49m\u001B[43mget_next_color_func\u001B[49m\u001B[38;5;241;43m=\u001B[39;49m\u001B[38;5;28;43mself\u001B[39;49m\u001B[38;5;241;43m.\u001B[39;49m\u001B[43m_get_patches_for_fill\u001B[49m\u001B[38;5;241;43m.\u001B[39;49m\u001B[43mget_next_color\u001B[49m\u001B[43m)\u001B[49m\n\u001B[1;32m   4606\u001B[0m \u001B[38;5;28;01mif\u001B[39;00m plotnonfinite \u001B[38;5;129;01mand\u001B[39;00m colors \u001B[38;5;129;01mis\u001B[39;00m \u001B[38;5;28;01mNone\u001B[39;00m:\n\u001B[1;32m   4607\u001B[0m     c \u001B[38;5;241m=\u001B[39m np\u001B[38;5;241m.\u001B[39mma\u001B[38;5;241m.\u001B[39mmasked_invalid(c)\n",
      "File \u001B[0;32m/Library/Frameworks/Python.framework/Versions/3.10/lib/python3.10/site-packages/matplotlib/axes/_axes.py:4411\u001B[0m, in \u001B[0;36mAxes._parse_scatter_color_args\u001B[0;34m(c, edgecolors, kwargs, xsize, get_next_color_func)\u001B[0m\n\u001B[1;32m   4409\u001B[0m \u001B[38;5;28;01mif\u001B[39;00m \u001B[38;5;129;01mnot\u001B[39;00m c_was_none \u001B[38;5;129;01mand\u001B[39;00m kwcolor \u001B[38;5;129;01mis\u001B[39;00m \u001B[38;5;28;01mNone\u001B[39;00m \u001B[38;5;129;01mand\u001B[39;00m \u001B[38;5;129;01mnot\u001B[39;00m c_is_string_or_strings:\n\u001B[1;32m   4410\u001B[0m     \u001B[38;5;28;01mtry\u001B[39;00m:  \u001B[38;5;66;03m# First, does 'c' look suitable for value-mapping?\u001B[39;00m\n\u001B[0;32m-> 4411\u001B[0m         c \u001B[38;5;241m=\u001B[39m \u001B[43mnp\u001B[49m\u001B[38;5;241;43m.\u001B[39;49m\u001B[43masanyarray\u001B[49m\u001B[43m(\u001B[49m\u001B[43mc\u001B[49m\u001B[43m,\u001B[49m\u001B[43m \u001B[49m\u001B[43mdtype\u001B[49m\u001B[38;5;241;43m=\u001B[39;49m\u001B[38;5;28;43mfloat\u001B[39;49m\u001B[43m)\u001B[49m\n\u001B[1;32m   4412\u001B[0m     \u001B[38;5;28;01mexcept\u001B[39;00m \u001B[38;5;167;01mValueError\u001B[39;00m:\n\u001B[1;32m   4413\u001B[0m         \u001B[38;5;28;01mpass\u001B[39;00m  \u001B[38;5;66;03m# Failed to convert to float array; must be color specs.\u001B[39;00m\n",
      "\u001B[0;31mTypeError\u001B[0m: float() argument must be a string or a real number, not 'dict_values'"
     ]
    },
    {
     "data": {
      "text/plain": "<Figure size 640x480 with 1 Axes>",
      "image/png": "[encoded data removed]"
     },
     "metadata": {},
     "output_type": "display_data"
    }
   ],
   "source": [
    "import matplotlib.pyplot as plt\n",
    "import networkx as nx\n",
    "# Creazione di un grafo vuoto\n",
    "G = nx.Graph()\n",
    "# Leggi i CSV\n",
    "nodi = pd.read_csv('Data/nodes.csv')\n",
    "edges = pd.read_csv('Data/edges.csv')\n",
    "\n",
    "\n",
    "# Aggiungi i nodi al grafo\n",
    "nodes = nodi['name'].tolist()\n",
    "G.add_nodes_from(nodes)\n",
    "\n",
    "# Aggiungi gli archi al grafo\n",
    "edges = edges[['author1', 'author2']].values.tolist()\n",
    "G.add_edges_from(edges)\n",
    "\n",
    "'''\n",
    "grigio per nodi con grado uguale a 1, blu per nodi con grado compreso tra 2 e 10, viola per nodi con grado compreso tra 11 e 20, giallo per nodi con grado maggiore di 20\n",
    "'''\n",
    "#calcolo dela deegree\n",
    "degrees = dict(G.degree())\n",
    "print(degrees)\n",
    "colori_specifici={}\n",
    "for nodo, grado in degrees.items():\n",
    "    if grado == 1:\n",
    "        colori_specifici[nodo] = 'gray'\n",
    "        #colore grigio\n",
    "    elif grado in range(2, 10):\n",
    "        colori_specifici[nodo] = 'blue'\n",
    "        #colore blu\n",
    "    elif grado in range(11, 20):\n",
    "        colori_specifici[nodo] = 'purple'\n",
    "    elif grado:\n",
    "        colori_specifici[nodo] = 'yellow'\n",
    "        #colore gioallo\n",
    "\n",
    "# Aggiungi un titolo al grafo\n",
    "plt.title(\"Grafo INDIRETTO Autori-Coautori \")\n",
    "# 1.3 | Visualizzo il grafo\n",
    "nx.draw(G, with_labels=True, node_color = colori_specifici.values())"
   ],
   "metadata": {
    "collapsed": false,
    "ExecuteTime": {
     "end_time": "2023-11-30T13:48:40.099695Z",
     "start_time": "2023-11-30T13:48:39.001834Z"
    }
   },
   "id": "6a4a258b619f4475"
  },
  {
   "cell_type": "code",
   "execution_count": null,
   "id": "bde6ef691a0d87e0",
   "metadata": {
    "collapsed": false,
    "ExecuteTime": {
     "start_time": "2023-11-30T13:48:40.097500Z"
    }
   },
   "outputs": [],
   "source": [
    "#ES 2\n",
    "def draw(G, pos, measures, title):\n",
    "    nodes = nx.draw_networkx_nodes(G, pos, node_size = 150, cmap = plt.cm.plasma,\n",
    "                                   node_color  = list(measures.values()),\n",
    "                                   nodelist = measures.keys()\n",
    "                                   )\n",
    "    edges = nx.draw_networkx_edges(G, pos)\n",
    "    plt.title(title)\n",
    "    plt.colorbar(nodes)\n",
    "    plt.axis('off')\n",
    "    plt.show()\n",
    "    # 2.1 | Genero grafo con proprietà piccolo mondo\n",
    "G = nx.watts_strogatz_graph(15, 4, .3)\n",
    "\n",
    "# 2.2 | Centralità di grado per tutti i nodi\n",
    "degrees = dict(G.degree())\n",
    "df = pd.DataFrame(list(degrees.items()), columns=['node', 'degree'])\n",
    "print(\"Centralità di grado:\")\n",
    "display(df)\n",
    "\n",
    "\n",
    "# 2.3 | Calcolo le altre priprietà richieste\n",
    "num_edges = G.number_of_edges()\n",
    "# Grado medio \n",
    "avg_degree = sum(degrees.values()) / G.number_of_nodes()\n",
    "# Densità del grafo\n",
    "density = nx.density(G)\n",
    "# Nodo più connesso\n",
    "max_degree_node = max(degrees, key=degrees.get)\n",
    "\n",
    "print(f\"Number of edges: {num_edges}\")\n",
    "print(f\"Average degree: {avg_degree:.2f}\")\n",
    "print(f\"Density: {density:.2f}\")\n",
    "print(f\"Most connected node: {max_degree_node}\")\n",
    "# 2.4 | Visualizzo usando lo spring layout\n",
    "draw(\n",
    "    G,\n",
    "    nx.spring_layout(G),\n",
    "    nx.degree_centrality(G),\n",
    "    title = \"Visualizzazione della rete Piccolo Mondo generata\"\n",
    "      )"
   ]
  },
  {
   "cell_type": "code",
   "execution_count": null,
   "id": "573b28fe7b355a92",
   "metadata": {
    "collapsed": false,
    "ExecuteTime": {
     "start_time": "2023-11-30T13:48:40.101011Z"
    }
   },
   "outputs": [],
   "source": [
    "\n",
    "\n",
    "\n",
    "\n",
    "#usare la stessa funzione iniziale, quando passi l'id del autore e restituisce tutti i dati, di cui recuprei i coautori, crei direttamente il datframe quello dei nodi, ciclano n-volte( che saranno il numero di coaurori, e crei una riga insrendo l'Id del autore + vicino il coautore."
   ]
  },
  {
   "cell_type": "code",
   "execution_count": null,
   "id": "6687b40a83f977eb",
   "metadata": {
    "collapsed": false,
    "ExecuteTime": {
     "start_time": "2023-11-30T13:48:40.104250Z"
    }
   },
   "outputs": [],
   "source": []
  }
 ],
 "metadata": {
  "kernelspec": {
   "display_name": "Python 3 (ipykernel)",
   "language": "python",
   "name": "python3"
  },
  "language_info": {
   "codemirror_mode": {
    "name": "ipython",
    "version": 3
   },
   "file_extension": ".py",
   "mimetype": "text/x-python",
   "name": "python",
   "nbconvert_exporter": "python",
   "pygments_lexer": "ipython3",
   "version": "3.11.5"
  }
 },
 "nbformat": 4,
 "nbformat_minor": 5
}
