{
 "cells": [
  {
   "cell_type": "code",
   "execution_count": 25,
   "id": "initial_id",
   "metadata": {
    "collapsed": true,
    "ExecuteTime": {
     "end_time": "2023-11-23T13:43:01.496041Z",
     "start_time": "2023-11-23T13:43:01.391694Z"
    }
   },
   "outputs": [],
   "source": [
    "import pandas as pd\n",
    "import networkx as nx\n",
    "from pyvis import network as net\n",
    "from pyvis.network import Network\n",
    "\n",
    "from serpapi import GoogleScholarSearch\n",
    "import json\n",
    "import requests"
   ]
  },
  {
   "cell_type": "markdown",
   "source": [
    "## ES 1\n",
    "A partire da nodes.csv, utilizzare la libreria Python SerpAPI per scaricare, per ciascuno dei 7 autori elencati:\n",
    "- author_id: ID identificativo del profilo Google Scholar\n",
    "- cited_by: numero totale di citazioni ricevute\n",
    "- interests: elenco degli interessi di ciascun autore\n",
    "Sfruttando la libreria Python Pandas, usare la struttura dati DataFrame per aggiornare il file originale con apposite colonne e memorizzarlo nella cartella /data."
   ],
   "metadata": {
    "collapsed": false
   },
   "id": "efe3d2f3a4b86336"
  },
  {
   "cell_type": "code",
   "execution_count": null,
   "outputs": [],
   "source": [
    "#Serpapi keys\n",
    "\n",
    "GoogleScholarSearch.SERP_API_KEY_FAVA = \"1ae8a37d9b3dabb5732fcd7a9cb57410194766951242a4f4ac5bbd9fb7012048\"\n",
    "GoogleScholarSearch.SERP_API_KEY_LIGUGNANA = \"\"\n",
    "GoogleScholarSearch.SERP_API_KEY_PARAVANO = \"\"\n",
    "GoogleScholarSearch.SERP_API_KEY_TAMMARO = \"6eaf5a9a0d2eef8bf026a947a3dffbb0d31cb1d6e122b81c0e6062f6b23a4c40\"\n"
   ],
   "metadata": {
    "collapsed": false
   },
   "id": "5a2d7124c3f1ac47"
  },
  {
   "cell_type": "code",
   "execution_count": 71,
   "outputs": [
    {
     "data": {
      "text/plain": "'Università Degli Studi Di Udine'"
     },
     "execution_count": 71,
     "metadata": {},
     "output_type": "execute_result"
    }
   ],
   "source": [
    "df_nodes = pd.read_csv(r\"Data/nodes.csv\")\n",
    "    \n",
    "def list_articles(name, affiliation):\n",
    "    base_url = \"https://serpapi.com/search\"\n",
    "    \n",
    "    params = {\n",
    "        \"api_key\": \"1ae8a37d9b3dabb5732fcd7a9cb57410194766951242a4f4ac5bbd9fb7012048\",\n",
    "        \"engine\": \"google_scholar_profiles\",\n",
    "        \"hl\": \"en\",\n",
    "        \"mauthors\": \"David La Barbera\"\n",
    "    }      \n",
    "    \n",
    "    response = requests.get(base_url, params = params)\n",
    "    result = response.json()\n",
    "    \n",
    "    authorID = result[\"profiles\"][0][\"author_id\"] #save author_id for the next call\n",
    "\n",
    "    if result[\"profiles\"][0][\"affiliations\"] == affiliation: \n",
    "        #richimao  afunzione\n",
    "\n",
    "    #verifies the affiliation\n",
    "    \n",
    "    \n",
    "    \n",
    "    #selezionare author_id\n",
    "    "
   ],
   "metadata": {
    "collapsed": false,
    "ExecuteTime": {
     "end_time": "2023-11-23T14:24:14.203923Z",
     "start_time": "2023-11-23T14:24:14.019382Z"
    }
   },
   "id": "f1dbc1fd71fc6a3c"
  },
  {
   "cell_type": "code",
   "execution_count": 57,
   "outputs": [
    {
     "data": {
      "text/plain": "dict_keys(['search_metadata', 'search_parameters', 'profiles'])"
     },
     "execution_count": 57,
     "metadata": {},
     "output_type": "execute_result"
    }
   ],
   "source": [
    "file = open('all_profiles_for_larry_page.json')\n",
    "res = json.load(file)\n",
    "\n",
    "res.keys()\n"
   ],
   "metadata": {
    "collapsed": false,
    "ExecuteTime": {
     "end_time": "2023-11-23T14:13:29.079269Z",
     "start_time": "2023-11-23T14:13:29.015009Z"
    }
   },
   "id": "131df53db926b631"
  },
  {
   "cell_type": "markdown",
   "source": [],
   "metadata": {
    "collapsed": false
   },
   "id": "e2c323b3c25f2860"
  },
  {
   "cell_type": "code",
   "execution_count": 38,
   "outputs": [],
   "source": [
    "df_nodes = pd.read_csv(r\"Data/nodes.csv\")"
   ],
   "metadata": {
    "collapsed": false,
    "ExecuteTime": {
     "end_time": "2023-11-23T13:51:28.274265Z",
     "start_time": "2023-11-23T13:51:28.205381Z"
    }
   },
   "id": "681d15ba62607d51"
  },
  {
   "cell_type": "code",
   "execution_count": null,
   "outputs": [],
   "source": [],
   "metadata": {
    "collapsed": false
   },
   "id": "1fef1b5300f58116"
  }
 ],
 "metadata": {
  "kernelspec": {
   "display_name": "Python 3",
   "language": "python",
   "name": "python3"
  },
  "language_info": {
   "codemirror_mode": {
    "name": "ipython",
    "version": 2
   },
   "file_extension": ".py",
   "mimetype": "text/x-python",
   "name": "python",
   "nbconvert_exporter": "python",
   "pygments_lexer": "ipython2",
   "version": "2.7.6"
  }
 },
 "nbformat": 4,
 "nbformat_minor": 5
}
