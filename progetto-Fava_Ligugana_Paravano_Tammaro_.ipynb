{
 "cells": [
  {
   "cell_type": "code",
   "execution_count": 19,
   "id": "initial_id",
   "metadata": {
    "collapsed": true,
    "ExecuteTime": {
     "end_time": "2023-11-24T13:00:16.160383Z",
     "start_time": "2023-11-24T13:00:16.131647Z"
    }
   },
   "outputs": [],
   "source": [
    "import pandas as pd\n",
    "import numpy as np\n",
    "import networkx as nx\n",
    "from pyvis import network as net\n",
    "from pyvis.network import Network\n",
    "import random\n",
    "\n",
    "from serpapi import GoogleScholarSearch\n",
    "import json\n",
    "import requests"
   ]
  },
  {
   "cell_type": "markdown",
   "source": [
    "## ES 1\n",
    "A partire da nodes.csv, utilizzare la libreria Python SerpAPI per scaricare, per ciascuno dei 7 autori elencati:\n",
    "- author_id: ID identificativo del profilo Google Scholar\n",
    "- cited_by: numero totale di citazioni ricevute\n",
    "- interests: elenco degli interessi di ciascun autore\n",
    "Sfruttando la libreria Python Pandas, usare la struttura dati DataFrame per aggiornare il file originale con apposite colonne e memorizzarlo nella cartella /data."
   ],
   "metadata": {
    "collapsed": false
   },
   "id": "efe3d2f3a4b86336"
  },
  {
   "cell_type": "code",
   "execution_count": 17,
   "outputs": [],
   "source": [
    "apikey ={\n",
    "    'SERP_API_KEY_FAVA': \"1ae8a37d9b3dabb5732fcd7a9cb57410194766951242a4f4ac5bbd9fb7012048\", \n",
    "    'SERP_API_KEY_LIGUGNANA': \"11a077a8bee5bb1c2a25af914046bc7ce53050b3416e5720239e43223c63374b\",\n",
    "    'SERP_API_KEY_PARAVANO' :  \"42b4919fd319f0ff32c19ae31a88b4ff67a544e29ca2a017905088b2ae11e60e\",\n",
    "    'SERP_API_KEY_TAMMARO': \"6eaf5a9a0d2eef8bf026a947a3dffbb0d31cb1d6e122b81c0e6062f6b23a4c40\"\n",
    "}\n",
    "apikey = \"1ae8a37d9b3dabb5732fcd7a9cb57410194766951242a4f4ac5bbd9fb7012048\"\n",
    "def key_choice():\n",
    "    return random.choice(list(apikey.items()))[1]\n",
    "#for che cambi la key se da errore la chiamata\n"
   ],
   "metadata": {
    "collapsed": false,
    "ExecuteTime": {
     "end_time": "2023-11-24T12:48:55.360780Z",
     "start_time": "2023-11-24T12:48:55.326655Z"
    }
   },
   "id": "5a2d7124c3f1ac47"
  },
  {
   "cell_type": "code",
   "execution_count": 13,
   "outputs": [
    {
     "data": {
      "text/plain": "'11a077a8bee5bb1c2a25af914046bc7ce53050b3416e5720239e43223c63374b'"
     },
     "execution_count": 13,
     "metadata": {},
     "output_type": "execute_result"
    }
   ],
   "source": [
    "key_choice()\n"
   ],
   "metadata": {
    "collapsed": false,
    "ExecuteTime": {
     "end_time": "2023-11-24T09:59:15.042140Z",
     "start_time": "2023-11-24T09:59:15.027114Z"
    }
   },
   "id": "6da9d8b011953bb9"
  },
  {
   "cell_type": "code",
   "execution_count": 109,
   "outputs": [],
   "source": [
    "def list_profile(apiKey, name, affiliation):\n",
    "    base_url = \"https://serpapi.com/search\"\n",
    "    \n",
    "    params = {\n",
    "        \"api_key\": apiKey,\n",
    "        \"engine\": \"google_scholar_profiles\",\n",
    "        \"hl\": \"en\",\n",
    "        \"mauthors\": name\n",
    "    }      \n",
    "    \n",
    "    response = requests.get(base_url, params = params)\n",
    "    results = response.json()\n",
    "    \n",
    "    authorId = results[\"profiles\"][0][\"author_id\"] #save author_id from of the author\n",
    "    citedBy = results[\"profiles\"][0][\"cited_by\"]\n",
    "    interests = results[\"profiles\"][0][\"interests\"]\n",
    "    \n",
    "    '''    \n",
    "    print(affiliation)\n",
    "    print(name)'''\n",
    "    \n",
    "    \n",
    "    for profile in results[\"profiles\"]:\n",
    "        print(profile[\"affiliations\"])\n",
    "        print(profile[\"name\"])\n",
    "        if profile[\"affiliations\"] == affiliation and profile[\"name\"] == name:\n",
    "            tuplas = tuple((name,affiliation,authorId,citedBy,interests))\n",
    "            df = pd.DataFrame({'name': [tuplas[0]],\n",
    "                       'affiliations': [tuplas[1]],\n",
    "                       'author_id': [tuplas[2]],\n",
    "                       'cited_by': [tuplas[3]],\n",
    "                       'interests': [tuplas[4]]})\n",
    "            return df\n",
    "    \n",
    "    #verifies the affiliation, the profile found is the one that i'm searching for\n",
    "    \n",
    "   "
   ],
   "metadata": {
    "collapsed": false,
    "ExecuteTime": {
     "end_time": "2023-11-24T14:21:07.296725Z",
     "start_time": "2023-11-24T14:21:07.219785Z"
    }
   },
   "id": "f1dbc1fd71fc6a3c"
  },
  {
   "cell_type": "code",
   "execution_count": 110,
   "outputs": [
    {
     "name": "stdout",
     "output_type": "stream",
     "text": [
      "Università Degli Studi Di Udine\n",
      "David La Barbera\n",
      "               name                     affiliations     author_id  cited_by  \\\n",
      "0  David La Barbera  Università Degli Studi Di Udine  MvN8wKEAAAAJ       139   \n",
      "\n",
      "                                           interests  \n",
      "0  [{'title': 'Computer Science', 'serpapi_link':...  \n"
     ]
    }
   ],
   "source": [
    "\n",
    "print(list_profile(apikey, 'David La Barbera', 'Università Degli Studi Di Udine'))"
   ],
   "metadata": {
    "collapsed": false,
    "ExecuteTime": {
     "end_time": "2023-11-24T14:21:07.988135Z",
     "start_time": "2023-11-24T14:21:07.795449Z"
    }
   },
   "id": "c014dd090b279555"
  },
  {
   "cell_type": "code",
   "execution_count": 97,
   "outputs": [
    {
     "name": "stdout",
     "output_type": "stream",
     "text": [
      "à\n"
     ]
    }
   ],
   "source": [
    "print(chr(224))"
   ],
   "metadata": {
    "collapsed": false,
    "ExecuteTime": {
     "end_time": "2023-11-24T14:17:05.349200Z",
     "start_time": "2023-11-24T14:17:05.294165Z"
    }
   },
   "id": "8e86d20d14fec039"
  },
  {
   "cell_type": "code",
   "execution_count": 75,
   "outputs": [
    {
     "ename": "NameError",
     "evalue": "name 'profiles' is not defined",
     "output_type": "error",
     "traceback": [
      "\u001B[0;31m---------------------------------------------------------------------------\u001B[0m",
      "\u001B[0;31mNameError\u001B[0m                                 Traceback (most recent call last)",
      "Cell \u001B[0;32mIn[75], line 6\u001B[0m\n\u001B[1;32m      3\u001B[0m df_temp \u001B[38;5;241m=\u001B[39m pd\u001B[38;5;241m.\u001B[39mDataFrame(columns\u001B[38;5;241m=\u001B[39m[\u001B[38;5;124m'\u001B[39m\u001B[38;5;124mname\u001B[39m\u001B[38;5;124m'\u001B[39m,\u001B[38;5;124m'\u001B[39m\u001B[38;5;124maffiliations\u001B[39m\u001B[38;5;124m'\u001B[39m,\u001B[38;5;124m'\u001B[39m\u001B[38;5;124mauthor_id\u001B[39m\u001B[38;5;124m'\u001B[39m,\u001B[38;5;124m'\u001B[39m\u001B[38;5;124mcited_by\u001B[39m\u001B[38;5;124m'\u001B[39m,\u001B[38;5;124m'\u001B[39m\u001B[38;5;124minterests\u001B[39m\u001B[38;5;124m'\u001B[39m])\n\u001B[1;32m      5\u001B[0m \u001B[38;5;28;01mfor\u001B[39;00m index, row \u001B[38;5;129;01min\u001B[39;00m df_nodes\u001B[38;5;241m.\u001B[39miterrows():\n\u001B[0;32m----> 6\u001B[0m     df_temp\u001B[38;5;241m=\u001B[39mpd\u001B[38;5;241m.\u001B[39mconcat([df_temp,(\u001B[43mlist_profile\u001B[49m\u001B[43m(\u001B[49m\u001B[43mapikey\u001B[49m\u001B[43m,\u001B[49m\u001B[43m \u001B[49m\u001B[43mrow\u001B[49m\u001B[43m[\u001B[49m\u001B[38;5;241;43m0\u001B[39;49m\u001B[43m]\u001B[49m\u001B[43m,\u001B[49m\u001B[43m \u001B[49m\u001B[43mrow\u001B[49m\u001B[43m[\u001B[49m\u001B[38;5;241;43m1\u001B[39;49m\u001B[43m]\u001B[49m\u001B[43m)\u001B[49m)])\n\u001B[1;32m      7\u001B[0m     \u001B[38;5;66;03m##df_temp.concat(list_profile(apikey, row[0], row[1]))\u001B[39;00m\n\u001B[1;32m      8\u001B[0m df_temp\n",
      "Cell \u001B[0;32mIn[73], line 19\u001B[0m, in \u001B[0;36mlist_profile\u001B[0;34m(apiKey, name, affiliation)\u001B[0m\n\u001B[1;32m     15\u001B[0m citedBy \u001B[38;5;241m=\u001B[39m results[\u001B[38;5;124m\"\u001B[39m\u001B[38;5;124mprofiles\u001B[39m\u001B[38;5;124m\"\u001B[39m][\u001B[38;5;241m0\u001B[39m][\u001B[38;5;124m\"\u001B[39m\u001B[38;5;124mcited_by\u001B[39m\u001B[38;5;124m\"\u001B[39m]\n\u001B[1;32m     16\u001B[0m interests \u001B[38;5;241m=\u001B[39m results[\u001B[38;5;124m\"\u001B[39m\u001B[38;5;124mprofiles\u001B[39m\u001B[38;5;124m\"\u001B[39m][\u001B[38;5;241m0\u001B[39m][\u001B[38;5;124m\"\u001B[39m\u001B[38;5;124minterests\u001B[39m\u001B[38;5;124m\"\u001B[39m]\n\u001B[0;32m---> 19\u001B[0m profilo \u001B[38;5;241m=\u001B[39m \u001B[43mprofiles\u001B[49m[\u001B[38;5;124m'\u001B[39m\u001B[38;5;124mprofiles\u001B[39m\u001B[38;5;124m'\u001B[39m];\n\u001B[1;32m     22\u001B[0m \u001B[38;5;28;01mfor\u001B[39;00m i \u001B[38;5;129;01min\u001B[39;00m results[\u001B[38;5;124m\"\u001B[39m\u001B[38;5;124mprofiles\u001B[39m\u001B[38;5;124m\"\u001B[39m]:\n\u001B[1;32m     23\u001B[0m     \u001B[38;5;28mprint\u001B[39m(i)\n",
      "\u001B[0;31mNameError\u001B[0m: name 'profiles' is not defined"
     ]
    }
   ],
   "source": [
    "\n",
    "\n",
    "df_nodes = pd.read_csv(r\"Data/nodes.csv\")\n",
    "\n",
    "df_temp = pd.DataFrame(columns=['name','affiliations','author_id','cited_by','interests'])\n",
    "\n",
    "for index, row in df_nodes.iterrows():\n",
    "    df_temp=pd.concat([df_temp,(list_profile(apikey, row[0], row[1]))])\n",
    "    ##df_temp.concat(list_profile(apikey, row[0], row[1]))\n",
    "df_temp"
   ],
   "metadata": {
    "collapsed": false,
    "ExecuteTime": {
     "end_time": "2023-11-24T14:07:43.845264Z",
     "start_time": "2023-11-24T14:07:43.467269Z"
    }
   },
   "id": "d3f0af508e2bc0b4"
  },
  {
   "cell_type": "code",
   "execution_count": 26,
   "outputs": [
    {
     "data": {
      "text/plain": "                 name                                       affiliations  \\\n0    David La Barbera                    Università Degli Studi Di Udine   \n1     Michael Soprano  Postdoctoral Research Fellow at the University...   \n2       Kevin Roitero                                University of Udine   \n3     Stefano Mizzaro  Full professor of Computer Science and Informa...   \n4       Damiano Spina  School of Computing Technologies, RMIT University   \n5  Gianluca Demartini  Associate Professor at the University of Queen...   \n6      Eddy Maddalena             Università degli Studi di Udine, Italy   \n\n  author_id  cited_by  interests  \n0                 NaN        NaN  \n1                 NaN        NaN  \n2                 NaN        NaN  \n3                 NaN        NaN  \n4                 NaN        NaN  \n5                 NaN        NaN  \n6                 NaN        NaN  ",
      "text/html": "<div>\n<style scoped>\n    .dataframe tbody tr th:only-of-type {\n        vertical-align: middle;\n    }\n\n    .dataframe tbody tr th {\n        vertical-align: top;\n    }\n\n    .dataframe thead th {\n        text-align: right;\n    }\n</style>\n<table border=\"1\" class=\"dataframe\">\n  <thead>\n    <tr style=\"text-align: right;\">\n      <th></th>\n      <th>name</th>\n      <th>affiliations</th>\n      <th>author_id</th>\n      <th>cited_by</th>\n      <th>interests</th>\n    </tr>\n  </thead>\n  <tbody>\n    <tr>\n      <th>0</th>\n      <td>David La Barbera</td>\n      <td>Università Degli Studi Di Udine</td>\n      <td></td>\n      <td>NaN</td>\n      <td>NaN</td>\n    </tr>\n    <tr>\n      <th>1</th>\n      <td>Michael Soprano</td>\n      <td>Postdoctoral Research Fellow at the University...</td>\n      <td></td>\n      <td>NaN</td>\n      <td>NaN</td>\n    </tr>\n    <tr>\n      <th>2</th>\n      <td>Kevin Roitero</td>\n      <td>University of Udine</td>\n      <td></td>\n      <td>NaN</td>\n      <td>NaN</td>\n    </tr>\n    <tr>\n      <th>3</th>\n      <td>Stefano Mizzaro</td>\n      <td>Full professor of Computer Science and Informa...</td>\n      <td></td>\n      <td>NaN</td>\n      <td>NaN</td>\n    </tr>\n    <tr>\n      <th>4</th>\n      <td>Damiano Spina</td>\n      <td>School of Computing Technologies, RMIT University</td>\n      <td></td>\n      <td>NaN</td>\n      <td>NaN</td>\n    </tr>\n    <tr>\n      <th>5</th>\n      <td>Gianluca Demartini</td>\n      <td>Associate Professor at the University of Queen...</td>\n      <td></td>\n      <td>NaN</td>\n      <td>NaN</td>\n    </tr>\n    <tr>\n      <th>6</th>\n      <td>Eddy Maddalena</td>\n      <td>Università degli Studi di Udine, Italy</td>\n      <td></td>\n      <td>NaN</td>\n      <td>NaN</td>\n    </tr>\n  </tbody>\n</table>\n</div>"
     },
     "execution_count": 26,
     "metadata": {},
     "output_type": "execute_result"
    }
   ],
   "source": [],
   "metadata": {
    "collapsed": false,
    "ExecuteTime": {
     "end_time": "2023-11-24T13:07:00.845389Z",
     "start_time": "2023-11-24T13:07:00.795299Z"
    }
   },
   "id": "59f2ff9f192d78fd"
  },
  {
   "cell_type": "markdown",
   "source": [
    "## 2. Analisi dei Coautori tramite SerpAPI su Google Scholar\n",
    "\n",
    "### a. Ottenere i Coautori dei 7 Autori Principali\n",
    "\n",
    "Per ciascuno dei 7 autori, utilizzare il suo ID per accedere al relativo profilo Google Scholar e scaricare l'elenco dei suoi coautori utilizzando SerpAPI. Con tale elenco di nomi:;\n",
    "\n",
    "#### a.1. Ricerca dei Coautori su Google Scholar\n",
    "\n",
    "Utilizzare le SerpAPI per cercare su Google Scholar un ricercatore che corrisponde a ciascun nome nella lista di coautori. Per ogni risultato, salvare le informazioni come `name`, `affiliations`, `author_id`, `cited_by`, e `interests` in un nuovo DataFrame contenente tutte queste informazioni relative ai coautori dei 7 autori originari.\n",
    "\n",
    "### b. Concatenazione dei DataFrame\n",
    "\n",
    "Concatenare il DataFrame contenente le informazioni sui 7 autori principali con quello dei coautori generato al punto 2a in un unico DataFrame.\n",
    "\n",
    "### c. Creazione del DataFrame delle Relazioni di Co-Authorship\n",
    "\n",
    "Creare un terzo DataFrame con le colonne `author1` e `author2` che rappresenta le co-authorship. In questo DataFrame, una riga rappresenta un arco di coauthorship tra due autori. La co-authorship è binaria, non pesata.\n",
    "\n",
    "#### Esempio\n",
    "\n",
    "Se David La Barbera e Michael Soprano sono coautori, una riga del DataFrame creato al punto 2c rappresenterà questa relazione.\n",
    "\n",
    "### Risultati Finali\n",
    "\n",
    "A questo punto, saranno stati prodotti due DataFrame:\n",
    "\n",
    "- Uno contenente le informazioni relative agli autori (originali + i relativi coautori), con le colonne `name`, `affiliations`, `cited_by`, `interests`. Salvare come `nodes.csv` nella cartella `/data` tale DataFrame.\n",
    "\n",
    "- Un altro per le relazioni di co-authorship dai 7 autori principali verso i relativi coautori, con colonne `author1` e `author2`. Salvare come `edges.csv` nella cartella `/data` tale DataFrame.\n",
    "\n",
    "\n",
    "\n"
   ],
   "metadata": {
    "collapsed": false
   },
   "id": "a30775e4cb2ccd3c"
  },
  {
   "cell_type": "code",
   "execution_count": null,
   "outputs": [],
   "source": [
    "def get_name_coauthors(apiKey, authorID):\n",
    "    \n",
    "    base_url = \"https://serpapi.com/search\"\n",
    "    \n",
    "    params = {\n",
    "        \"api_key\": apiKey,\n",
    "        \"engine\": \"google_scholar_author\",\n",
    "        \"hl\": \"en\",\n",
    "        \"author_id\": authorID\n",
    "    }\n",
    "    \n",
    "    response = requests.get(base_url, params = params)\n",
    "    results = response.json()\n",
    "    \n",
    "    return #dataset"
   ],
   "metadata": {
    "collapsed": false
   },
   "id": "1fef1b5300f58116"
  },
  {
   "cell_type": "code",
   "execution_count": 16,
   "outputs": [
    {
     "data": {
      "text/plain": "               name                     affiliations     author_id  cited_by  \\\n0  David La Barbera  Università Degli Studi Di Udine  MvN8wKEAAAAJ       139   \n\n                                           interests  \n0  [{'title': 'Computer Science', 'serpapi_link':...  ",
      "text/html": "<div>\n<style scoped>\n    .dataframe tbody tr th:only-of-type {\n        vertical-align: middle;\n    }\n\n    .dataframe tbody tr th {\n        vertical-align: top;\n    }\n\n    .dataframe thead th {\n        text-align: right;\n    }\n</style>\n<table border=\"1\" class=\"dataframe\">\n  <thead>\n    <tr style=\"text-align: right;\">\n      <th></th>\n      <th>name</th>\n      <th>affiliations</th>\n      <th>author_id</th>\n      <th>cited_by</th>\n      <th>interests</th>\n    </tr>\n  </thead>\n  <tbody>\n    <tr>\n      <th>0</th>\n      <td>David La Barbera</td>\n      <td>Università Degli Studi Di Udine</td>\n      <td>MvN8wKEAAAAJ</td>\n      <td>139</td>\n      <td>[{'title': 'Computer Science', 'serpapi_link':...</td>\n    </tr>\n  </tbody>\n</table>\n</div>"
     },
     "execution_count": 16,
     "metadata": {},
     "output_type": "execute_result"
    }
   ],
   "source": [
    "\n",
    "\n",
    "df_Coauthors = pd.DataFrame(columns=['name','affiliations','author_id','cited_by','interests'])\n",
    "\n",
    "file = open('all_profiles_for_larry_page.json')\n",
    "res = json.load(file)\n"
   ],
   "metadata": {
    "collapsed": false,
    "ExecuteTime": {
     "end_time": "2023-11-24T10:08:55.606276Z",
     "start_time": "2023-11-24T10:08:51.420352Z"
    }
   },
   "id": "af8f69fe4368948f"
  },
  {
   "cell_type": "code",
   "execution_count": null,
   "outputs": [],
   "source": [],
   "metadata": {
    "collapsed": false
   },
   "id": "663e422dd4abb3c7"
  },
  {
   "cell_type": "code",
   "execution_count": null,
   "outputs": [],
   "source": [],
   "metadata": {
    "collapsed": false
   },
   "id": "620bb04a2fd145c5"
  },
  {
   "cell_type": "code",
   "execution_count": null,
   "outputs": [],
   "source": [
    "\n",
    "\n",
    "apikey = {\n",
    "    'SERP_API_KEY_FAVA': \"1ae8a37d9b3dabb5732fcd7a9cb57410194766951242a4f4ac5bbd9fb7012048\",\n",
    "    'SERP_API_KEY_LIGUGNANA': \"11a077a8bee5bb1c2a25af914046bc7ce53050b3416e5720239e43223c63374b\",\n",
    "    'SERP_API_KEY_PARAVANO': \"42b4919fd319f0ff32c19ae31a88b4ff67a544e29ca2a017905088b2ae11e60e\",\n",
    "    'SERP_API_KEY_TAMMARO': \"6eaf5a9a0d2eef8bf026a947a3dffbb0d31cb1d6e122b81c0e6062f6b23a4c40\"\n",
    "}\n",
    "apikey = \"1ae8a37d9b3dabb5732fcd7a9cb57410194766951242a4f4ac5bbd9fb7012048\"\n",
    "\n",
    "\n",
    "def key_choice():\n",
    "    return random.choice(list(apikey.items()))[1]\n",
    "\n",
    "\n",
    "#for che cambi la key se da errore la chiamata\n",
    "\n",
    "key_choice()\n",
    "\n",
    "\n",
    "def list_profile(apiKey, name, affiliation):\n",
    "    base_url = \"https://serpapi.com/search\"\n",
    "\n",
    "    params = {\n",
    "        \"api_key\": apiKey,\n",
    "        \"engine\": \"google_scholar_profiles\",\n",
    "        \"hl\": \"en\",\n",
    "        \"mauthors\": name\n",
    "    }\n",
    "\n",
    "    search = GoogleScholarSearch(params)\n",
    "    profiles = search.get_dict()\n",
    "    profili = profiles[\"profiles\"]\n",
    "\n",
    "\n",
    "    for profilo in profili:\n",
    "        print(f'Cheave: {profilo}, Valore: {profilo}')\n",
    "    \n",
    "    \n",
    "\n",
    "\n",
    "\n",
    "    response = requests.get(base_url, params=params)\n",
    "    results = response.json()\n",
    "\n",
    "    authorId = results[\"profiles\"][0][\"author_id\"]  #save author_id from of the author\n",
    "    citedBy = results[\"profiles\"][0][\"cited_by\"]\n",
    "    interests = results[\"profiles\"][0][\"interests\"]\n",
    "\n",
    "    print(affiliation)\n",
    "    print(name)\n",
    "\n",
    "    for profile in results[\"profiles\"]:\n",
    "        print(profile[\"affi\"])\n",
    "        if profile[\"affiliations\"] == affiliation and profile[\"name\"] == name:\n",
    "            print('mario')\n",
    "            tuple = tuple((name, affiliation, authorId, citedBy, interests))\n",
    "            df = pd.DataFrame({'name': [tuple[0]],\n",
    "                               'affiliations': [tuple[1]],\n",
    "                               'author_id': [tuple[2]],\n",
    "                               'cited_by': [tuple[3]],\n",
    "                               'interests': [tuple[4]]})\n",
    "            return df\n",
    "\n"
   ],
   "metadata": {
    "collapsed": false
   },
   "id": "247a81388462f6c5"
  }
 ],
 "metadata": {
  "kernelspec": {
   "display_name": "Python 3",
   "language": "python",
   "name": "python3"
  },
  "language_info": {
   "codemirror_mode": {
    "name": "ipython",
    "version": 2
   },
   "file_extension": ".py",
   "mimetype": "text/x-python",
   "name": "python",
   "nbconvert_exporter": "python",
   "pygments_lexer": "ipython2",
   "version": "2.7.6"
  }
 },
 "nbformat": 4,
 "nbformat_minor": 5
}
