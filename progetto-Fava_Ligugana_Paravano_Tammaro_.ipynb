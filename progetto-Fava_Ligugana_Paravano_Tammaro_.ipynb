{
 "cells": [
  {
   "cell_type": "code",
   "execution_count": 71,
   "id": "initial_id",
   "metadata": {
    "ExecuteTime": {
     "end_time": "2023-11-29T15:56:15.519551Z",
     "start_time": "2023-11-29T15:56:15.495836Z"
    }
   },
   "outputs": [],
   "source": [
    "import pandas as pd\n",
    "import numpy as np\n",
    "import networkx as nx\n",
    "from pyvis import network as net\n",
    "from pyvis.network import Network\n",
    "import random\n",
    "#from serpapi import GoogleScholarSearch\n",
    "import json\n",
    "import requests"
   ]
  },
  {
   "cell_type": "markdown",
   "id": "a7c8419b1b4e97ba",
   "metadata": {
    "collapsed": false
   },
   "source": [
    "# Creation of DataFarme"
   ]
  },
  {
   "cell_type": "code",
   "execution_count": 55,
   "id": "a9ce5ae54aa56156",
   "metadata": {
    "collapsed": false,
    "ExecuteTime": {
     "end_time": "2023-11-29T15:56:17.927348Z",
     "start_time": "2023-11-29T15:56:17.870355Z"
    }
   },
   "outputs": [],
   "source": [
    "#import given dataframe nodes\n",
    "nodes = pd.read_csv(\"Data/nodes.csv\")\n",
    "\n",
    "nodes['author_id'] = None\n",
    "nodes['cited_by'] = None \n",
    "nodes['interests'] = None\n",
    "nodes.to_csv('Data/nodes.csv', index=False)\n",
    "\n",
    "edges = pd.DataFrame(columns=['author1','author2']) \n",
    "edges.to_csv('Data/edges.csv', index=False)"
   ]
  },
  {
   "cell_type": "markdown",
   "id": "efe3d2f3a4b86336",
   "metadata": {
    "collapsed": false
   },
   "source": [
    "## ES 1\n",
    "A partire da nodes.csv, utilizzare la libreria Python SerpAPI per scaricare, per ciascuno dei 7 autori elencati:\n",
    "- author_id: ID identificativo del profilo Google Scholar\n",
    "- cited_by: numero totale di citazioni ricevute\n",
    "- interests: elenco degli interessi di ciascun autore\n",
    "Sfruttando la libreria Python Pandas, usare la struttura dati DataFrame per aggiornare il file originale con apposite colonne e memorizzarlo nella cartella /data."
   ]
  },
  {
   "cell_type": "code",
   "execution_count": 73,
   "id": "5a2d7124c3f1ac47",
   "metadata": {
    "collapsed": false,
    "ExecuteTime": {
     "end_time": "2023-11-29T15:56:23.724329Z",
     "start_time": "2023-11-29T15:56:23.713102Z"
    }
   },
   "outputs": [
    {
     "data": {
      "text/plain": "'\\ndef key_choice():\\n    return random.choice(list(apikey.items()))[1]\\n'"
     },
     "execution_count": 73,
     "metadata": {},
     "output_type": "execute_result"
    }
   ],
   "source": [
    "#dictionary with the keys\n",
    "listApikey ={\n",
    "    'SERP_API_KEY_FAVA': \"1ae8a37d9b3dabb5732fcd7a9cb57410194766951242a4f4ac5bbd9fb7012048\", \n",
    "    'SERP_API_KEY_LIGUGNANA': \"11a077a8bee5bb1c2a25af914046bc7ce53050b3416e5720239e43223c63374b\",\n",
    "    'SERP_API_KEY_PARAVANO' :  \"42b4919fd319f0ff32c19ae31a88b4ff67a544e29ca2a017905088b2ae11e60e\",\n",
    "    'SERP_API_KEY_TAMMARO': \"6eaf5a9a0d2eef8bf026a947a3dffbb0d31cb1d6e122b81c0e6062f6b23a4c40\"\n",
    "}\n",
    "\n",
    "#key in use right now\n",
    "apikey = \"11a077a8bee5bb1c2a25af914046bc7ce53050b3416e5720239e43223c63374b\"\n",
    "\n",
    "#function to randomise the key in use\n",
    "'''\n",
    "def key_choice():\n",
    "    return random.choice(list(apikey.items()))[1]\n",
    "'''\n"
   ]
  },
  {
   "cell_type": "code",
   "execution_count": 74,
   "id": "2fd01d1d-0802-47f0-8cde-93da8625cfb3",
   "metadata": {
    "ExecuteTime": {
     "end_time": "2023-11-29T15:56:25.399733Z",
     "start_time": "2023-11-29T15:56:25.364639Z"
    }
   },
   "outputs": [],
   "source": [
    "#overwrite the row of nodes with df_update in the right position\n",
    "#if the author given isn't in nodes, then it will get concatenated\n",
    "\n",
    "def update_nodes(df_update, nodes):\n",
    "    \n",
    "    #read nodes csv\n",
    "    nodesMod = pd.read_csv(r'Data/nodes.csv')\n",
    "\n",
    "    print('nome: ', df_update[\"name\"][0])\n",
    "\n",
    "    #check if the author is in nodes using attributre name as parameter\n",
    "    if (nodes[\"name\"] == df_update[\"name\"][0]).any():\n",
    "        print('già presente in nodes')\n",
    "        #if author is already in nodes update the present row with df_update\n",
    "        for index in range(len(nodes)):\n",
    "            if nodes[\"name\"][index] == df_update[\"name\"][0]:\n",
    "                print('sta sovrascrivendo con: ', df_update.iloc[0])\n",
    "                nodesMod.iloc[index]=df_update.iloc[0]\n",
    "                nodesMod.to_csv(r'Data/nodes.csv', index=False) #overwrite the csv with the new row\n",
    "    else:\n",
    "        #if the author isn't already in nodes we concatenete it\n",
    "        nodesMod = pd.concat([nodesMod, df_update], ignore_index=True)\n",
    "        nodesMod.to_csv(r'Data/nodes.csv', index=False) #overwrite the csv by adding df_update at the end\n",
    "            "
   ]
  },
  {
   "cell_type": "code",
   "execution_count": 54,
   "id": "f1dbc1fd71fc6a3c",
   "metadata": {
    "collapsed": false,
    "ExecuteTime": {
     "end_time": "2023-11-29T15:56:26.974333Z",
     "start_time": "2023-11-29T15:56:26.963310Z"
    }
   },
   "outputs": [],
   "source": [
    "#author_profile returns a dataframe with name, affiliations, author_id, cited_by, interests of a given author\n",
    "\n",
    "def author_profile(apiKey, name, affiliation,nodes):\n",
    "    \n",
    "    base_url = \"https://serpapi.com/search\"\n",
    "    \n",
    "    #search among scholar profiles for the one with the given name\n",
    "    params = {\n",
    "        \"api_key\": apiKey,\n",
    "        \"engine\": \"google_scholar_profiles\",\n",
    "        \"hl\": \"en\",\n",
    "        \"mauthors\": name\n",
    "    }      \n",
    "    \n",
    "    #save the request response in json\n",
    "    response = requests.get(base_url, params = params)\n",
    "    results = response.json()\n",
    "    \n",
    "    #save the results in a json\n",
    "    name_json = \"json/\"+name + \".json\"\n",
    "    \n",
    "    with open(name_json, 'w', encoding='utf-8') as f:\n",
    "        json.dump(results, f, ensure_ascii=False, indent=4)\n",
    "    \n",
    "    print( results)\n",
    "    #scroll through profiles to verifies if the profile found is the one that wa are searching for\n",
    "    for profile in results[\"profiles\"]:\n",
    "        \n",
    "        #affiliation and name are those given as input to the function\n",
    "        if (profile[\"affiliations\"] in affiliation) and (profile[\"name\"] in name):\n",
    "                \n",
    "            #save the information needed for the right author\n",
    "            authorId = profile[\"author_id\"] \n",
    "            citedBy = profile[\"cited_by\"]\n",
    "            if 'interests' in profile:\n",
    "                if profile[\"interests\"] == '':\n",
    "                    interests = \", \".join([i['title'] for i in profile[\"interests\"]]) #select only titles for each interest, join to remove the square brackets (now seen as a single string instead of a list) \n",
    "                else:\n",
    "                    interests = ''\n",
    "            else:\n",
    "                profile['interests'] = ''\n",
    "            #create a new row of the dataframe with all the information needed and return it\n",
    "            df_update = pd.DataFrame({'name': [name],\n",
    "                               'affiliations': [affiliation],\n",
    "                               'author_id': [authorId],\n",
    "                               'cited_by': [citedBy],\n",
    "                               'interests': [interests]})\n",
    "            \n",
    "            #update the nodes row with additional author information\n",
    "            update_nodes(df_update,nodes)"
   ]
  },
  {
   "cell_type": "code",
   "execution_count": 54,
   "id": "8fb63309-32d8-453b-a501-8a63f260b582",
   "metadata": {
    "ExecuteTime": {
     "end_time": "2023-11-29T15:32:13.485459Z",
     "start_time": "2023-11-29T15:32:12.470894Z"
    }
   },
   "outputs": [
    {
     "name": "stdout",
     "output_type": "stream",
     "text": [
      "{'search_metadata': {'id': '6567550937014cca95498a29', 'status': 'Success', 'json_endpoint': 'https://serpapi.com/searches/348534f47eb0b84d/6567550937014cca95498a29.json', 'created_at': '2023-11-29 15:13:13 UTC', 'processed_at': '2023-11-29 15:13:13 UTC', 'google_scholar_profiles_url': 'https://scholar.google.com/citations?mauthors=Wolfgang+Nejdl&view_op=search_authors&hl=en', 'raw_html_file': 'https://serpapi.com/searches/348534f47eb0b84d/6567550937014cca95498a29.html', 'total_time_taken': 0.86}, 'search_parameters': {'engine': 'google_scholar_profiles', 'mauthors': 'Wolfgang Nejdl', 'hl': 'en'}, 'profiles': [{'name': 'Wolfgang Nejdl', 'link': 'https://scholar.google.com/citations?hl=en&user=LC62bdYAAAAJ', 'serpapi_link': 'https://serpapi.com/search.json?author_id=LC62bdYAAAAJ&engine=google_scholar_author&hl=en', 'author_id': 'LC62bdYAAAAJ', 'affiliations': 'Professor of Computer Science, Leibniz Universität Hannover, L3S Research Center …', 'email': 'Verified email at kbs.uni-hannover.de', 'cited_by': 25466, 'interests': [{'title': 'Information Retrieval', 'serpapi_link': 'https://serpapi.com/search.json?engine=google_scholar_profiles&hl=en&mauthors=label%3Ainformation_retrieval', 'link': 'https://scholar.google.com/citations?hl=en&view_op=search_authors&mauthors=label:information_retrieval'}, {'title': 'Web Science', 'serpapi_link': 'https://serpapi.com/search.json?engine=google_scholar_profiles&hl=en&mauthors=label%3Aweb_science', 'link': 'https://scholar.google.com/citations?hl=en&view_op=search_authors&mauthors=label:web_science'}, {'title': 'Social Media', 'serpapi_link': 'https://serpapi.com/search.json?engine=google_scholar_profiles&hl=en&mauthors=label%3Asocial_media', 'link': 'https://scholar.google.com/citations?hl=en&view_op=search_authors&mauthors=label:social_media'}, {'title': 'Data Mining', 'serpapi_link': 'https://serpapi.com/search.json?engine=google_scholar_profiles&hl=en&mauthors=label%3Adata_mining', 'link': 'https://scholar.google.com/citations?hl=en&view_op=search_authors&mauthors=label:data_mining'}, {'title': 'Semantic Technologies', 'serpapi_link': 'https://serpapi.com/search.json?engine=google_scholar_profiles&hl=en&mauthors=label%3Asemantic_technologies', 'link': 'https://scholar.google.com/citations?hl=en&view_op=search_authors&mauthors=label:semantic_technologies'}], 'thumbnail': 'https://scholar.googleusercontent.com/citations?view_op=small_photo&user=LC62bdYAAAAJ&citpid=3'}]}\n",
      "nome:  Wolfgang Nejdl\n",
      "già presente in nodes\n",
      "sta sovrascrivendo con:  name                                               Wolfgang Nejdl\n",
      "affiliations    Professor of Computer Science, Leibniz Univers...\n",
      "author_id                                            LC62bdYAAAAJ\n",
      "cited_by                                                    25466\n",
      "interests                                                    None\n",
      "Name: 0, dtype: object\n",
      "None\n"
     ]
    }
   ],
   "source": [
    "nodes = pd.read_csv(\"Data/nodes.csv\")\n",
    "\n",
    "print(author_profile(apikey,\"Wolfgang Nejdl\" ,\"Professor of Computer Science, Leibniz Universität Hannover, L3S Research Center …\", nodes))\n"
   ]
  },
  {
   "cell_type": "code",
   "execution_count": 55,
   "outputs": [
    {
     "data": {
      "text/plain": "{'search_metadata': {'id': '65675791f55d77e73f1a1d3f',\n  'status': 'Success',\n  'json_endpoint': 'https://serpapi.com/searches/0c24b68b768bb180/65675791f55d77e73f1a1d3f.json',\n  'created_at': '2023-11-29 15:24:01 UTC',\n  'processed_at': '2023-11-29 15:24:01 UTC',\n  'google_scholar_profiles_url': 'https://scholar.google.com/citations?mauthors=Claudiu+S.+Firan&view_op=search_authors&hl=en',\n  'raw_html_file': 'https://serpapi.com/searches/0c24b68b768bb180/65675791f55d77e73f1a1d3f.html',\n  'total_time_taken': 0.32},\n 'search_parameters': {'engine': 'google_scholar_profiles',\n  'mauthors': 'Claudiu S. Firan',\n  'hl': 'en'},\n 'profiles': [{'name': 'Claudiu S. Firan',\n   'link': 'https://scholar.google.com/citations?hl=en&user=SRc8aowAAAAJ',\n   'serpapi_link': 'https://serpapi.com/search.json?author_id=SRc8aowAAAAJ&engine=google_scholar_author&hl=en',\n   'author_id': 'SRc8aowAAAAJ',\n   'affiliations': '',\n   'email': 'Verified email at l3s.de',\n   'cited_by': 1742,\n   'thumbnail': 'https://scholar.googleusercontent.com/citations?view_op=small_photo&user=SRc8aowAAAAJ&citpid=2'}]}"
     },
     "execution_count": 55,
     "metadata": {},
     "output_type": "execute_result"
    }
   ],
   "source": [
    "base_url = \"https://serpapi.com/search\"\n",
    "    \n",
    "#search among scholar profiles for the one with the given name\n",
    "params = {\n",
    "    \"api_key\": apikey,\n",
    "    \"engine\": \"google_scholar_profiles\",\n",
    "    \"hl\": \"en\",\n",
    "    \"mauthors\": 'Claudiu S. Firan'\n",
    "}      \n",
    "\n",
    "response = requests.get(base_url, params = params)\n",
    "results = response.json()\n",
    "results\n"
   ],
   "metadata": {
    "collapsed": false,
    "ExecuteTime": {
     "end_time": "2023-11-29T15:32:19.859263Z",
     "start_time": "2023-11-29T15:32:19.458534Z"
    }
   },
   "id": "9b8e365caa0d8dd5"
  },
  {
   "cell_type": "code",
   "execution_count": 76,
   "id": "d3f0af508e2bc0b4",
   "metadata": {
    "collapsed": false,
    "ExecuteTime": {
     "end_time": "2023-11-29T15:56:34.888246Z",
     "start_time": "2023-11-29T15:56:34.846152Z"
    }
   },
   "outputs": [],
   "source": [
    "#nodes_information return a dataframe with name, affiliations, author_id, cited_by, interests;\n",
    "#for each node in the given dataframe containing name and affiliation for each author \n",
    "\n",
    "def nodes_information(apikey, df):\n",
    "    \n",
    "    #iterate the row of the given df, for each one makes the call to the author_profile\n",
    "    for index, row in df.iterrows():\n",
    "        author_data = author_profile(apikey, row['name'], row['affiliations'])\n",
    "        "
   ]
  },
  {
   "cell_type": "markdown",
   "id": "9476559ebc8c0101",
   "metadata": {
    "collapsed": false
   },
   "source": [
    "## Main es 1"
   ]
  },
  {
   "cell_type": "code",
   "execution_count": 142,
   "id": "98b8a090688a5a23",
   "metadata": {
    "ExecuteTime": {
     "end_time": "2023-11-25T10:45:04.660942Z",
     "start_time": "2023-11-25T10:44:46.964020Z"
    },
    "collapsed": false
   },
   "outputs": [],
   "source": [
    "#get the final dataframe of the 7 originals authors with name, affiliations, author_id, cited_by, interests \n",
    "nodes_information(apikey, nodes)"
   ]
  },
  {
   "cell_type": "markdown",
   "id": "a30775e4cb2ccd3c",
   "metadata": {
    "collapsed": false,
    "ExecuteTime": {
     "end_time": "2023-11-29T09:30:46.313355Z",
     "start_time": "2023-11-29T09:30:46.304143Z"
    }
   },
   "source": [
    "## 2. Analisi dei Coautori tramite SerpAPI su Google Scholar\n",
    "\n",
    "### a. Ottenere i Coautori dei 7 Autori Principali\n",
    "\n",
    "Per ciascuno dei 7 autori, utilizzare il suo ID per accedere al relativo profilo Google Scholar e scaricare l'elenco dei suoi coautori utilizzando SerpAPI. Con tale elenco di nomi:;\n",
    "\n",
    "#### a.1. Ricerca dei Coautori su Google Scholar\n",
    "\n",
    "Utilizzare le SerpAPI per cercare su Google Scholar un ricercatore che corrisponde a ciascun nome nella lista di coautori. Per ogni risultato, salvare le informazioni come `name`, `affiliations`, `author_id`, `cited_by`, e `interests` in un nuovo DataFrame contenente tutte queste informazioni relative ai coautori dei 7 autori originari.\n",
    "\n",
    "### b. Concatenazione dei DataFrame\n",
    "\n",
    "Concatenare il DataFrame contenente le informazioni sui 7 autori principali con quello dei coautori generato al punto 2a in un unico DataFrame.\n",
    "\n",
    "### c. Creazione del DataFrame delle Relazioni di Co-Authorship\n",
    "\n",
    "Creare un terzo DataFrame con le colonne `author1` e `author2` che rappresenta le co-authorship. In questo DataFrame, una riga rappresenta un arco di coauthorship tra due autori. La co-authorship è binaria, non pesata.\n",
    "\n",
    "#### Esempio\n",
    "\n",
    "Se David La Barbera e Michael Soprano sono coautori, una riga del DataFrame creato al punto 2c rappresenterà questa relazione.\n",
    "\n",
    "### Risultati Finali\n",
    "\n",
    "A questo punto, saranno stati prodotti due DataFrame:\n",
    "\n",
    "- Uno contenente le informazioni relative agli autori (originali + i relativi coautori), con le colonne `name`, `affiliations`, `cited_by`, `interests`. Salvare come `nodes.csv` nella cartella `/data` tale DataFrame.\n",
    "\n",
    "- Un altro per le relazioni di co-authorship dai 7 autori principali verso i relativi coautori, con colonne `author1` e `author2`. Salvare come `edges.csv` nella cartella `/data` tale DataFrame.\n",
    "\n",
    "\n",
    "\n",
    "\n",
    "\n",
    "\n",
    "\n",
    "\n"
   ]
  },
  {
   "cell_type": "code",
   "execution_count": 56,
   "outputs": [],
   "source": [
    "def get_profile_coauthors(apiKey, authorID,nodes):\n",
    "    base_url = \"https://serpapi.com/search\"\n",
    "\n",
    "    #search among scholar profiles for the one with the given author_id\n",
    "    params = {\n",
    "        \"api_key\": apiKey,\n",
    "        \"engine\": \"google_scholar_author\",\n",
    "        \"hl\": \"en\",\n",
    "        \"author_id\": authorID\n",
    "    }\n",
    "    response = requests.get(base_url, params = params)\n",
    "    results = response.json()\n",
    "    \n",
    "    name_json = \"json/\"+authorID + \".json\"\n",
    "    with open(name_json, 'w', encoding='utf-8') as f:\n",
    "        json.dump(results, f, ensure_ascii=False, indent=4)\n",
    "    \n",
    "    #crea solo un dataFrame di appoggio con colonna name e affiliations, secondo me non serve, ammno che non venga usato da qualche aletra parte\n",
    "    authorName = results[\"author\"]\n",
    "    edges = pd.read_csv(r'Data/edges.csv')\n",
    "    #for each coauthor save name and affiliation in a dataframe\n",
    "    for coautore in results['co_authors']:\n",
    "        coppie_da_cercare = [(authorName[\"name\"], coautore['name']), (coautore['name'], authorName[\"name\"])]\n",
    "        #Cicla attraverso il DataFrame e verifica le condizioni\n",
    "        trovato = True\n",
    "        for index, row in edges.iterrows():\n",
    "            if (row['author1'], row['author2']) in coppie_da_cercare or (row['author2'], row['author1']) in coppie_da_cercare:\n",
    "                #esiste gia un collegamento tra aurtore e coautore o viceversa\n",
    "                trovato = False\n",
    "        if(trovato):\n",
    "            row_edge = pd.DataFrame([{'author1' : authorName[\"name\"], 'author2': coautore['name']}])\n",
    "            edges = pd.concat([edges, row_edge], ignore_index=True)\n",
    "        #adding coauthors to nodes\n",
    "        print('affiliation:',coautore['affiliations'])\n",
    "        if 'affiliations' in coautore:\n",
    "            if coautore['affiliations'] == '':\n",
    "                print('if ',coautore['affiliations'])\n",
    "                author_profile(apiKey, coautore['name'], '', nodes)\n",
    "            else:\n",
    "                print('else ',coautore['affiliations'])\n",
    "                author_profile(apiKey, coautore['name'], coautore['affiliations'], nodes)\n",
    "        else:\n",
    "            coautore['affiliations'] = ''\n",
    "\n",
    "    edges.to_csv(r'Data/edges.csv', index=False)"
   ],
   "metadata": {
    "collapsed": false,
    "ExecuteTime": {
     "end_time": "2023-11-29T15:56:40.778406Z",
     "start_time": "2023-11-29T15:56:40.747439Z"
    }
   },
   "id": "bf9cedc6faf850d9"
  },
  {
   "cell_type": "code",
   "execution_count": 78,
   "outputs": [
    {
     "name": "stdout",
     "output_type": "stream",
     "text": [
      "affiliation: University of Udine\n",
      "else  University of Udine\n",
      "{'search_metadata': {'id': '65675afd359e996139ead0dc', 'status': 'Success', 'json_endpoint': 'https://serpapi.com/searches/dd4d4a53a5768782/65675afd359e996139ead0dc.json', 'created_at': '2023-11-29 15:38:37 UTC', 'processed_at': '2023-11-29 15:38:37 UTC', 'google_scholar_profiles_url': 'https://scholar.google.com/citations?mauthors=Kevin+Roitero&view_op=search_authors&hl=en', 'raw_html_file': 'https://serpapi.com/searches/dd4d4a53a5768782/65675afd359e996139ead0dc.html', 'total_time_taken': 1.23}, 'search_parameters': {'engine': 'google_scholar_profiles', 'mauthors': 'Kevin Roitero', 'hl': 'en'}, 'profiles': [{'name': 'Kevin Roitero', 'link': 'https://scholar.google.com/citations?hl=en&user=1xd52jMAAAAJ', 'serpapi_link': 'https://serpapi.com/search.json?author_id=1xd52jMAAAAJ&engine=google_scholar_author&hl=en', 'author_id': '1xd52jMAAAAJ', 'affiliations': 'University of Udine', 'email': 'Verified email at uniud.it', 'cited_by': 691, 'interests': [{'title': 'Artificial Intelligence', 'serpapi_link': 'https://serpapi.com/search.json?engine=google_scholar_profiles&hl=en&mauthors=label%3Aartificial_intelligence', 'link': 'https://scholar.google.com/citations?hl=en&view_op=search_authors&mauthors=label:artificial_intelligence'}, {'title': 'Crowdsourcing and Human Computation', 'serpapi_link': 'https://serpapi.com/search.json?engine=google_scholar_profiles&hl=en&mauthors=label%3Acrowdsourcing_and_human_computation', 'link': 'https://scholar.google.com/citations?hl=en&view_op=search_authors&mauthors=label:crowdsourcing_and_human_computation'}, {'title': 'Information Retrieval', 'serpapi_link': 'https://serpapi.com/search.json?engine=google_scholar_profiles&hl=en&mauthors=label%3Ainformation_retrieval', 'link': 'https://scholar.google.com/citations?hl=en&view_op=search_authors&mauthors=label:information_retrieval'}], 'thumbnail': 'https://scholar.googleusercontent.com/citations?view_op=small_photo&user=1xd52jMAAAAJ&citpid=6'}]}\n",
      "nome:  Kevin Roitero\n",
      "già presente in nodes\n",
      "sta sovrascrivendo con:  name                  Kevin Roitero\n",
      "affiliations    University of Udine\n",
      "author_id              1xd52jMAAAAJ\n",
      "cited_by                        691\n",
      "interests                          \n",
      "Name: 0, dtype: object\n",
      "affiliation: Full professor of Computer Science and Information Technology\n",
      "else  Full professor of Computer Science and Information Technology\n",
      "{'search_metadata': {'id': '65675affd3aba2d67db46ab5', 'status': 'Success', 'json_endpoint': 'https://serpapi.com/searches/baf45db5cddfec45/65675affd3aba2d67db46ab5.json', 'created_at': '2023-11-29 15:38:39 UTC', 'processed_at': '2023-11-29 15:38:39 UTC', 'google_scholar_profiles_url': 'https://scholar.google.com/citations?mauthors=Stefano+Mizzaro&view_op=search_authors&hl=en', 'raw_html_file': 'https://serpapi.com/searches/baf45db5cddfec45/65675affd3aba2d67db46ab5.html', 'total_time_taken': 1.58}, 'search_parameters': {'engine': 'google_scholar_profiles', 'mauthors': 'Stefano Mizzaro', 'hl': 'en'}, 'profiles': [{'name': 'Stefano Mizzaro', 'link': 'https://scholar.google.com/citations?hl=en&user=2wvJC6IAAAAJ', 'serpapi_link': 'https://serpapi.com/search.json?author_id=2wvJC6IAAAAJ&engine=google_scholar_author&hl=en', 'author_id': '2wvJC6IAAAAJ', 'affiliations': 'Full professor of Computer Science and Information Technology', 'email': 'Verified email at uniud.it', 'cited_by': 4742, 'interests': [{'title': 'Information retrieval', 'serpapi_link': 'https://serpapi.com/search.json?engine=google_scholar_profiles&hl=en&mauthors=label%3Ainformation_retrieval', 'link': 'https://scholar.google.com/citations?hl=en&view_op=search_authors&mauthors=label:information_retrieval'}, {'title': 'mobile systems', 'serpapi_link': 'https://serpapi.com/search.json?engine=google_scholar_profiles&hl=en&mauthors=label%3Amobile_systems', 'link': 'https://scholar.google.com/citations?hl=en&view_op=search_authors&mauthors=label:mobile_systems'}, {'title': 'scholarly publishing', 'serpapi_link': 'https://serpapi.com/search.json?engine=google_scholar_profiles&hl=en&mauthors=label%3Ascholarly_publishing', 'link': 'https://scholar.google.com/citations?hl=en&view_op=search_authors&mauthors=label:scholarly_publishing'}, {'title': 'crowdsourcing', 'serpapi_link': 'https://serpapi.com/search.json?engine=google_scholar_profiles&hl=en&mauthors=label%3Acrowdsourcing', 'link': 'https://scholar.google.com/citations?hl=en&view_op=search_authors&mauthors=label:crowdsourcing'}, {'title': 'misinformation and fake news detection', 'serpapi_link': 'https://serpapi.com/search.json?engine=google_scholar_profiles&hl=en&mauthors=label%3Amisinformation_and_fake_news_detection', 'link': 'https://scholar.google.com/citations?hl=en&view_op=search_authors&mauthors=label:misinformation_and_fake_news_detection'}], 'thumbnail': 'https://scholar.googleusercontent.com/citations?view_op=small_photo&user=2wvJC6IAAAAJ&citpid=1'}]}\n",
      "nome:  Stefano Mizzaro\n",
      "già presente in nodes\n",
      "sta sovrascrivendo con:  name                                              Stefano Mizzaro\n",
      "affiliations    Full professor of Computer Science and Informa...\n",
      "author_id                                            2wvJC6IAAAAJ\n",
      "cited_by                                                     4742\n",
      "interests                                                        \n",
      "Name: 0, dtype: object\n",
      "affiliation: Associate Professor at the University of Queensland\n",
      "else  Associate Professor at the University of Queensland\n",
      "{'search_metadata': {'id': '656757dd66440a0beb4bfa78', 'status': 'Success', 'json_endpoint': 'https://serpapi.com/searches/2c92b487f32c0ced/656757dd66440a0beb4bfa78.json', 'created_at': '2023-11-29 15:25:17 UTC', 'processed_at': '2023-11-29 15:25:17 UTC', 'google_scholar_profiles_url': 'https://scholar.google.com/citations?mauthors=Gianluca+Demartini&view_op=search_authors&hl=en', 'raw_html_file': 'https://serpapi.com/searches/2c92b487f32c0ced/656757dd66440a0beb4bfa78.html', 'total_time_taken': 1.12}, 'search_parameters': {'engine': 'google_scholar_profiles', 'mauthors': 'Gianluca Demartini', 'hl': 'en'}, 'profiles': [{'name': 'Gianluca Demartini', 'link': 'https://scholar.google.com/citations?hl=en&user=PCAiILsAAAAJ', 'serpapi_link': 'https://serpapi.com/search.json?author_id=PCAiILsAAAAJ&engine=google_scholar_author&hl=en', 'author_id': 'PCAiILsAAAAJ', 'affiliations': 'Associate Professor at the University of Queensland', 'email': 'Verified email at cs.berkeley.edu', 'cited_by': 5355, 'interests': [{'title': 'Information Retrieval', 'serpapi_link': 'https://serpapi.com/search.json?engine=google_scholar_profiles&hl=en&mauthors=label%3Ainformation_retrieval', 'link': 'https://scholar.google.com/citations?hl=en&view_op=search_authors&mauthors=label:information_retrieval'}, {'title': 'Semantic Web', 'serpapi_link': 'https://serpapi.com/search.json?engine=google_scholar_profiles&hl=en&mauthors=label%3Asemantic_web', 'link': 'https://scholar.google.com/citations?hl=en&view_op=search_authors&mauthors=label:semantic_web'}, {'title': 'Human Computation', 'serpapi_link': 'https://serpapi.com/search.json?engine=google_scholar_profiles&hl=en&mauthors=label%3Ahuman_computation', 'link': 'https://scholar.google.com/citations?hl=en&view_op=search_authors&mauthors=label:human_computation'}, {'title': 'Crowdsourcing', 'serpapi_link': 'https://serpapi.com/search.json?engine=google_scholar_profiles&hl=en&mauthors=label%3Acrowdsourcing', 'link': 'https://scholar.google.com/citations?hl=en&view_op=search_authors&mauthors=label:crowdsourcing'}], 'thumbnail': 'https://scholar.googleusercontent.com/citations?view_op=small_photo&user=PCAiILsAAAAJ&citpid=6'}]}\n",
      "nome:  Gianluca Demartini\n",
      "già presente in nodes\n",
      "sta sovrascrivendo con:  name                                           Gianluca Demartini\n",
      "affiliations    Associate Professor at the University of Queen...\n",
      "author_id                                            PCAiILsAAAAJ\n",
      "cited_by                                                     5355\n",
      "interests                                                        \n",
      "Name: 0, dtype: object\n",
      "affiliation: School of Computing Technologies, RMIT University\n",
      "else  School of Computing Technologies, RMIT University\n",
      "{'search_metadata': {'id': '65675f52a1b42334f62e673c', 'status': 'Success', 'json_endpoint': 'https://serpapi.com/searches/6e3e997fbac12d9e/65675f52a1b42334f62e673c.json', 'created_at': '2023-11-29 15:57:06 UTC', 'processed_at': '2023-11-29 15:57:06 UTC', 'google_scholar_profiles_url': 'https://scholar.google.com/citations?mauthors=Damiano+Spina&view_op=search_authors&hl=en', 'raw_html_file': 'https://serpapi.com/searches/6e3e997fbac12d9e/65675f52a1b42334f62e673c.html', 'total_time_taken': 0.16}, 'search_parameters': {'engine': 'google_scholar_profiles', 'mauthors': 'Damiano Spina', 'hl': 'en'}, 'profiles': [{'name': 'Damiano Spina', 'link': 'https://scholar.google.com/citations?hl=en&user=sLzYrNYAAAAJ', 'serpapi_link': 'https://serpapi.com/search.json?author_id=sLzYrNYAAAAJ&engine=google_scholar_author&hl=en', 'author_id': 'sLzYrNYAAAAJ', 'affiliations': 'School of Computing Technologies, RMIT University', 'email': 'Verified email at rmit.edu.au', 'cited_by': 2491, 'interests': [{'title': 'Information Retrieval', 'serpapi_link': 'https://serpapi.com/search.json?engine=google_scholar_profiles&hl=en&mauthors=label%3Ainformation_retrieval', 'link': 'https://scholar.google.com/citations?hl=en&view_op=search_authors&mauthors=label:information_retrieval'}, {'title': 'Text Analytics', 'serpapi_link': 'https://serpapi.com/search.json?engine=google_scholar_profiles&hl=en&mauthors=label%3Atext_analytics', 'link': 'https://scholar.google.com/citations?hl=en&view_op=search_authors&mauthors=label:text_analytics'}, {'title': 'Data Science', 'serpapi_link': 'https://serpapi.com/search.json?engine=google_scholar_profiles&hl=en&mauthors=label%3Adata_science', 'link': 'https://scholar.google.com/citations?hl=en&view_op=search_authors&mauthors=label:data_science'}, {'title': 'Evaluation', 'serpapi_link': 'https://serpapi.com/search.json?engine=google_scholar_profiles&hl=en&mauthors=label%3Aevaluation', 'link': 'https://scholar.google.com/citations?hl=en&view_op=search_authors&mauthors=label:evaluation'}, {'title': 'Human-AI Fact-checking', 'serpapi_link': 'https://serpapi.com/search.json?engine=google_scholar_profiles&hl=en&mauthors=label%3Ahuman_ai_fact_checking', 'link': 'https://scholar.google.com/citations?hl=en&view_op=search_authors&mauthors=label:human_ai_fact_checking'}], 'thumbnail': 'https://scholar.googleusercontent.com/citations?view_op=small_photo&user=sLzYrNYAAAAJ&citpid=8'}]}\n",
      "nome:  Damiano Spina\n",
      "già presente in nodes\n",
      "sta sovrascrivendo con:  name                                                Damiano Spina\n",
      "affiliations    School of Computing Technologies, RMIT University\n",
      "author_id                                            sLzYrNYAAAAJ\n",
      "cited_by                                                     2491\n",
      "interests                                                        \n",
      "Name: 0, dtype: object\n",
      "affiliation: Postdoctoral Research Fellow at the University of Udine\n",
      "else  Postdoctoral Research Fellow at the University of Udine\n",
      "{'search_metadata': {'id': '65675f53359e9961d2f6e740', 'status': 'Success', 'json_endpoint': 'https://serpapi.com/searches/2a927c1d21d70cf7/65675f53359e9961d2f6e740.json', 'created_at': '2023-11-29 15:57:07 UTC', 'processed_at': '2023-11-29 15:57:07 UTC', 'google_scholar_profiles_url': 'https://scholar.google.com/citations?mauthors=Michael+Soprano&view_op=search_authors&hl=en', 'raw_html_file': 'https://serpapi.com/searches/2a927c1d21d70cf7/65675f53359e9961d2f6e740.html', 'total_time_taken': 0.87}, 'search_parameters': {'engine': 'google_scholar_profiles', 'mauthors': 'Michael Soprano', 'hl': 'en'}, 'profiles': [{'name': 'Michael Soprano', 'link': 'https://scholar.google.com/citations?hl=en&user=ocK0qRUAAAAJ', 'serpapi_link': 'https://serpapi.com/search.json?author_id=ocK0qRUAAAAJ&engine=google_scholar_author&hl=en', 'author_id': 'ocK0qRUAAAAJ', 'affiliations': 'Postdoctoral Research Fellow at the University of Udine', 'email': 'Verified email at uniud.it', 'cited_by': 211, 'interests': [{'title': 'Crowdsourcing', 'serpapi_link': 'https://serpapi.com/search.json?engine=google_scholar_profiles&hl=en&mauthors=label%3Acrowdsourcing', 'link': 'https://scholar.google.com/citations?hl=en&view_op=search_authors&mauthors=label:crowdsourcing'}, {'title': 'Misinformation Assessment', 'serpapi_link': 'https://serpapi.com/search.json?engine=google_scholar_profiles&hl=en&mauthors=label%3Amisinformation_assessment', 'link': 'https://scholar.google.com/citations?hl=en&view_op=search_authors&mauthors=label:misinformation_assessment'}, {'title': 'Cognitive Biases', 'serpapi_link': 'https://serpapi.com/search.json?engine=google_scholar_profiles&hl=en&mauthors=label%3Acognitive_biases', 'link': 'https://scholar.google.com/citations?hl=en&view_op=search_authors&mauthors=label:cognitive_biases'}], 'thumbnail': 'https://scholar.googleusercontent.com/citations?view_op=small_photo&user=ocK0qRUAAAAJ&citpid=2'}]}\n",
      "nome:  Michael Soprano\n",
      "già presente in nodes\n",
      "sta sovrascrivendo con:  name                                              Michael Soprano\n",
      "affiliations    Postdoctoral Research Fellow at the University...\n",
      "author_id                                            ocK0qRUAAAAJ\n",
      "cited_by                                                      211\n",
      "interests                                                        \n",
      "Name: 0, dtype: object\n",
      "affiliation: Associate Professor of Medical Informatics, University of Udine\n",
      "else  Associate Professor of Medical Informatics, University of Udine\n",
      "{'search_metadata': {'id': '65675f54aa6c95dc631f1143', 'status': 'Success', 'json_endpoint': 'https://serpapi.com/searches/916ba13f148c3b4f/65675f54aa6c95dc631f1143.json', 'created_at': '2023-11-29 15:57:08 UTC', 'processed_at': '2023-11-29 15:57:08 UTC', 'google_scholar_profiles_url': 'https://scholar.google.com/citations?mauthors=Vincenzo+Della+Mea&view_op=search_authors&hl=en', 'raw_html_file': 'https://serpapi.com/searches/916ba13f148c3b4f/65675f54aa6c95dc631f1143.html', 'total_time_taken': 0.79}, 'search_parameters': {'engine': 'google_scholar_profiles', 'mauthors': 'Vincenzo Della Mea', 'hl': 'en'}, 'profiles': [{'name': 'Vincenzo Della Mea', 'link': 'https://scholar.google.com/citations?hl=en&user=BF3B4KAAAAAJ', 'serpapi_link': 'https://serpapi.com/search.json?author_id=BF3B4KAAAAAJ&engine=google_scholar_author&hl=en', 'author_id': 'BF3B4KAAAAAJ', 'affiliations': 'Associate Professor of Medical Informatics, University of Udine', 'email': 'Verified email at uniud.it', 'cited_by': 2892, 'interests': [{'title': 'medical informatics', 'serpapi_link': 'https://serpapi.com/search.json?engine=google_scholar_profiles&hl=en&mauthors=label%3Amedical_informatics', 'link': 'https://scholar.google.com/citations?hl=en&view_op=search_authors&mauthors=label:medical_informatics'}, {'title': 'telemedicine', 'serpapi_link': 'https://serpapi.com/search.json?engine=google_scholar_profiles&hl=en&mauthors=label%3Atelemedicine', 'link': 'https://scholar.google.com/citations?hl=en&view_op=search_authors&mauthors=label:telemedicine'}, {'title': 'digital pathology', 'serpapi_link': 'https://serpapi.com/search.json?engine=google_scholar_profiles&hl=en&mauthors=label%3Adigital_pathology', 'link': 'https://scholar.google.com/citations?hl=en&view_op=search_authors&mauthors=label:digital_pathology'}, {'title': 'biomedical classifications and ontologies', 'serpapi_link': 'https://serpapi.com/search.json?engine=google_scholar_profiles&hl=en&mauthors=label%3Abiomedical_classifications_and_ontologies', 'link': 'https://scholar.google.com/citations?hl=en&view_op=search_authors&mauthors=label:biomedical_classifications_and_ontologies'}], 'thumbnail': 'https://scholar.googleusercontent.com/citations?view_op=small_photo&user=BF3B4KAAAAAJ&citpid=7'}]}\n",
      "nome:  Vincenzo Della Mea\n",
      "affiliation: Tenured Researcher, CWI Amsterdam\n",
      "else  Tenured Researcher, CWI Amsterdam\n",
      "{'search_metadata': {'id': '65675f55fa86757ba53fd530', 'status': 'Success', 'json_endpoint': 'https://serpapi.com/searches/1f8f5a107af2ef1b/65675f55fa86757ba53fd530.json', 'created_at': '2023-11-29 15:57:09 UTC', 'processed_at': '2023-11-29 15:57:09 UTC', 'google_scholar_profiles_url': 'https://scholar.google.com/citations?mauthors=Davide+Ceolin&view_op=search_authors&hl=en', 'raw_html_file': 'https://serpapi.com/searches/1f8f5a107af2ef1b/65675f55fa86757ba53fd530.html', 'total_time_taken': 1.23}, 'search_parameters': {'engine': 'google_scholar_profiles', 'mauthors': 'Davide Ceolin', 'hl': 'en'}, 'profiles': [{'name': 'Davide Ceolin', 'link': 'https://scholar.google.com/citations?hl=en&user=y8Jy518AAAAJ', 'serpapi_link': 'https://serpapi.com/search.json?author_id=y8Jy518AAAAJ&engine=google_scholar_author&hl=en', 'author_id': 'y8Jy518AAAAJ', 'affiliations': 'Tenured Researcher, CWI Amsterdam', 'email': 'Verified email at cwi.nl', 'cited_by': 498, 'interests': [{'title': 'Information Quality', 'serpapi_link': 'https://serpapi.com/search.json?engine=google_scholar_profiles&hl=en&mauthors=label%3Ainformation_quality', 'link': 'https://scholar.google.com/citations?hl=en&view_op=search_authors&mauthors=label:information_quality'}, {'title': 'Trust', 'serpapi_link': 'https://serpapi.com/search.json?engine=google_scholar_profiles&hl=en&mauthors=label%3Atrust', 'link': 'https://scholar.google.com/citations?hl=en&view_op=search_authors&mauthors=label:trust'}, {'title': 'Semantic Web', 'serpapi_link': 'https://serpapi.com/search.json?engine=google_scholar_profiles&hl=en&mauthors=label%3Asemantic_web', 'link': 'https://scholar.google.com/citations?hl=en&view_op=search_authors&mauthors=label:semantic_web'}, {'title': 'Probabilistic Logic', 'serpapi_link': 'https://serpapi.com/search.json?engine=google_scholar_profiles&hl=en&mauthors=label%3Aprobabilistic_logic', 'link': 'https://scholar.google.com/citations?hl=en&view_op=search_authors&mauthors=label:probabilistic_logic'}, {'title': 'Provenance', 'serpapi_link': 'https://serpapi.com/search.json?engine=google_scholar_profiles&hl=en&mauthors=label%3Aprovenance', 'link': 'https://scholar.google.com/citations?hl=en&view_op=search_authors&mauthors=label:provenance'}], 'thumbnail': 'https://scholar.google.com/citations/images/avatar_scholar_56.png'}]}\n",
      "nome:  Davide Ceolin\n",
      "affiliation: OTTO\n",
      "else  OTTO\n",
      "{'search_metadata': {'id': '65675f589b6472fad7b8a6a9', 'status': 'Success', 'json_endpoint': 'https://serpapi.com/searches/8c1729583de1208c/65675f589b6472fad7b8a6a9.json', 'created_at': '2023-11-29 15:57:12 UTC', 'processed_at': '2023-11-29 15:57:12 UTC', 'google_scholar_profiles_url': 'https://scholar.google.com/citations?mauthors=Tim+Draws&view_op=search_authors&hl=en', 'raw_html_file': 'https://serpapi.com/searches/8c1729583de1208c/65675f589b6472fad7b8a6a9.html', 'total_time_taken': 0.42}, 'search_parameters': {'engine': 'google_scholar_profiles', 'mauthors': 'Tim Draws', 'hl': 'en'}, 'profiles': [{'name': 'Tim Draws', 'link': 'https://scholar.google.com/citations?hl=en&user=UTMHOZMAAAAJ', 'serpapi_link': 'https://serpapi.com/search.json?author_id=UTMHOZMAAAAJ&engine=google_scholar_author&hl=en', 'author_id': 'UTMHOZMAAAAJ', 'affiliations': 'OTTO', 'email': 'Verified email at otto.de', 'cited_by': 1206, 'interests': [{'title': 'Human-Computer Interaction', 'serpapi_link': 'https://serpapi.com/search.json?engine=google_scholar_profiles&hl=en&mauthors=label%3Ahuman_computer_interaction', 'link': 'https://scholar.google.com/citations?hl=en&view_op=search_authors&mauthors=label:human_computer_interaction'}, {'title': 'Web Search', 'serpapi_link': 'https://serpapi.com/search.json?engine=google_scholar_profiles&hl=en&mauthors=label%3Aweb_search', 'link': 'https://scholar.google.com/citations?hl=en&view_op=search_authors&mauthors=label:web_search'}, {'title': 'Research Methods', 'serpapi_link': 'https://serpapi.com/search.json?engine=google_scholar_profiles&hl=en&mauthors=label%3Aresearch_methods', 'link': 'https://scholar.google.com/citations?hl=en&view_op=search_authors&mauthors=label:research_methods'}], 'thumbnail': 'https://scholar.googleusercontent.com/citations?view_op=small_photo&user=UTMHOZMAAAAJ&citpid=3'}]}\n",
      "nome:  Tim Draws\n",
      "affiliation: The University of Queensland\n",
      "else  The University of Queensland\n",
      "{'search_metadata': {'id': '65675f59c573d5333f0bbcad', 'status': 'Success', 'json_endpoint': 'https://serpapi.com/searches/e8366c5caee25b4a/65675f59c573d5333f0bbcad.json', 'created_at': '2023-11-29 15:57:13 UTC', 'processed_at': '2023-11-29 15:57:13 UTC', 'google_scholar_profiles_url': 'https://scholar.google.com/citations?mauthors=Joel+Mackenzie&view_op=search_authors&hl=en', 'raw_html_file': 'https://serpapi.com/searches/e8366c5caee25b4a/65675f59c573d5333f0bbcad.html', 'total_time_taken': 0.74}, 'search_parameters': {'engine': 'google_scholar_profiles', 'mauthors': 'Joel Mackenzie', 'hl': 'en'}, 'profiles': [{'name': 'Joel Mackenzie', 'link': 'https://scholar.google.com/citations?hl=en&user=3jQ1Zh4AAAAJ', 'serpapi_link': 'https://serpapi.com/search.json?author_id=3jQ1Zh4AAAAJ&engine=google_scholar_author&hl=en', 'author_id': '3jQ1Zh4AAAAJ', 'affiliations': 'The University of Queensland', 'email': 'Verified email at uq.edu.au', 'cited_by': 646, 'interests': [{'title': 'Information Retrieval', 'serpapi_link': 'https://serpapi.com/search.json?engine=google_scholar_profiles&hl=en&mauthors=label%3Ainformation_retrieval', 'link': 'https://scholar.google.com/citations?hl=en&view_op=search_authors&mauthors=label:information_retrieval'}, {'title': 'Web Search', 'serpapi_link': 'https://serpapi.com/search.json?engine=google_scholar_profiles&hl=en&mauthors=label%3Aweb_search', 'link': 'https://scholar.google.com/citations?hl=en&view_op=search_authors&mauthors=label:web_search'}, {'title': 'Algorithms', 'serpapi_link': 'https://serpapi.com/search.json?engine=google_scholar_profiles&hl=en&mauthors=label%3Aalgorithms', 'link': 'https://scholar.google.com/citations?hl=en&view_op=search_authors&mauthors=label:algorithms'}, {'title': 'Information Systems', 'serpapi_link': 'https://serpapi.com/search.json?engine=google_scholar_profiles&hl=en&mauthors=label%3Ainformation_systems', 'link': 'https://scholar.google.com/citations?hl=en&view_op=search_authors&mauthors=label:information_systems'}], 'thumbnail': 'https://scholar.googleusercontent.com/citations?view_op=small_photo&user=3jQ1Zh4AAAAJ&citpid=8'}]}\n",
      "nome:  Joel Mackenzie\n"
     ]
    }
   ],
   "source": [
    "nodes = pd.read_csv(\"Data/nodes.csv\")\n",
    "\n",
    "get_profile_coauthors(apikey,'MvN8wKEAAAAJ',nodes)"
   ],
   "metadata": {
    "collapsed": false,
    "ExecuteTime": {
     "end_time": "2023-11-29T15:57:13.982617Z",
     "start_time": "2023-11-29T15:57:01.760593Z"
    }
   },
   "id": "31c86618c9a1dcaa"
  },
  {
   "cell_type": "markdown",
   "id": "68036c8dc6b9ff20",
   "metadata": {
    "collapsed": false
   },
   "source": [
    "## Main es 2"
   ]
  },
  {
   "cell_type": "code",
   "execution_count": 17,
   "id": "af8f69fe4368948f",
   "metadata": {
    "ExecuteTime": {
     "end_time": "2023-11-24T10:08:55.606276Z",
     "start_time": "2023-11-24T10:08:51.420352Z"
    },
    "collapsed": false
   },
   "outputs": [],
   "source": [
    "##df_Coauthors = pd.DataFrame(columns=['name','affiliations','author_id','cited_by','interests'])\n",
    "nodes = pd.read_csv(r'Data/nodes.csv')\n",
    "for autore in nodes[\"author_id\"]:\n",
    "    get_profile_coauthors(apikey,autore,nodes)\n"
   ]
  },
  {
   "cell_type": "markdown",
   "id": "cbc21ff5eac9e78",
   "metadata": {
    "collapsed": false
   },
   "source": [
    "\n",
    "\n",
    "# Parte 3\n",
    "Usare il due dataset per creare grafico indiretto:\n",
    "a. Generare un grafo indiretto che ne rappresenta le informazioni contenute.\n",
    "Salvare (serializzare) il grafo in locale nella cartella /graphs .\n",
    "b. Visualizzare il grafo prodotto colorando i nodi a seconda del loro grado con le\n",
    "seguenti colorazioni: grigio per nodi con grado uguale a 1, blu per nodi con grado compreso tra 2 e 10, viola per nodi con grado compreso tra 11 e 20, giallo per nodi con grado maggiore di 20. Inoltre, per ciascun nodo visualizzare il nome dell’autore. Salvare la visualizzazione nella cartella /visualizations.\n",
    "\n",
    "\n"
   ]
  },
  {
   "cell_type": "code",
   "execution_count": 57,
   "id": "427a0e34d58cde2f",
   "metadata": {
    "ExecuteTime": {
     "end_time": "2023-11-24T15:40:25.263650Z",
     "start_time": "2023-11-24T15:40:25.010838Z"
    },
    "collapsed": false
   },
   "outputs": [
    {
     "data": {
      "text/plain": "<Figure size 640x480 with 1 Axes>",
      "image/png": "[encoded data removed]"
     },
     "metadata": {},
     "output_type": "display_data"
    }
   ],
   "source": [
    "import matplotlib.pyplot as plt\n",
    "\n",
    "G = nx.Graph()\n",
    "G.add_edge('Alice', 'Bob')\n",
    "G.add_edge('Alice', 'Cindy')\n",
    "G.add_edge('Alice', 'Dave')\n",
    "G.add_node('Eve')  # Eve non è connessa a nessuno, la aggiungo a mano\n",
    "\n",
    "# 1.2 | Aggiungo gli attributi ai nodi\n",
    "for node in G.nodes:\n",
    "    G.nodes[node]['name'] = node\n",
    "    G.nodes[node]['age'] = random.randint(20, 30) \n",
    "\n",
    "# 1.3 | Visualizzo il grafo\n",
    "nx.draw(G, with_labels=True)\n",
    "plt.show()\n"
   ]
  },
  {
   "cell_type": "code",
   "execution_count": 130,
   "id": "bde6ef691a0d87e0",
   "metadata": {
    "ExecuteTime": {
     "end_time": "2023-11-24T15:42:54.298709Z",
     "start_time": "2023-11-24T15:42:53.743696Z"
    },
    "collapsed": false
   },
   "outputs": [
    {
     "name": "stdout",
     "output_type": "stream",
     "text": [
      "Centralità di grado:\n"
     ]
    },
    {
     "data": {
      "text/html": [
       "<div>\n",
       "<style scoped>\n",
       "    .dataframe tbody tr th:only-of-type {\n",
       "        vertical-align: middle;\n",
       "    }\n",
       "\n",
       "    .dataframe tbody tr th {\n",
       "        vertical-align: top;\n",
       "    }\n",
       "\n",
       "    .dataframe thead th {\n",
       "        text-align: right;\n",
       "    }\n",
       "</style>\n",
       "<table border=\"1\" class=\"dataframe\">\n",
       "  <thead>\n",
       "    <tr style=\"text-align: right;\">\n",
       "      <th></th>\n",
       "      <th>node</th>\n",
       "      <th>degree</th>\n",
       "    </tr>\n",
       "  </thead>\n",
       "  <tbody>\n",
       "    <tr>\n",
       "      <th>0</th>\n",
       "      <td>0</td>\n",
       "      <td>5</td>\n",
       "    </tr>\n",
       "    <tr>\n",
       "      <th>1</th>\n",
       "      <td>1</td>\n",
       "      <td>4</td>\n",
       "    </tr>\n",
       "    <tr>\n",
       "      <th>2</th>\n",
       "      <td>2</td>\n",
       "      <td>3</td>\n",
       "    </tr>\n",
       "    <tr>\n",
       "      <th>3</th>\n",
       "      <td>3</td>\n",
       "      <td>5</td>\n",
       "    </tr>\n",
       "    <tr>\n",
       "      <th>4</th>\n",
       "      <td>4</td>\n",
       "      <td>4</td>\n",
       "    </tr>\n",
       "    <tr>\n",
       "      <th>5</th>\n",
       "      <td>5</td>\n",
       "      <td>4</td>\n",
       "    </tr>\n",
       "    <tr>\n",
       "      <th>6</th>\n",
       "      <td>6</td>\n",
       "      <td>7</td>\n",
       "    </tr>\n",
       "    <tr>\n",
       "      <th>7</th>\n",
       "      <td>7</td>\n",
       "      <td>4</td>\n",
       "    </tr>\n",
       "    <tr>\n",
       "      <th>8</th>\n",
       "      <td>8</td>\n",
       "      <td>4</td>\n",
       "    </tr>\n",
       "    <tr>\n",
       "      <th>9</th>\n",
       "      <td>9</td>\n",
       "      <td>3</td>\n",
       "    </tr>\n",
       "    <tr>\n",
       "      <th>10</th>\n",
       "      <td>10</td>\n",
       "      <td>4</td>\n",
       "    </tr>\n",
       "    <tr>\n",
       "      <th>11</th>\n",
       "      <td>11</td>\n",
       "      <td>4</td>\n",
       "    </tr>\n",
       "    <tr>\n",
       "      <th>12</th>\n",
       "      <td>12</td>\n",
       "      <td>4</td>\n",
       "    </tr>\n",
       "    <tr>\n",
       "      <th>13</th>\n",
       "      <td>13</td>\n",
       "      <td>3</td>\n",
       "    </tr>\n",
       "    <tr>\n",
       "      <th>14</th>\n",
       "      <td>14</td>\n",
       "      <td>2</td>\n",
       "    </tr>\n",
       "  </tbody>\n",
       "</table>\n",
       "</div>"
      ],
      "text/plain": [
       "    node  degree\n",
       "0      0       5\n",
       "1      1       4\n",
       "2      2       3\n",
       "3      3       5\n",
       "4      4       4\n",
       "5      5       4\n",
       "6      6       7\n",
       "7      7       4\n",
       "8      8       4\n",
       "9      9       3\n",
       "10    10       4\n",
       "11    11       4\n",
       "12    12       4\n",
       "13    13       3\n",
       "14    14       2"
      ]
     },
     "metadata": {},
     "output_type": "display_data"
    },
    {
     "name": "stdout",
     "output_type": "stream",
     "text": [
      "Number of edges: 30\n",
      "Average degree: 4.00\n",
      "Density: 0.29\n",
      "Most connected node: 6\n"
     ]
    },
    {
     "data": {
      "image/png": "[encoded data removed]",
      "text/plain": [
       "<Figure size 640x480 with 2 Axes>"
      ]
     },
     "metadata": {},
     "output_type": "display_data"
    }
   ],
   "source": [
    "#ES 2\n",
    "def draw(G, pos, measures, title):\n",
    "    nodes = nx.draw_networkx_nodes(G, pos, node_size = 150, cmap = plt.cm.plasma,\n",
    "                                   node_color  = list(measures.values()),\n",
    "                                   nodelist = measures.keys()\n",
    "                                   )\n",
    "    edges = nx.draw_networkx_edges(G, pos)\n",
    "    plt.title(title)\n",
    "    plt.colorbar(nodes)\n",
    "    plt.axis('off')\n",
    "    plt.show()\n",
    "    # 2.1 | Genero grafo con proprietà piccolo mondo\n",
    "G = nx.watts_strogatz_graph(15, 4, .3)\n",
    "\n",
    "# 2.2 | Centralità di grado per tutti i nodi\n",
    "degrees = dict(G.degree())\n",
    "df = pd.DataFrame(list(degrees.items()), columns=['node', 'degree'])\n",
    "print(\"Centralità di grado:\")\n",
    "display(df)\n",
    "\n",
    "\n",
    "# 2.3 | Calcolo le altre priprietà richieste\n",
    "num_edges = G.number_of_edges()\n",
    "# Grado medio \n",
    "avg_degree = sum(degrees.values()) / G.number_of_nodes()\n",
    "# Densità del grafo\n",
    "density = nx.density(G)\n",
    "# Nodo più connesso\n",
    "max_degree_node = max(degrees, key=degrees.get)\n",
    "\n",
    "print(f\"Number of edges: {num_edges}\")\n",
    "print(f\"Average degree: {avg_degree:.2f}\")\n",
    "print(f\"Density: {density:.2f}\")\n",
    "print(f\"Most connected node: {max_degree_node}\")\n",
    "# 2.4 | Visualizzo usando lo spring layout\n",
    "draw(\n",
    "    G,\n",
    "    nx.spring_layout(G),\n",
    "    nx.degree_centrality(G),\n",
    "    title = \"Visualizzazione della rete Piccolo Mondo generata\"\n",
    "      )"
   ]
  },
  {
   "cell_type": "code",
   "execution_count": 1,
   "id": "573b28fe7b355a92",
   "metadata": {
    "ExecuteTime": {
     "end_time": "2023-11-26T15:31:43.640483Z",
     "start_time": "2023-11-26T15:31:43.213257Z"
    },
    "collapsed": false
   },
   "outputs": [
    {
     "ename": "NameError",
     "evalue": "name 'nodes' is not defined",
     "output_type": "error",
     "traceback": [
      "\u001B[0;31m---------------------------------------------------------------------------\u001B[0m",
      "\u001B[0;31mNameError\u001B[0m                                 Traceback (most recent call last)",
      "Cell \u001B[0;32mIn[1], line 1\u001B[0m\n\u001B[0;32m----> 1\u001B[0m \u001B[43mnodes\u001B[49m\n\u001B[1;32m      5\u001B[0m \u001B[38;5;66;03m#usare la stessa funzione iniziale, quando passi l'id del autore e restituisce tutti i dati, di cui recuprei i coautori, crei direttamente il datframe quello dei nodi, ciclano n-volte( che saranno il numero di coaurori, e crei una riga insrendo l'Id del autore + vicino il coautore.\u001B[39;00m\n",
      "\u001B[0;31mNameError\u001B[0m: name 'nodes' is not defined"
     ]
    }
   ],
   "source": [
    "\n",
    "\n",
    "\n",
    "\n",
    "#usare la stessa funzione iniziale, quando passi l'id del autore e restituisce tutti i dati, di cui recuprei i coautori, crei direttamente il datframe quello dei nodi, ciclano n-volte( che saranno il numero di coaurori, e crei una riga insrendo l'Id del autore + vicino il coautore."
   ]
  },
  {
   "cell_type": "code",
   "execution_count": null,
   "id": "6687b40a83f977eb",
   "metadata": {
    "collapsed": false
   },
   "outputs": [],
   "source": []
  }
 ],
 "metadata": {
  "kernelspec": {
   "display_name": "Python 3 (ipykernel)",
   "language": "python",
   "name": "python3"
  },
  "language_info": {
   "codemirror_mode": {
    "name": "ipython",
    "version": 3
   },
   "file_extension": ".py",
   "mimetype": "text/x-python",
   "name": "python",
   "nbconvert_exporter": "python",
   "pygments_lexer": "ipython3",
   "version": "3.11.5"
  }
 },
 "nbformat": 4,
 "nbformat_minor": 5
}
